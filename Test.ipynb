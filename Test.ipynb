{
 "cells": [
  {
   "cell_type": "markdown",
   "metadata": {},
   "source": [
    "# Indian start-up ecosystem"
   ]
  },
  {
   "cell_type": "markdown",
   "metadata": {},
   "source": [
    "Your team is trying to venture into the Indian start-up ecosystem. As the data expert of the team, you are to investigate the ecosystem and propose the best course of action.\n",
    "Analyze funding received by start-ups in India from 2018 to 2021.\n",
    "Separate data for each year of funding will be provided.\n",
    "• In these datasets, you'll find the start-ups' details, the funding amounts received, and the investors' information"
   ]
  },
  {
   "cell_type": "code",
   "execution_count": 219,
   "metadata": {},
   "outputs": [],
   "source": [
    "import pyodbc\n",
    "from dotenv import dotenv_values\n",
    "import pandas as pd \n",
    "import matplotlib.pyplot as plt\n",
    "import numpy as np\n",
    "from scipy import stats\n",
    "from scipy.stats import f_oneway\n",
    "import statistics as stat\n",
    "import warnings\n",
    "import os\n",
    "\n",
    "warnings.filterwarnings('ignore')"
   ]
  },
  {
   "cell_type": "code",
   "execution_count": 220,
   "metadata": {},
   "outputs": [],
   "source": [
    "# Load environment variables from .env file into a dictionary\n",
    "environment_variables = dotenv_values('.env')\n",
    "\n",
    "\n",
    "# Get the values for the credentials you set in the '.env' file\n",
    "server = environment_variables.get(\"SERVER\")\n",
    "database = environment_variables.get(\"DATABASE\")\n",
    "username = environment_variables.get(\"USERNAME\")\n",
    "password = environment_variables.get(\"PASSWORD\")"
   ]
  },
  {
   "cell_type": "code",
   "execution_count": 221,
   "metadata": {},
   "outputs": [],
   "source": [
    "conn_str =f\"DRIVER={{SQL Server}};SERVER={server};DATABASE={database};UID={username};PWD={password}\""
   ]
  },
  {
   "cell_type": "code",
   "execution_count": 222,
   "metadata": {},
   "outputs": [],
   "source": [
    "connection = pyodbc.connect(conn_str)\n",
    "\n",
    "query1 = \"Select * from LP1_startup_funding2020\"\n",
    "data2020 = pd.read_sql(query1, connection)\n",
    "\n",
    "query2 = \"Select * from LP1_startup_funding2021\"\n",
    "data2021 = pd.read_sql(query2, connection)"
   ]
  },
  {
   "cell_type": "code",
   "execution_count": 223,
   "metadata": {},
   "outputs": [],
   "source": [
    "df2018 = pd.read_csv('startup_funding2018.csv')\n",
    "\n",
    "df2019 = pd.read_csv('startup_funding2019.csv')"
   ]
  },
  {
   "cell_type": "markdown",
   "metadata": {},
   "source": [
    "# STEP 1"
   ]
  },
  {
   "cell_type": "code",
   "execution_count": null,
   "metadata": {},
   "outputs": [],
   "source": [
    "# Add a Year Colunm"
   ]
  },
  {
   "cell_type": "code",
   "execution_count": 224,
   "metadata": {},
   "outputs": [],
   "source": [
    "df2018['Year']='2018'\n",
    "df2019['Year']='2019'\n",
    "data2020['Year']='2020'\n",
    "data2021['Year']='2021'"
   ]
  },
  {
   "cell_type": "markdown",
   "metadata": {},
   "source": [
    "# STEP 2"
   ]
  },
  {
   "cell_type": "markdown",
   "metadata": {},
   "source": [
    "Clean and Concat the 2 csv file 2018&2019"
   ]
  },
  {
   "cell_type": "code",
   "execution_count": 225,
   "metadata": {},
   "outputs": [],
   "source": [
    "# Drop the Colunms You see no use keeping\n",
    "\n",
    "df2019.drop(['Founded', 'Founders', 'Investor'], axis=1, inplace=True)\n",
    "data2020.drop(['Founded', 'Founders', 'Investor'], axis=1, inplace=True)\n",
    "data2021.drop(['Founded', 'Founders', 'Investor'], axis=1, inplace=True)"
   ]
  },
  {
   "cell_type": "code",
   "execution_count": 226,
   "metadata": {},
   "outputs": [],
   "source": [
    "# Select specific columns and rename them\n",
    "\n",
    "df2018 = df2018.rename(columns={'Company Name': 'Company_Brand', 'Round/Series': 'Stage', 'Industry': 'Sector', 'Amount': 'Amount', 'About Company': 'BIO', 'Location':'HeadQuarter'})\n",
    "df2019 = df2019.rename(columns={'Company/Brand': 'Company_Brand', 'Sector': 'Sector', 'Stage': 'Stage', 'Amount($)': 'Amount', 'What it does': 'BIO', 'HeadQuarter':'HeadQuarter'})\n"
   ]
  },
  {
   "cell_type": "markdown",
   "metadata": {},
   "source": [
    "# STEP 3"
   ]
  },
  {
   "cell_type": "markdown",
   "metadata": {},
   "source": [
    "Currency Convertion "
   ]
  },
  {
   "cell_type": "code",
   "execution_count": 227,
   "metadata": {},
   "outputs": [],
   "source": [
    "# Merge the two csv files \n",
    "\n",
    "df18_19 = pd.concat([df2018, df2019], ignore_index=True)"
   ]
  },
  {
   "cell_type": "code",
   "execution_count": 228,
   "metadata": {},
   "outputs": [],
   "source": [
    "# Create a new column 'currency' based on currency symbols\n",
    "\n",
    "df18_19['currency'] = df18_19['Amount'].apply(lambda x: 'INR' if '₹' in x else ('USD' if '$' in x else 'USD'))"
   ]
  },
  {
   "cell_type": "code",
   "execution_count": 229,
   "metadata": {},
   "outputs": [],
   "source": [
    "# Create columns 'amount_inr' and 'amount_usd'\n",
    "\n",
    "df18_19['amount_inr'] = df18_19.apply(lambda row: row['Amount'] if row['currency'] == 'INR' else 0, axis=1)\n",
    "df18_19['amount_usd'] = df18_19.apply(lambda row: row['Amount'] if row['currency'] == 'USD' else 0, axis=1)"
   ]
  },
  {
   "cell_type": "code",
   "execution_count": 230,
   "metadata": {},
   "outputs": [],
   "source": [
    "# Remove the currency sysmbols and the commas \n",
    "\n",
    "df18_19['amount_inr'] = df18_19['amount_inr'].str.replace('₹', '').str.replace('$', '').str.replace(',', '')\n",
    "df18_19['amount_usd'] = df18_19['amount_usd'].str.replace('₹', '').str.replace('$', '').str.replace(',', '')"
   ]
  },
  {
   "cell_type": "code",
   "execution_count": 231,
   "metadata": {},
   "outputs": [],
   "source": [
    "# Replace 'Undisclosed' values with NaN\n",
    "\n",
    "df18_19['amount_inr'] = df18_19['amount_inr'].replace('Undisclosed', np.nan, regex=True)\n",
    "df18_19['amount_usd'] = df18_19['amount_usd'].replace('Undisclosed', np.nan, regex=True)"
   ]
  },
  {
   "cell_type": "code",
   "execution_count": 232,
   "metadata": {},
   "outputs": [],
   "source": [
    "# Convert the object values into numeric values for calculation\n",
    "\n",
    "df18_19['amount_inr'] = pd.to_numeric(df18_19['amount_inr'], errors='coerce')\n",
    "df18_19['amount_usd'] = pd.to_numeric(df18_19['amount_usd'], errors='coerce')"
   ]
  },
  {
   "cell_type": "code",
   "execution_count": 233,
   "metadata": {},
   "outputs": [],
   "source": [
    "# Define the exchange rate\n",
    "exchange_rate_inr_to_usd = 1 / 83.23  # 1 USD = 83.23 INR\n",
    "\n",
    "# Convert 'amount_inr' to USD\n",
    "df18_19['amount_inr'] = df18_19['amount_inr'].apply(lambda x: x * exchange_rate_inr_to_usd if x is not None else None)"
   ]
  },
  {
   "cell_type": "code",
   "execution_count": 234,
   "metadata": {},
   "outputs": [],
   "source": [
    "# Create a new column 'Updated_Amount' by filling missing values in 'amount_inr' with 'amount_usd'\n",
    "df18_19['Updated_Amount'] = df18_19['amount_inr'].fillna(df18_19['amount_usd'])"
   ]
  },
  {
   "cell_type": "markdown",
   "metadata": {},
   "source": [
    "# STEP 4"
   ]
  },
  {
   "cell_type": "markdown",
   "metadata": {},
   "source": [
    "Clean and Concat the 2 sql file 2020&2021"
   ]
  },
  {
   "cell_type": "code",
   "execution_count": 235,
   "metadata": {},
   "outputs": [],
   "source": [
    "# Renaming the Column\n",
    "\n",
    "data2020 = data2020.rename(columns={'Company_Brand': 'Company_Brand', 'Sector': 'Sector', 'Amount': 'Amount', 'What_it_does': 'BIO', 'Location':'HeadQuarter'})\n",
    "data2021 = data2021.rename(columns={'Company_Brand': 'Company_Brand', 'Sector': 'Sector', 'Amount': 'Amount', 'What_it_does': 'BIO', 'HeadQuarter':'HeadQuarter'})"
   ]
  },
  {
   "cell_type": "code",
   "execution_count": 236,
   "metadata": {},
   "outputs": [],
   "source": [
    "# Drop a specific column in place\n",
    "\n",
    "data2020.drop(columns=['column10'], inplace=True)\n"
   ]
  },
  {
   "cell_type": "markdown",
   "metadata": {},
   "source": [
    "# STEP 5"
   ]
  },
  {
   "cell_type": "markdown",
   "metadata": {},
   "source": [
    "Currency Convertion "
   ]
  },
  {
   "cell_type": "code",
   "execution_count": 237,
   "metadata": {},
   "outputs": [],
   "source": [
    "# Merge the two sql files \n",
    "\n",
    "df20_21 = pd.concat([data2020, data2021], ignore_index=True)"
   ]
  },
  {
   "cell_type": "code",
   "execution_count": 238,
   "metadata": {},
   "outputs": [],
   "source": [
    "# Create a new column 'Updated_Amount' by filling missing values in 'amount_inr' with 'amount_usd'\n",
    "\n",
    "df20_21['Updated_Amount'] = df20_21['Amount']"
   ]
  },
  {
   "cell_type": "code",
   "execution_count": 239,
   "metadata": {},
   "outputs": [],
   "source": [
    "# Create a column 'with_$' for values with '$' sign and 'without_$' for values without '$'\n",
    "\n",
    "df20_21['with_$'] = df20_21['Updated_Amount'].apply(lambda x: x if '$' in str(x) else None)\n",
    "df20_21['without_$'] = df20_21['Updated_Amount'].apply(lambda x: x if '$' not in str(x) else None)\n"
   ]
  },
  {
   "cell_type": "code",
   "execution_count": 240,
   "metadata": {},
   "outputs": [],
   "source": [
    "# Remove the currency sysmbols and the commas \n",
    "\n",
    "df20_21['with_$'] = df20_21['with_$'].str.replace('$', '')\n"
   ]
  },
  {
   "cell_type": "code",
   "execution_count": 241,
   "metadata": {},
   "outputs": [],
   "source": [
    "# Replace 'Undisclosed' values with NaN\n",
    "\n",
    "df20_21['with_$'] = df20_21['with_$'].replace('Undisclosed', np.nan, regex=True)"
   ]
  },
  {
   "cell_type": "code",
   "execution_count": 242,
   "metadata": {},
   "outputs": [],
   "source": [
    "# Convert the object values into numeric values for calculation\n",
    "\n",
    "df20_21['with_$'] = pd.to_numeric(df20_21['with_$'], errors='coerce')\n",
    "df20_21['without_$'] = pd.to_numeric(df20_21['without_$'], errors='coerce')"
   ]
  },
  {
   "cell_type": "code",
   "execution_count": 243,
   "metadata": {},
   "outputs": [],
   "source": [
    "# Merge the two Colunms into a new colunm \n",
    "\n",
    "df20_21['Updated_Amount'] = df20_21['without_$'].fillna(df20_21['with_$'])"
   ]
  },
  {
   "cell_type": "code",
   "execution_count": 249,
   "metadata": {},
   "outputs": [
    {
     "name": "stdout",
     "output_type": "stream",
     "text": [
      "<class 'pandas.core.frame.DataFrame'>\n",
      "RangeIndex: 2264 entries, 0 to 2263\n",
      "Data columns (total 8 columns):\n",
      " #   Column          Non-Null Count  Dtype  \n",
      "---  ------          --------------  -----  \n",
      " 0   Company_Brand   2264 non-null   object \n",
      " 1   HeadQuarter     2169 non-null   object \n",
      " 2   Sector          2251 non-null   object \n",
      " 3   BIO             2264 non-null   object \n",
      " 4   Amount          2007 non-null   object \n",
      " 5   Stage           1372 non-null   object \n",
      " 6   Year            2264 non-null   object \n",
      " 7   Updated_Amount  1514 non-null   float64\n",
      "dtypes: float64(1), object(7)\n",
      "memory usage: 141.6+ KB\n"
     ]
    }
   ],
   "source": [
    "df20_21.info()"
   ]
  },
  {
   "cell_type": "code",
   "execution_count": 248,
   "metadata": {},
   "outputs": [
    {
     "name": "stdout",
     "output_type": "stream",
     "text": [
      "<class 'pandas.core.frame.DataFrame'>\n",
      "RangeIndex: 615 entries, 0 to 614\n",
      "Data columns (total 8 columns):\n",
      " #   Column          Non-Null Count  Dtype  \n",
      "---  ------          --------------  -----  \n",
      " 0   Company_Brand   615 non-null    object \n",
      " 1   Sector          610 non-null    object \n",
      " 2   Stage           569 non-null    object \n",
      " 3   Amount          615 non-null    object \n",
      " 4   HeadQuarter     596 non-null    object \n",
      " 5   BIO             615 non-null    object \n",
      " 6   Year            615 non-null    object \n",
      " 7   Updated_Amount  455 non-null    float64\n",
      "dtypes: float64(1), object(7)\n",
      "memory usage: 38.6+ KB\n"
     ]
    }
   ],
   "source": [
    "df18_19.info()"
   ]
  },
  {
   "cell_type": "markdown",
   "metadata": {},
   "source": [
    "# Merging All the Files "
   ]
  },
  {
   "cell_type": "code",
   "execution_count": 247,
   "metadata": {},
   "outputs": [],
   "source": [
    "df18_19.drop(['amount_usd', 'amount_inr', 'currency'], axis=1, inplace=True)\n",
    "df20_21.drop(['without_$', 'with_$'], axis=1, inplace=True)\n"
   ]
  },
  {
   "cell_type": "code",
   "execution_count": 284,
   "metadata": {},
   "outputs": [],
   "source": [
    "india_startup_df = pd.concat([df18_19, df20_21], ignore_index=True)"
   ]
  },
  {
   "cell_type": "code",
   "execution_count": 286,
   "metadata": {},
   "outputs": [],
   "source": [
    "\n",
    "# Fill missing values in the specific column with 0.0\n",
    "india_startup_df['Updated_Amount'].fillna(0.0, inplace=True)\n",
    "india_startup_df['Amount'].fillna(0.0, inplace=True)\n",
    "\n"
   ]
  },
  {
   "cell_type": "code",
   "execution_count": 288,
   "metadata": {},
   "outputs": [],
   "source": [
    "# Fill missing values in  with \"unknown\"\n",
    "india_startup_df.fillna(\"unknown\", inplace=True)"
   ]
  },
  {
   "cell_type": "markdown",
   "metadata": {},
   "source": [
    "Null Hypothesis: \n",
    "\n",
    "The total funding received by Indian startups has been increasing over the years (from 2018 to 2021).\n",
    "\n",
    "Explanation: This hypothesis focuses on the trend in total funding over time. \n",
    "\n",
    "Calculate the total funding received by all startups for each year (2018, 2019, 2020, 2021).\n",
    "Create a time series plot or line chart to visualize the funding trend over the four years."
   ]
  },
  {
   "cell_type": "code",
   "execution_count": 289,
   "metadata": {},
   "outputs": [
    {
     "name": "stdout",
     "output_type": "stream",
     "text": [
      "<class 'pandas.core.frame.DataFrame'>\n",
      "RangeIndex: 2879 entries, 0 to 2878\n",
      "Data columns (total 8 columns):\n",
      " #   Column          Non-Null Count  Dtype  \n",
      "---  ------          --------------  -----  \n",
      " 0   Company_Brand   2879 non-null   object \n",
      " 1   Sector          2879 non-null   object \n",
      " 2   Stage           2879 non-null   object \n",
      " 3   Amount          2879 non-null   object \n",
      " 4   HeadQuarter     2879 non-null   object \n",
      " 5   BIO             2879 non-null   object \n",
      " 6   Year            2879 non-null   object \n",
      " 7   Updated_Amount  2879 non-null   float64\n",
      "dtypes: float64(1), object(7)\n",
      "memory usage: 180.1+ KB\n"
     ]
    }
   ],
   "source": [
    "india_startup_df.info()"
   ]
  },
  {
   "cell_type": "code",
   "execution_count": 290,
   "metadata": {},
   "outputs": [
    {
     "data": {
      "text/plain": [
       "0       False\n",
       "1       False\n",
       "2       False\n",
       "3       False\n",
       "4       False\n",
       "        ...  \n",
       "2874    False\n",
       "2875    False\n",
       "2876    False\n",
       "2877    False\n",
       "2878    False\n",
       "Name: Updated_Amount, Length: 2879, dtype: bool"
      ]
     },
     "execution_count": 290,
     "metadata": {},
     "output_type": "execute_result"
    }
   ],
   "source": [
    "# Calculate the count of missing values in a specific column\n",
    "missing_values_count = india_startup_df['Updated_Amount'].isna()\n",
    "missing_values_count\n"
   ]
  },
  {
   "cell_type": "code",
   "execution_count": 294,
   "metadata": {},
   "outputs": [],
   "source": [
    "# Get the Sum\n",
    "\n",
    "total_funding = india_startup_df.groupby('Year')['Updated_Amount'].mean()"
   ]
  },
  {
   "cell_type": "code",
   "execution_count": 296,
   "metadata": {},
   "outputs": [
    {
     "data": {
      "image/png": "[encoded data removed]",
      "text/plain": [
       "<Figure size 1000x600 with 1 Axes>"
      ]
     },
     "metadata": {},
     "output_type": "display_data"
    }
   ],
   "source": [
    "# Plot the time series\n",
    "plt.figure(figsize=(10, 6))\n",
    "plt.plot(total_funding.index, total_funding.values, marker='o', linestyle='-', color='b')\n",
    "plt.xlabel('Year')\n",
    "plt.ylabel('Average Funding Amount (in millions)')\n",
    "plt.title('Average Funding Trend Over Four Years (2018-2021)')\n",
    "plt.grid(True)\n",
    "plt.show()"
   ]
  },
  {
   "cell_type": "markdown",
   "metadata": {},
   "source": [
    "Null Hypothesis:\n",
    "\n",
    "The headquarters location of a startup in India (e.g., Chennai, Bangalore, Pune, New Delhi, Indore) has an impact on the funding amount it receives.\n",
    "\n",
    "Explanation: \n",
    "The location of a startup's headquarters may influence its access to funding. For example, we might expect that startups in major startup hubs like Bangalore receive larger amounts of funding compared to those in smaller cities. \n",
    "\n",
    "ANOVA or Kruskal-Wallis Test: To determine if there are significant differences in funding amounts between startups in different cities.\n"
   ]
  },
  {
   "cell_type": "code",
   "execution_count": 297,
   "metadata": {},
   "outputs": [
    {
     "name": "stdout",
     "output_type": "stream",
     "text": [
      "There is no significant difference in funding amounts between cities.\n"
     ]
    }
   ],
   "source": [
    "\n",
    "\n",
    "# Extract unique locations from the 'HeadQuarter' \n",
    "locations = india_startup_df['HeadQuarter'].unique()\n",
    "\n",
    "# Groupy data by headquarter\n",
    "groups = [india_startup_df[india_startup_df['HeadQuarter'] == location ]['Updated_Amount']\n",
    "for location in locations]\n",
    "\n",
    "# Perform ANOVA test\n",
    "f_statistic, p_value = f_oneway(*groups)\n",
    "\n",
    "# Check the p-value to determine statistical significance\n",
    "if p_value < 0.05:\n",
    "    print(\"There is a significant difference in funding amounts between cities.\")\n",
    "else:\n",
    "    print(\"There is no significant difference in funding amounts between cities.\")\n"
   ]
  },
  {
   "cell_type": "markdown",
   "metadata": {},
   "source": [
    "# Analytic Question"
   ]
  },
  {
   "cell_type": "markdown",
   "metadata": {},
   "source": [
    "1.)Trend Analysis: Is there a noticeable trend in the total funding received by Indian startups from 2018 to 2021? Are the funding amounts increasing or decreasing over the years?\n",
    "\n",
    "2.)Sector Analysis: Which sector received the highest average funding in 2019, and has it changed in 2020 and 2021? Are there sectors that consistently attract more funding over the years?\n",
    "\n",
    "3.)Location Impact: Do startups headquartered in specific cities or regions (e.g., Bangalore, Mumbai, Chennai) tend to receive more funding on average? Is there a correlation between the location of a startup and its funding amount?\n",
    "\n",
    "4.)Stage of Funding: Are there significant differences in average funding amounts based on the funding stage (e.g., Seed, Series A, Series D) of the startups? How does the stage of funding impact the funding received by startups?\n",
    "\n",
    "5.)Correlation between Sectors and Funding Stages: Is there a relationship between the sector of a startup and its funding stage? For example, do startups in the EdTech sector tend to receive more funding at a specific stage compared to startups in other sectors?\n"
   ]
  }
 ],
 "metadata": {
  "kernelspec": {
   "display_name": "Python 3",
   "language": "python",
   "name": "python3"
  },
  "language_info": {
   "codemirror_mode": {
    "name": "ipython",
    "version": 3
   },
   "file_extension": ".py",
   "mimetype": "text/x-python",
   "name": "python",
   "nbconvert_exporter": "python",
   "pygments_lexer": "ipython3",
   "version": "3.11.4"
  }
 },
 "nbformat": 4,
 "nbformat_minor": 2
}
