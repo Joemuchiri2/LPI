{
 "cells": [
  {
   "cell_type": "markdown",
   "metadata": {},
   "source": [
    "# Indian start-up ecosystem"
   ]
  },
  {
   "cell_type": "markdown",
   "metadata": {},
   "source": [
    "Your team is trying to venture into the Indian start-up ecosystem. As the data expert of the team, you are to investigate the ecosystem and propose the best course of action.\n",
    "Analyze funding received by start-ups in India from 2018 to 2021.\n",
    "Separate data for each year of funding will be provided.\n",
    "• In these datasets, you'll find the start-ups' details, the funding amounts received, and the investors' information"
   ]
  },
  {
   "cell_type": "code",
   "execution_count": 1,
   "metadata": {},
   "outputs": [],
   "source": [
    "import pyodbc\n",
    "from dotenv import dotenv_values\n",
    "import pandas as pd \n",
    "import matplotlib.pyplot as plt\n",
    "import numpy as np\n",
    "from scipy import stats\n",
    "from scipy.stats import f_oneway\n",
    "import statistics as stat\n",
    "import warnings\n",
    "import os\n",
    "\n",
    "warnings.filterwarnings('ignore')"
   ]
  },
  {
   "cell_type": "code",
   "execution_count": 2,
   "metadata": {},
   "outputs": [],
   "source": [
    "# Load environment variables from .env file into a dictionary\n",
    "environment_variables = dotenv_values('.env')\n",
    "\n",
    "\n",
    "# Get the values for the credentials you set in the '.env' file\n",
    "server = environment_variables.get(\"SERVER\")\n",
    "database = environment_variables.get(\"DATABASE\")\n",
    "username = environment_variables.get(\"USERNAME\")\n",
    "password = environment_variables.get(\"PASSWORD\")"
   ]
  },
  {
   "cell_type": "code",
   "execution_count": 3,
   "metadata": {},
   "outputs": [],
   "source": [
    "conn_str =f\"DRIVER={{SQL Server}};SERVER={server};DATABASE={database};UID={username};PWD={password}\""
   ]
  },
  {
   "cell_type": "code",
   "execution_count": 4,
   "metadata": {},
   "outputs": [],
   "source": [
    "connection = pyodbc.connect(conn_str)\n",
    "\n",
    "query1 = \"Select * from LP1_startup_funding2020\"\n",
    "data2020 = pd.read_sql(query1, connection)\n",
    "\n",
    "query2 = \"Select * from LP1_startup_funding2021\"\n",
    "data2021 = pd.read_sql(query2, connection)"
   ]
  },
  {
   "cell_type": "code",
   "execution_count": 5,
   "metadata": {},
   "outputs": [],
   "source": [
    "df2018 = pd.read_csv('startup_funding2018.csv')\n",
    "\n",
    "df2019 = pd.read_csv('startup_funding2019.csv')"
   ]
  },
  {
   "cell_type": "markdown",
   "metadata": {},
   "source": [
    "# STEP 1"
   ]
  },
  {
   "cell_type": "code",
   "execution_count": null,
   "metadata": {},
   "outputs": [],
   "source": [
    "# Add a Year Colunm"
   ]
  },
  {
   "cell_type": "code",
   "execution_count": 6,
   "metadata": {},
   "outputs": [],
   "source": [
    "df2018['Year']='2018'\n",
    "df2019['Year']='2019'\n",
    "data2020['Year']='2020'\n",
    "data2021['Year']='2021'"
   ]
  },
  {
   "cell_type": "markdown",
   "metadata": {},
   "source": [
    "# STEP 2"
   ]
  },
  {
   "cell_type": "markdown",
   "metadata": {},
   "source": [
    "Clean and Concat the 2 csv file 2018&2019"
   ]
  },
  {
   "cell_type": "code",
   "execution_count": 7,
   "metadata": {},
   "outputs": [],
   "source": [
    "# Drop the Colunms You see no use keeping\n",
    "\n",
    "df2019.drop(['Founded', 'Founders', 'Investor'], axis=1, inplace=True)\n"
   ]
  },
  {
   "cell_type": "code",
   "execution_count": 8,
   "metadata": {},
   "outputs": [],
   "source": [
    "# Select specific columns and rename them\n",
    "\n",
    "df2018 = df2018.rename(columns={'Company Name': 'Company_Brand', 'Round/Series': 'Stage', 'Industry': 'Sector', 'Amount': 'Amount', 'About Company': 'BIO', 'Location':'HeadQuarter'})\n",
    "df2019 = df2019.rename(columns={'Company/Brand': 'Company_Brand', 'Sector': 'Sector', 'Stage': 'Stage', 'Amount($)': 'Amount', 'What it does': 'BIO', 'HeadQuarter':'HeadQuarter'})\n"
   ]
  },
  {
   "cell_type": "markdown",
   "metadata": {},
   "source": [
    "<b>Harmonising the Stage column entries in 2018&2019 data.<b>"
   ]
  },
  {
   "cell_type": "code",
   "execution_count": 9,
   "metadata": {},
   "outputs": [],
   "source": [
    "# df2018 Dataframe \n",
    "\n",
    "df2018.replace(to_replace=['Seed round', 'Seed funding', 'Early seed', 'Seed fund', 'Seed Investment', 'Seed Round', 'Seed+'], value='Seed', inplace=True)\n",
    "df2018.replace(to_replace=['Angel Round'], value='Angel', inplace=True)\n",
    "df2018.replace(to_replace=['Venture - Series Unknown'], value='Undisclosed', inplace=True)\n",
    "df2018.replace(to_replace=['Debt Financing', 'Post-IPO Debt'], value='Debt', inplace=True)\n",
    "df2018.replace(to_replace=['Private Equity', 'Post-IPO Equity'], value='Equity', inplace=True)\n",
    "df2018.replace(to_replace=['Corporate Round', 'Grant', 'Secondary Market', 'Non-equity Assistance', 'Funding Round'], value='Other', inplace=True)\n",
    "df2018.replace(to_replace=['Pre-Series B', 'Pre-series B'], value='Pre-Seed', inplace=True)"
   ]
  },
  {
   "cell_type": "code",
   "execution_count": 10,
   "metadata": {},
   "outputs": [],
   "source": [
    "# df2019 Dataframe\n",
    "\n",
    "df2019.replace(to_replace=['Seed funding', 'Seed fund', 'Seed round'], value='Seed', inplace=True)\n",
    "df2019.replace(to_replace=['Pre series A', 'Pre-series A'], value='Pre-Seed', inplace=True)\n",
    "df2019.replace(to_replace=['Series B+'], value='Series B', inplace=True)\n",
    "df2019.replace(to_replace=['Post series A', 'Fresh funding'], value='Other', inplace=True)"
   ]
  },
  {
   "cell_type": "code",
   "execution_count": 11,
   "metadata": {},
   "outputs": [],
   "source": [
    "# Remove non-standard entries\n",
    "\n",
    "df2018 = df2018[df2018['Stage'].str.startswith('https') == False]"
   ]
  },
  {
   "cell_type": "markdown",
   "metadata": {},
   "source": [
    "<b>Harmonising the HeadQuater/Location column entries in 2018&2019 data.<b>"
   ]
  },
  {
   "cell_type": "code",
   "execution_count": 12,
   "metadata": {},
   "outputs": [],
   "source": [
    "# data cleaning of headquarter in 2018\n",
    "\n",
    "df2018.replace(to_replace=['Bangalore City','Bangalore'], value='Bangalore', inplace=True)\n",
    "df2018.replace(to_replace=['Delhi','New Delhi'], value='Delhi', inplace=True)\n",
    "df2018.replace(to_replace=['Cochin'], value='Kochi', inplace=True)\n",
    "df2018.replace(to_replace=['Kormangala'], value='Koramangala', inplace=True)\n",
    "df2018.replace(to_replace=['Powai','Worli'], value='Mumbai', inplace=True)\n",
    "df2018.replace(to_replace=['Uttar Pradesh', 'Andhra Pradesh'], value='Andhra Pradesh', inplace=True)\n",
    "df2018.replace(to_replace=['Trivandrum', 'India'], value='Trivandrum', inplace=True)"
   ]
  },
  {
   "cell_type": "code",
   "execution_count": 13,
   "metadata": {},
   "outputs": [],
   "source": [
    "# data cleaning of headquarter in 2019\n",
    "\n",
    "df2019.replace(to_replace=['Delhi' , 'New Delhi'], value='Delhi', inplace=True)"
   ]
  },
  {
   "cell_type": "markdown",
   "metadata": {},
   "source": [
    "<b>Harmonising the Sector column entries in 2018&2019 data.<b>"
   ]
  },
  {
   "cell_type": "code",
   "execution_count": 14,
   "metadata": {},
   "outputs": [],
   "source": [
    "# data cleaning of Sector in 2019\n",
    "\n",
    "df2019['Tech'] = df2019['Sector'].apply(lambda x: x if 'Tech' in str(x) or 'tech' in str(x) or 'AI' in str(x) or 'IoT' in str(x) else None)\n",
    "df2019['Non_tech'] = df2019['Sector'].apply(lambda x: x if 'Tech' not in str(x) and 'tech' not in str(x)\n",
    "                                                       and 'AI' not in str(x) and 'IoT' not in str(x) else None)"
   ]
  },
  {
   "cell_type": "code",
   "execution_count": 15,
   "metadata": {},
   "outputs": [],
   "source": [
    "# data cleaning of Sector in 2018\n",
    "\n",
    "df2018['Tech'] = df2018['Sector'].apply(lambda x: x if 'Tech' in str(x) or 'tech' in str(x) or 'AI' in str(x) or 'IoT' in str(x) else None)\n",
    "df2018['Non_tech'] = df2018['Sector'].apply(lambda x: x if 'Tech' not in str(x) and 'tech' not in str(x)\n",
    "                                                       and 'AI' not in str(x) and 'IoT' not in str(x) else None)"
   ]
  },
  {
   "cell_type": "code",
   "execution_count": 16,
   "metadata": {},
   "outputs": [
    {
     "name": "stdout",
     "output_type": "stream",
     "text": [
      "<class 'pandas.core.frame.DataFrame'>\n",
      "Index: 525 entries, 0 to 525\n",
      "Data columns (total 9 columns):\n",
      " #   Column         Non-Null Count  Dtype \n",
      "---  ------         --------------  ----- \n",
      " 0   Company_Brand  525 non-null    object\n",
      " 1   Sector         525 non-null    object\n",
      " 2   Stage          525 non-null    object\n",
      " 3   Amount         525 non-null    object\n",
      " 4   HeadQuarter    525 non-null    object\n",
      " 5   BIO            525 non-null    object\n",
      " 6   Year           525 non-null    object\n",
      " 7   Tech           80 non-null     object\n",
      " 8   Non_tech       445 non-null    object\n",
      "dtypes: object(9)\n",
      "memory usage: 41.0+ KB\n"
     ]
    }
   ],
   "source": [
    "df2018.info()"
   ]
  },
  {
   "cell_type": "code",
   "execution_count": 17,
   "metadata": {},
   "outputs": [
    {
     "name": "stdout",
     "output_type": "stream",
     "text": [
      "<class 'pandas.core.frame.DataFrame'>\n",
      "RangeIndex: 89 entries, 0 to 88\n",
      "Data columns (total 9 columns):\n",
      " #   Column         Non-Null Count  Dtype \n",
      "---  ------         --------------  ----- \n",
      " 0   Company_Brand  89 non-null     object\n",
      " 1   HeadQuarter    70 non-null     object\n",
      " 2   Sector         84 non-null     object\n",
      " 3   BIO            89 non-null     object\n",
      " 4   Amount         89 non-null     object\n",
      " 5   Stage          43 non-null     object\n",
      " 6   Year           89 non-null     object\n",
      " 7   Tech           39 non-null     object\n",
      " 8   Non_tech       45 non-null     object\n",
      "dtypes: object(9)\n",
      "memory usage: 6.4+ KB\n"
     ]
    }
   ],
   "source": [
    "df2019.info()"
   ]
  },
  {
   "cell_type": "markdown",
   "metadata": {},
   "source": [
    "<b>CHECK FOR DUPLICATE ENTRIES IN THE NEW DATASET df2018 & df2019<b>"
   ]
  },
  {
   "cell_type": "code",
   "execution_count": 21,
   "metadata": {},
   "outputs": [
    {
     "data": {
      "text/plain": [
       "False    524\n",
       "Name: count, dtype: int64"
      ]
     },
     "execution_count": 21,
     "metadata": {},
     "output_type": "execute_result"
    }
   ],
   "source": [
    "df2018.duplicated().value_counts()"
   ]
  },
  {
   "cell_type": "code",
   "execution_count": 20,
   "metadata": {},
   "outputs": [],
   "source": [
    "df2018.drop_duplicates(keep='first', inplace=True)"
   ]
  },
  {
   "cell_type": "code",
   "execution_count": 19,
   "metadata": {},
   "outputs": [
    {
     "data": {
      "text/plain": [
       "False    89\n",
       "Name: count, dtype: int64"
      ]
     },
     "execution_count": 19,
     "metadata": {},
     "output_type": "execute_result"
    }
   ],
   "source": [
    "df2019.duplicated().value_counts()"
   ]
  },
  {
   "cell_type": "markdown",
   "metadata": {},
   "source": [
    "# STEP 3"
   ]
  },
  {
   "cell_type": "markdown",
   "metadata": {},
   "source": [
    "Currency Convertion "
   ]
  },
  {
   "cell_type": "code",
   "execution_count": 22,
   "metadata": {},
   "outputs": [],
   "source": [
    "# Merge the two csv files \n",
    "\n",
    "df18_19 = pd.concat([df2018, df2019], ignore_index=True)"
   ]
  },
  {
   "cell_type": "code",
   "execution_count": 23,
   "metadata": {},
   "outputs": [],
   "source": [
    "# Create a new column 'currency' based on currency symbols\n",
    "\n",
    "df18_19['currency'] = df18_19['Amount'].apply(lambda x: 'INR' if '₹' in x else ('USD' if '$' in x else 'USD'))"
   ]
  },
  {
   "cell_type": "code",
   "execution_count": 24,
   "metadata": {},
   "outputs": [],
   "source": [
    "# Create columns 'amount_inr' and 'amount_usd'\n",
    "\n",
    "df18_19['amount_inr'] = df18_19.apply(lambda row: row['Amount'] if row['currency'] == 'INR' else 0, axis=1)\n",
    "df18_19['amount_usd'] = df18_19.apply(lambda row: row['Amount'] if row['currency'] == 'USD' else 0, axis=1)"
   ]
  },
  {
   "cell_type": "code",
   "execution_count": 25,
   "metadata": {},
   "outputs": [],
   "source": [
    "# Remove the currency sysmbols and the commas \n",
    "\n",
    "df18_19['amount_inr'] = df18_19['amount_inr'].str.replace('₹', '').str.replace('$', '').str.replace(',', '')\n",
    "df18_19['amount_usd'] = df18_19['amount_usd'].str.replace('₹', '').str.replace('$', '').str.replace(',', '')"
   ]
  },
  {
   "cell_type": "code",
   "execution_count": 26,
   "metadata": {},
   "outputs": [],
   "source": [
    "# Replace 'Undisclosed' values with NaN\n",
    "\n",
    "df18_19['amount_inr'] = df18_19['amount_inr'].replace('Undisclosed', np.nan, regex=True)\n",
    "df18_19['amount_usd'] = df18_19['amount_usd'].replace('Undisclosed', np.nan, regex=True)"
   ]
  },
  {
   "cell_type": "code",
   "execution_count": 27,
   "metadata": {},
   "outputs": [],
   "source": [
    "# Convert the object values into numeric values for calculation\n",
    "\n",
    "df18_19['amount_inr'] = pd.to_numeric(df18_19['amount_inr'], errors='coerce')\n",
    "df18_19['amount_usd'] = pd.to_numeric(df18_19['amount_usd'], errors='coerce')"
   ]
  },
  {
   "cell_type": "code",
   "execution_count": 28,
   "metadata": {},
   "outputs": [],
   "source": [
    "# Define the exchange rate\n",
    "exchange_rate_inr_to_usd = 1 / 83.23  # 1 USD = 83.23 INR\n",
    "\n",
    "# Convert 'amount_inr' to USD\n",
    "df18_19['amount_inr'] = df18_19['amount_inr'].apply(lambda x: x * exchange_rate_inr_to_usd if x is not None else None)"
   ]
  },
  {
   "cell_type": "code",
   "execution_count": 29,
   "metadata": {},
   "outputs": [],
   "source": [
    "# Create a new column 'Updated_Amount' by filling missing values in 'amount_inr' with 'amount_usd'\n",
    "df18_19['Updated_Amount'] = df18_19['amount_inr'].fillna(df18_19['amount_usd'])"
   ]
  },
  {
   "cell_type": "code",
   "execution_count": 31,
   "metadata": {},
   "outputs": [
    {
     "data": {
      "text/plain": [
       "False    613\n",
       "Name: count, dtype: int64"
      ]
     },
     "execution_count": 31,
     "metadata": {},
     "output_type": "execute_result"
    }
   ],
   "source": [
    "df18_19.duplicated().value_counts()"
   ]
  },
  {
   "cell_type": "markdown",
   "metadata": {},
   "source": [
    "# STEP 4"
   ]
  },
  {
   "cell_type": "markdown",
   "metadata": {},
   "source": [
    "Clean and Concat the 2 sql file 2020&2021"
   ]
  },
  {
   "cell_type": "code",
   "execution_count": 32,
   "metadata": {},
   "outputs": [],
   "source": [
    "# Renaming the Column\n",
    "\n",
    "data2020 = data2020.rename(columns={'Company_Brand': 'Company_Brand', 'Sector': 'Sector', 'Amount': 'Amount', 'What_it_does': 'BIO', 'Location':'HeadQuarter'})\n",
    "data2021 = data2021.rename(columns={'Company_Brand': 'Company_Brand', 'Sector': 'Sector', 'Amount': 'Amount', 'What_it_does': 'BIO', 'HeadQuarter':'HeadQuarter'})"
   ]
  },
  {
   "cell_type": "markdown",
   "metadata": {},
   "source": [
    "# Drop a columns you see no need of keeping"
   ]
  },
  {
   "cell_type": "code",
   "execution_count": 33,
   "metadata": {},
   "outputs": [],
   "source": [
    "data2020.drop(['Founded', 'Founders', 'Investor'], axis=1, inplace=True)\n",
    "data2021.drop(['Founded', 'Founders', 'Investor'], axis=1, inplace=True)\n",
    "data2020.drop(columns=['column10'], inplace=True)"
   ]
  },
  {
   "cell_type": "markdown",
   "metadata": {},
   "source": [
    "# CLEANING THE DATAFRAMES "
   ]
  },
  {
   "cell_type": "markdown",
   "metadata": {},
   "source": [
    "<b>Harmonising the Stage column entries in 2020&2021 data.<b>"
   ]
  },
  {
   "cell_type": "code",
   "execution_count": 34,
   "metadata": {},
   "outputs": [],
   "source": [
    "# data2020 DataFrame \n",
    "\n",
    "data2020.replace(to_replace=['Seed Round', 'Seed round', 'Seed funding', 'Seed A', 'Seed Funding', 'Seed Investment','Pre seed Round', 'Seed funding' 'Seed A' 'Pre-seed', 'Pre seed round', 'Pre-seed Round', 'Pre-Seed'], value='Seed', inplace=True)\n",
    "data2020.replace(to_replace=['Series A1', 'Series A-1'], value='Series A', inplace=True)\n",
    "data2020.replace(to_replace=['Series B2'], value='Series B', inplace=True)\n",
    "data2020.replace(to_replace=['Pre series B', 'Pre-Series B', 'Pre series C', 'Pre-Series B' 'Pre series C','Pre series A1', 'Pre-series', 'Pre series A', 'Pre-series A', 'Pre- series A', 'Pre Series A', 'Pre-series A1', 'Pre-series C', 'Pre-series B'], value='Pre-Series', inplace=True)\n",
    "data2020.replace(to_replace=['Series E', 'Series E2', 'Series F'], value='Series E and Beyond', inplace=True)\n",
    "data2020.replace(to_replace=['Series C, D', 'Series D', 'Series D1'], value='Series D', inplace=True)\n",
    "data2020.replace(to_replace=['Bridge Round', 'Edge', 'Bridge'], value='Bridge', inplace=True)\n",
    "data2020.replace(to_replace=['Angel Round'], value='Angel', inplace=True)"
   ]
  },
  {
   "cell_type": "code",
   "execution_count": 35,
   "metadata": {},
   "outputs": [],
   "source": [
    "# data2021 DataFrame\n",
    "\n",
    "data2021.replace(to_replace=['Seed Round', 'Seed round', 'Seed funding', 'Seed A', 'Seed+', 'Seed Funding', 'Seed Investment','Pre seed Round', 'Early seed', 'Seed funding' 'Seed A' 'Pre-seed', 'Pre seed round', 'Pre-seed', 'Pre-seed Round', 'Pre-Seed'], value='Seed', inplace=True)\n",
    "data2021.replace(to_replace=['Series A1', 'Seies A', 'Series A2', 'Series A+', 'Series A-1'], value='Series A', inplace=True)\n",
    "data2021.replace(to_replace=['Series B2', 'Series B3'], value='Series B', inplace=True)\n",
    "data2021.replace(to_replace=['Pre series B', 'Pre-Series B', 'Pre series C', 'Pre-Series B' 'Pre series C','Pre series A1', 'Pre-series', 'Pre series A', 'Pre-series A', 'Pre- series A', 'Pre Series A', 'Pre-series A1', 'Pre-series C', 'Pre-series B'], value='Pre-Series', inplace=True)\n",
    "data2021.replace(to_replace=['Series E', 'Series I', 'Series F1', 'Series H', 'Series G', 'Series F2', 'Series E2', 'Series F'], value='Series E and Beyond', inplace=True)\n",
    "data2021.replace(to_replace=['Series C, D', 'Series D', 'Series D1'], value='Series D', inplace=True)\n",
    "data2021.replace(to_replace=['Bridge Round', 'Edge', 'Bridge'], value='Bridge', inplace=True)\n",
    "data2021.replace(to_replace=['Angel Round', '$300000', '$1200000', '$6000000', '$1000000'], value='Angel', inplace=True)"
   ]
  },
  {
   "cell_type": "markdown",
   "metadata": {},
   "source": [
    "<b>Harmonising the Sector column entries in 2020&2021 data.<b>"
   ]
  },
  {
   "cell_type": "code",
   "execution_count": 36,
   "metadata": {},
   "outputs": [],
   "source": [
    "# data cleaning of Sector in 2020\n",
    "\n",
    "data2020['Tech'] = data2020['Sector'].apply(lambda x: x if 'Tech' in str(x) or 'tech' in str(x) or 'AI' in str(x) or 'IoT' in str(x) else None)\n",
    "data2020['Non_tech'] = data2020['Sector'].apply(lambda x: x if 'Tech' not in str(x) and 'tech' not in str(x)\n",
    "                                                       and 'AI' not in str(x) and 'IoT' not in str(x) else None)"
   ]
  },
  {
   "cell_type": "code",
   "execution_count": 37,
   "metadata": {},
   "outputs": [],
   "source": [
    "# data cleaning of Sector in 2021\n",
    "\n",
    "data2021['Tech'] = data2021['Sector'].apply(lambda x: x if 'Tech' in str(x) or 'tech' in str(x) or 'AI' in str(x) or 'IoT' in str(x) else None)\n",
    "data2021['Non_tech'] = data2021['Sector'].apply(lambda x: x if 'Tech' not in str(x) and 'tech' not in str(x)\n",
    "                                                       and 'AI' not in str(x) and 'IoT' not in str(x) else None)"
   ]
  },
  {
   "cell_type": "markdown",
   "metadata": {},
   "source": [
    "<b>Harmonising the HeadQuarter column entries in 2020&2021 data.<b>"
   ]
  },
  {
   "cell_type": "code",
   "execution_count": null,
   "metadata": {},
   "outputs": [],
   "source": []
  },
  {
   "cell_type": "code",
   "execution_count": 38,
   "metadata": {},
   "outputs": [],
   "source": [
    "data2021.replace(to_replace=['London', 'New York', ' Mountain View', 'CA ', 'Beijing', '' ], value='Outside_India', inplace=True)\n",
    "data2021.replace(to_replace=['Online Media\\t#REF!', 'Pharmaceuticals\\t#REF!', 'Food & Beverages', \n",
    "                             'Computer Games', 'Small Towns', ' None', 'None', 'Information Technology & Services'], value='Undisclosed', inplace=True)\n",
    "data2021.replace(to_replace=['Gurugram\\t#REF!' ], value='Gurugrama', inplace=True)"
   ]
  },
  {
   "cell_type": "markdown",
   "metadata": {},
   "source": [
    "<b>CHECK FOR DUPLICATE ENTRIES IN THE NEW DATASET df2018 & df2019<b>"
   ]
  },
  {
   "cell_type": "code",
   "execution_count": 42,
   "metadata": {},
   "outputs": [
    {
     "data": {
      "text/plain": [
       "False    1050\n",
       "Name: count, dtype: int64"
      ]
     },
     "execution_count": 42,
     "metadata": {},
     "output_type": "execute_result"
    }
   ],
   "source": [
    "data2020.duplicated().value_counts()"
   ]
  },
  {
   "cell_type": "code",
   "execution_count": 41,
   "metadata": {},
   "outputs": [],
   "source": [
    "data2020.drop_duplicates(keep='first', inplace=True)"
   ]
  },
  {
   "cell_type": "code",
   "execution_count": 44,
   "metadata": {},
   "outputs": [
    {
     "data": {
      "text/plain": [
       "False    1189\n",
       "Name: count, dtype: int64"
      ]
     },
     "execution_count": 44,
     "metadata": {},
     "output_type": "execute_result"
    }
   ],
   "source": [
    "data2021.duplicated().value_counts()"
   ]
  },
  {
   "cell_type": "code",
   "execution_count": 43,
   "metadata": {},
   "outputs": [],
   "source": [
    "data2021.drop_duplicates(keep='first', inplace=True)"
   ]
  },
  {
   "cell_type": "markdown",
   "metadata": {},
   "source": [
    "# STEP 5"
   ]
  },
  {
   "cell_type": "markdown",
   "metadata": {},
   "source": [
    "Currency Convertion "
   ]
  },
  {
   "cell_type": "code",
   "execution_count": 45,
   "metadata": {},
   "outputs": [],
   "source": [
    "# Merge the two sql files \n",
    "\n",
    "df20_21 = pd.concat([data2020, data2021], ignore_index=True)"
   ]
  },
  {
   "cell_type": "code",
   "execution_count": 46,
   "metadata": {},
   "outputs": [
    {
     "data": {
      "text/html": [
       "<div>\n",
       "<style scoped>\n",
       "    .dataframe tbody tr th:only-of-type {\n",
       "        vertical-align: middle;\n",
       "    }\n",
       "\n",
       "    .dataframe tbody tr th {\n",
       "        vertical-align: top;\n",
       "    }\n",
       "\n",
       "    .dataframe thead th {\n",
       "        text-align: right;\n",
       "    }\n",
       "</style>\n",
       "<table border=\"1\" class=\"dataframe\">\n",
       "  <thead>\n",
       "    <tr style=\"text-align: right;\">\n",
       "      <th></th>\n",
       "      <th>Company_Brand</th>\n",
       "      <th>HeadQuarter</th>\n",
       "      <th>Sector</th>\n",
       "      <th>BIO</th>\n",
       "      <th>Amount</th>\n",
       "      <th>Stage</th>\n",
       "      <th>Year</th>\n",
       "      <th>Tech</th>\n",
       "      <th>Non_tech</th>\n",
       "    </tr>\n",
       "  </thead>\n",
       "  <tbody>\n",
       "    <tr>\n",
       "      <th>0</th>\n",
       "      <td>Aqgromalin</td>\n",
       "      <td>Chennai</td>\n",
       "      <td>AgriTech</td>\n",
       "      <td>Cultivating Ideas for Profit</td>\n",
       "      <td>200000.0</td>\n",
       "      <td>None</td>\n",
       "      <td>2020</td>\n",
       "      <td>AgriTech</td>\n",
       "      <td>None</td>\n",
       "    </tr>\n",
       "    <tr>\n",
       "      <th>1</th>\n",
       "      <td>Krayonnz</td>\n",
       "      <td>Bangalore</td>\n",
       "      <td>EdTech</td>\n",
       "      <td>An academy-guardian-scholar centric ecosystem ...</td>\n",
       "      <td>100000.0</td>\n",
       "      <td>Pre-seed</td>\n",
       "      <td>2020</td>\n",
       "      <td>EdTech</td>\n",
       "      <td>None</td>\n",
       "    </tr>\n",
       "    <tr>\n",
       "      <th>2</th>\n",
       "      <td>PadCare Labs</td>\n",
       "      <td>Pune</td>\n",
       "      <td>Hygiene management</td>\n",
       "      <td>Converting bio-hazardous waste to harmless waste</td>\n",
       "      <td>NaN</td>\n",
       "      <td>Pre-seed</td>\n",
       "      <td>2020</td>\n",
       "      <td>None</td>\n",
       "      <td>Hygiene management</td>\n",
       "    </tr>\n",
       "    <tr>\n",
       "      <th>3</th>\n",
       "      <td>NCOME</td>\n",
       "      <td>New Delhi</td>\n",
       "      <td>Escrow</td>\n",
       "      <td>Escrow-as-a-service platform</td>\n",
       "      <td>400000.0</td>\n",
       "      <td>None</td>\n",
       "      <td>2020</td>\n",
       "      <td>None</td>\n",
       "      <td>Escrow</td>\n",
       "    </tr>\n",
       "    <tr>\n",
       "      <th>4</th>\n",
       "      <td>Gramophone</td>\n",
       "      <td>Indore</td>\n",
       "      <td>AgriTech</td>\n",
       "      <td>Gramophone is an AgTech platform enabling acce...</td>\n",
       "      <td>340000.0</td>\n",
       "      <td>None</td>\n",
       "      <td>2020</td>\n",
       "      <td>AgriTech</td>\n",
       "      <td>None</td>\n",
       "    </tr>\n",
       "    <tr>\n",
       "      <th>...</th>\n",
       "      <td>...</td>\n",
       "      <td>...</td>\n",
       "      <td>...</td>\n",
       "      <td>...</td>\n",
       "      <td>...</td>\n",
       "      <td>...</td>\n",
       "      <td>...</td>\n",
       "      <td>...</td>\n",
       "      <td>...</td>\n",
       "    </tr>\n",
       "    <tr>\n",
       "      <th>2234</th>\n",
       "      <td>Gigforce</td>\n",
       "      <td>Gurugram</td>\n",
       "      <td>Staffing &amp; Recruiting</td>\n",
       "      <td>A gig/on-demand staffing company.</td>\n",
       "      <td>$3000000</td>\n",
       "      <td>Pre-Series</td>\n",
       "      <td>2021</td>\n",
       "      <td>None</td>\n",
       "      <td>Staffing &amp; Recruiting</td>\n",
       "    </tr>\n",
       "    <tr>\n",
       "      <th>2235</th>\n",
       "      <td>Vahdam</td>\n",
       "      <td>New Delhi</td>\n",
       "      <td>Undisclosed</td>\n",
       "      <td>VAHDAM is among the world’s first vertically i...</td>\n",
       "      <td>$20000000</td>\n",
       "      <td>Series D</td>\n",
       "      <td>2021</td>\n",
       "      <td>None</td>\n",
       "      <td>Undisclosed</td>\n",
       "    </tr>\n",
       "    <tr>\n",
       "      <th>2236</th>\n",
       "      <td>Leap Finance</td>\n",
       "      <td>Bangalore</td>\n",
       "      <td>Financial Services</td>\n",
       "      <td>International education loans for high potenti...</td>\n",
       "      <td>$55000000</td>\n",
       "      <td>Series C</td>\n",
       "      <td>2021</td>\n",
       "      <td>None</td>\n",
       "      <td>Financial Services</td>\n",
       "    </tr>\n",
       "    <tr>\n",
       "      <th>2237</th>\n",
       "      <td>CollegeDekho</td>\n",
       "      <td>Gurugram</td>\n",
       "      <td>EdTech</td>\n",
       "      <td>Collegedekho.com is Student’s Partner, Friend ...</td>\n",
       "      <td>$26000000</td>\n",
       "      <td>Series B</td>\n",
       "      <td>2021</td>\n",
       "      <td>EdTech</td>\n",
       "      <td>None</td>\n",
       "    </tr>\n",
       "    <tr>\n",
       "      <th>2238</th>\n",
       "      <td>WeRize</td>\n",
       "      <td>Bangalore</td>\n",
       "      <td>Financial Services</td>\n",
       "      <td>India’s first socially distributed full stack ...</td>\n",
       "      <td>$8000000</td>\n",
       "      <td>Series A</td>\n",
       "      <td>2021</td>\n",
       "      <td>None</td>\n",
       "      <td>Financial Services</td>\n",
       "    </tr>\n",
       "  </tbody>\n",
       "</table>\n",
       "<p>2239 rows × 9 columns</p>\n",
       "</div>"
      ],
      "text/plain": [
       "     Company_Brand HeadQuarter                 Sector  \\\n",
       "0       Aqgromalin     Chennai               AgriTech   \n",
       "1         Krayonnz   Bangalore                 EdTech   \n",
       "2     PadCare Labs        Pune     Hygiene management   \n",
       "3            NCOME   New Delhi                 Escrow   \n",
       "4       Gramophone      Indore               AgriTech   \n",
       "...            ...         ...                    ...   \n",
       "2234      Gigforce    Gurugram  Staffing & Recruiting   \n",
       "2235        Vahdam   New Delhi            Undisclosed   \n",
       "2236  Leap Finance   Bangalore     Financial Services   \n",
       "2237  CollegeDekho    Gurugram                 EdTech   \n",
       "2238        WeRize   Bangalore     Financial Services   \n",
       "\n",
       "                                                    BIO     Amount  \\\n",
       "0                          Cultivating Ideas for Profit   200000.0   \n",
       "1     An academy-guardian-scholar centric ecosystem ...   100000.0   \n",
       "2      Converting bio-hazardous waste to harmless waste        NaN   \n",
       "3                          Escrow-as-a-service platform   400000.0   \n",
       "4     Gramophone is an AgTech platform enabling acce...   340000.0   \n",
       "...                                                 ...        ...   \n",
       "2234                  A gig/on-demand staffing company.   $3000000   \n",
       "2235  VAHDAM is among the world’s first vertically i...  $20000000   \n",
       "2236  International education loans for high potenti...  $55000000   \n",
       "2237  Collegedekho.com is Student’s Partner, Friend ...  $26000000   \n",
       "2238  India’s first socially distributed full stack ...   $8000000   \n",
       "\n",
       "           Stage  Year      Tech               Non_tech  \n",
       "0           None  2020  AgriTech                   None  \n",
       "1       Pre-seed  2020    EdTech                   None  \n",
       "2       Pre-seed  2020      None     Hygiene management  \n",
       "3           None  2020      None                 Escrow  \n",
       "4           None  2020  AgriTech                   None  \n",
       "...          ...   ...       ...                    ...  \n",
       "2234  Pre-Series  2021      None  Staffing & Recruiting  \n",
       "2235    Series D  2021      None            Undisclosed  \n",
       "2236    Series C  2021      None     Financial Services  \n",
       "2237    Series B  2021    EdTech                   None  \n",
       "2238    Series A  2021      None     Financial Services  \n",
       "\n",
       "[2239 rows x 9 columns]"
      ]
     },
     "execution_count": 46,
     "metadata": {},
     "output_type": "execute_result"
    }
   ],
   "source": [
    "df20_21"
   ]
  },
  {
   "cell_type": "code",
   "execution_count": 47,
   "metadata": {},
   "outputs": [],
   "source": [
    "# Create a new column 'Updated_Amount' by filling missing values in 'amount_inr' with 'amount_usd'\n",
    "\n",
    "df20_21['Updated_Amount'] = df20_21['Amount']"
   ]
  },
  {
   "cell_type": "code",
   "execution_count": 48,
   "metadata": {},
   "outputs": [],
   "source": [
    "# Create a column 'with_$' for values with '$' sign and 'without_$' for values without '$'\n",
    "\n",
    "df20_21['with_$'] = df20_21['Updated_Amount'].apply(lambda x: x if '$' in str(x) else None)\n",
    "df20_21['without_$'] = df20_21['Updated_Amount'].apply(lambda x: x if '$' not in str(x) else None)\n"
   ]
  },
  {
   "cell_type": "code",
   "execution_count": 49,
   "metadata": {},
   "outputs": [],
   "source": [
    "# Remove the currency sysmbols and the commas \n",
    "\n",
    "df20_21['with_$'] = df20_21['with_$'].str.replace('$', '')\n"
   ]
  },
  {
   "cell_type": "code",
   "execution_count": 50,
   "metadata": {},
   "outputs": [],
   "source": [
    "# Replace 'Undisclosed' values with NaN\n",
    "\n",
    "df20_21['with_$'] = df20_21['with_$'].replace('Undisclosed', np.nan, regex=True)"
   ]
  },
  {
   "cell_type": "code",
   "execution_count": 51,
   "metadata": {},
   "outputs": [],
   "source": [
    "# Convert the object values into numeric values for calculation\n",
    "\n",
    "df20_21['with_$'] = pd.to_numeric(df20_21['with_$'], errors='coerce')\n",
    "df20_21['without_$'] = pd.to_numeric(df20_21['without_$'], errors='coerce')"
   ]
  },
  {
   "cell_type": "code",
   "execution_count": 52,
   "metadata": {},
   "outputs": [],
   "source": [
    "# Merge the two Colunms into a new colunm \n",
    "\n",
    "df20_21['Updated_Amount'] = df20_21['without_$'].fillna(df20_21['with_$'])"
   ]
  },
  {
   "cell_type": "code",
   "execution_count": 53,
   "metadata": {},
   "outputs": [
    {
     "name": "stdout",
     "output_type": "stream",
     "text": [
      "<class 'pandas.core.frame.DataFrame'>\n",
      "RangeIndex: 2239 entries, 0 to 2238\n",
      "Data columns (total 12 columns):\n",
      " #   Column          Non-Null Count  Dtype  \n",
      "---  ------          --------------  -----  \n",
      " 0   Company_Brand   2239 non-null   object \n",
      " 1   HeadQuarter     2145 non-null   object \n",
      " 2   Sector          2226 non-null   object \n",
      " 3   BIO             2239 non-null   object \n",
      " 4   Amount          1983 non-null   object \n",
      " 5   Stage           1358 non-null   object \n",
      " 6   Year            2239 non-null   object \n",
      " 7   Tech            895 non-null    object \n",
      " 8   Non_tech        1331 non-null   object \n",
      " 9   Updated_Amount  1402 non-null   float64\n",
      " 10  with_$          605 non-null    float64\n",
      " 11  without_$       797 non-null    float64\n",
      "dtypes: float64(3), object(9)\n",
      "memory usage: 210.0+ KB\n"
     ]
    }
   ],
   "source": [
    "df20_21.info()"
   ]
  },
  {
   "cell_type": "code",
   "execution_count": 54,
   "metadata": {},
   "outputs": [
    {
     "name": "stdout",
     "output_type": "stream",
     "text": [
      "<class 'pandas.core.frame.DataFrame'>\n",
      "RangeIndex: 613 entries, 0 to 612\n",
      "Data columns (total 13 columns):\n",
      " #   Column          Non-Null Count  Dtype  \n",
      "---  ------          --------------  -----  \n",
      " 0   Company_Brand   613 non-null    object \n",
      " 1   Sector          608 non-null    object \n",
      " 2   Stage           567 non-null    object \n",
      " 3   Amount          613 non-null    object \n",
      " 4   HeadQuarter     594 non-null    object \n",
      " 5   BIO             613 non-null    object \n",
      " 6   Year            613 non-null    object \n",
      " 7   Tech            119 non-null    object \n",
      " 8   Non_tech        489 non-null    object \n",
      " 9   currency        613 non-null    object \n",
      " 10  amount_inr      144 non-null    float64\n",
      " 11  amount_usd      309 non-null    float64\n",
      " 12  Updated_Amount  453 non-null    float64\n",
      "dtypes: float64(3), object(10)\n",
      "memory usage: 62.4+ KB\n"
     ]
    }
   ],
   "source": [
    "df18_19.info()"
   ]
  },
  {
   "cell_type": "markdown",
   "metadata": {},
   "source": [
    "# Merging All the Files "
   ]
  },
  {
   "cell_type": "code",
   "execution_count": 55,
   "metadata": {},
   "outputs": [],
   "source": [
    "df18_19.drop(['amount_usd', 'amount_inr', 'currency'], axis=1, inplace=True)\n",
    "df20_21.drop(['without_$', 'with_$'], axis=1, inplace=True)\n"
   ]
  },
  {
   "cell_type": "code",
   "execution_count": 106,
   "metadata": {},
   "outputs": [],
   "source": [
    "india_startup_df = pd.concat([df18_19, df20_21], ignore_index=True)"
   ]
  },
  {
   "cell_type": "code",
   "execution_count": 91,
   "metadata": {},
   "outputs": [
    {
     "data": {
      "text/html": [
       "<div>\n",
       "<style scoped>\n",
       "    .dataframe tbody tr th:only-of-type {\n",
       "        vertical-align: middle;\n",
       "    }\n",
       "\n",
       "    .dataframe tbody tr th {\n",
       "        vertical-align: top;\n",
       "    }\n",
       "\n",
       "    .dataframe thead th {\n",
       "        text-align: right;\n",
       "    }\n",
       "</style>\n",
       "<table border=\"1\" class=\"dataframe\">\n",
       "  <thead>\n",
       "    <tr style=\"text-align: right;\">\n",
       "      <th></th>\n",
       "      <th>Company_Brand</th>\n",
       "      <th>Sector</th>\n",
       "      <th>Stage</th>\n",
       "      <th>Amount</th>\n",
       "      <th>HeadQuarter</th>\n",
       "      <th>BIO</th>\n",
       "      <th>Year</th>\n",
       "      <th>Tech</th>\n",
       "      <th>Non_tech</th>\n",
       "      <th>Updated_Amount</th>\n",
       "      <th>Industry</th>\n",
       "    </tr>\n",
       "  </thead>\n",
       "  <tbody>\n",
       "    <tr>\n",
       "      <th>0</th>\n",
       "      <td>TheCollegeFever</td>\n",
       "      <td>Brand Marketing, Event Promotion, Marketing, S...</td>\n",
       "      <td>Seed</td>\n",
       "      <td>250000</td>\n",
       "      <td>Bangalore, Karnataka, India</td>\n",
       "      <td>TheCollegeFever is a hub for fun, fiesta and f...</td>\n",
       "      <td>2018</td>\n",
       "      <td>None</td>\n",
       "      <td>Brand Marketing, Event Promotion, Marketing, S...</td>\n",
       "      <td>2.500000e+05</td>\n",
       "      <td>Brand Marketing, Event Promotion, Marketing, S...</td>\n",
       "    </tr>\n",
       "    <tr>\n",
       "      <th>1</th>\n",
       "      <td>Happy Cow Dairy</td>\n",
       "      <td>Agriculture, Farming</td>\n",
       "      <td>Seed</td>\n",
       "      <td>₹40,000,000</td>\n",
       "      <td>Mumbai, Maharashtra, India</td>\n",
       "      <td>A startup which aggregates milk from dairy far...</td>\n",
       "      <td>2018</td>\n",
       "      <td>None</td>\n",
       "      <td>Agriculture, Farming</td>\n",
       "      <td>4.805959e+05</td>\n",
       "      <td>Agriculture, Farming</td>\n",
       "    </tr>\n",
       "    <tr>\n",
       "      <th>2</th>\n",
       "      <td>MyLoanCare</td>\n",
       "      <td>Credit, Financial Services, Lending, Marketplace</td>\n",
       "      <td>Series A</td>\n",
       "      <td>₹65,000,000</td>\n",
       "      <td>Gurgaon, Haryana, India</td>\n",
       "      <td>Leading Online Loans Marketplace in India</td>\n",
       "      <td>2018</td>\n",
       "      <td>None</td>\n",
       "      <td>Credit, Financial Services, Lending, Marketplace</td>\n",
       "      <td>7.809684e+05</td>\n",
       "      <td>Credit, Financial Services, Lending, Marketplace</td>\n",
       "    </tr>\n",
       "    <tr>\n",
       "      <th>3</th>\n",
       "      <td>PayMe India</td>\n",
       "      <td>Financial Services, FinTech</td>\n",
       "      <td>Angel</td>\n",
       "      <td>2000000</td>\n",
       "      <td>Noida, Uttar Pradesh, India</td>\n",
       "      <td>PayMe India is an innovative FinTech organizat...</td>\n",
       "      <td>2018</td>\n",
       "      <td>Financial Services, FinTech</td>\n",
       "      <td>None</td>\n",
       "      <td>2.000000e+06</td>\n",
       "      <td>Financial Services, FinTech</td>\n",
       "    </tr>\n",
       "    <tr>\n",
       "      <th>4</th>\n",
       "      <td>Eunimart</td>\n",
       "      <td>E-Commerce Platforms, Retail, SaaS</td>\n",
       "      <td>Seed</td>\n",
       "      <td>—</td>\n",
       "      <td>Hyderabad, Andhra Pradesh, India</td>\n",
       "      <td>Eunimart is a one stop solution for merchants ...</td>\n",
       "      <td>2018</td>\n",
       "      <td>None</td>\n",
       "      <td>E-Commerce Platforms, Retail, SaaS</td>\n",
       "      <td>NaN</td>\n",
       "      <td>E-Commerce Platforms, Retail, SaaS</td>\n",
       "    </tr>\n",
       "    <tr>\n",
       "      <th>...</th>\n",
       "      <td>...</td>\n",
       "      <td>...</td>\n",
       "      <td>...</td>\n",
       "      <td>...</td>\n",
       "      <td>...</td>\n",
       "      <td>...</td>\n",
       "      <td>...</td>\n",
       "      <td>...</td>\n",
       "      <td>...</td>\n",
       "      <td>...</td>\n",
       "      <td>...</td>\n",
       "    </tr>\n",
       "    <tr>\n",
       "      <th>2847</th>\n",
       "      <td>Gigforce</td>\n",
       "      <td>Staffing &amp; Recruiting</td>\n",
       "      <td>Pre-Series</td>\n",
       "      <td>$3000000</td>\n",
       "      <td>Gurugram</td>\n",
       "      <td>A gig/on-demand staffing company.</td>\n",
       "      <td>2021</td>\n",
       "      <td>None</td>\n",
       "      <td>Staffing &amp; Recruiting</td>\n",
       "      <td>3.000000e+06</td>\n",
       "      <td>Staffing &amp; Recruiting</td>\n",
       "    </tr>\n",
       "    <tr>\n",
       "      <th>2848</th>\n",
       "      <td>Vahdam</td>\n",
       "      <td>Undisclosed</td>\n",
       "      <td>Series D</td>\n",
       "      <td>$20000000</td>\n",
       "      <td>New Delhi</td>\n",
       "      <td>VAHDAM is among the world’s first vertically i...</td>\n",
       "      <td>2021</td>\n",
       "      <td>None</td>\n",
       "      <td>Undisclosed</td>\n",
       "      <td>2.000000e+07</td>\n",
       "      <td>Undisclosed</td>\n",
       "    </tr>\n",
       "    <tr>\n",
       "      <th>2849</th>\n",
       "      <td>Leap Finance</td>\n",
       "      <td>Financial Services</td>\n",
       "      <td>Series C</td>\n",
       "      <td>$55000000</td>\n",
       "      <td>Bangalore</td>\n",
       "      <td>International education loans for high potenti...</td>\n",
       "      <td>2021</td>\n",
       "      <td>None</td>\n",
       "      <td>Financial Services</td>\n",
       "      <td>5.500000e+07</td>\n",
       "      <td>Financial Services</td>\n",
       "    </tr>\n",
       "    <tr>\n",
       "      <th>2850</th>\n",
       "      <td>CollegeDekho</td>\n",
       "      <td>EdTech</td>\n",
       "      <td>Series B</td>\n",
       "      <td>$26000000</td>\n",
       "      <td>Gurugram</td>\n",
       "      <td>Collegedekho.com is Student’s Partner, Friend ...</td>\n",
       "      <td>2021</td>\n",
       "      <td>EdTech</td>\n",
       "      <td>None</td>\n",
       "      <td>2.600000e+07</td>\n",
       "      <td>EdTech</td>\n",
       "    </tr>\n",
       "    <tr>\n",
       "      <th>2851</th>\n",
       "      <td>WeRize</td>\n",
       "      <td>Financial Services</td>\n",
       "      <td>Series A</td>\n",
       "      <td>$8000000</td>\n",
       "      <td>Bangalore</td>\n",
       "      <td>India’s first socially distributed full stack ...</td>\n",
       "      <td>2021</td>\n",
       "      <td>None</td>\n",
       "      <td>Financial Services</td>\n",
       "      <td>8.000000e+06</td>\n",
       "      <td>Financial Services</td>\n",
       "    </tr>\n",
       "  </tbody>\n",
       "</table>\n",
       "<p>2852 rows × 11 columns</p>\n",
       "</div>"
      ],
      "text/plain": [
       "        Company_Brand                                             Sector  \\\n",
       "0     TheCollegeFever  Brand Marketing, Event Promotion, Marketing, S...   \n",
       "1     Happy Cow Dairy                               Agriculture, Farming   \n",
       "2          MyLoanCare   Credit, Financial Services, Lending, Marketplace   \n",
       "3         PayMe India                        Financial Services, FinTech   \n",
       "4            Eunimart                 E-Commerce Platforms, Retail, SaaS   \n",
       "...               ...                                                ...   \n",
       "2847         Gigforce                              Staffing & Recruiting   \n",
       "2848           Vahdam                                        Undisclosed   \n",
       "2849     Leap Finance                                 Financial Services   \n",
       "2850     CollegeDekho                                             EdTech   \n",
       "2851           WeRize                                 Financial Services   \n",
       "\n",
       "           Stage       Amount                       HeadQuarter  \\\n",
       "0           Seed       250000       Bangalore, Karnataka, India   \n",
       "1           Seed  ₹40,000,000        Mumbai, Maharashtra, India   \n",
       "2       Series A  ₹65,000,000           Gurgaon, Haryana, India   \n",
       "3          Angel      2000000       Noida, Uttar Pradesh, India   \n",
       "4           Seed            —  Hyderabad, Andhra Pradesh, India   \n",
       "...          ...          ...                               ...   \n",
       "2847  Pre-Series     $3000000                          Gurugram   \n",
       "2848    Series D    $20000000                         New Delhi   \n",
       "2849    Series C    $55000000                         Bangalore   \n",
       "2850    Series B    $26000000                          Gurugram   \n",
       "2851    Series A     $8000000                         Bangalore   \n",
       "\n",
       "                                                    BIO  Year  \\\n",
       "0     TheCollegeFever is a hub for fun, fiesta and f...  2018   \n",
       "1     A startup which aggregates milk from dairy far...  2018   \n",
       "2             Leading Online Loans Marketplace in India  2018   \n",
       "3     PayMe India is an innovative FinTech organizat...  2018   \n",
       "4     Eunimart is a one stop solution for merchants ...  2018   \n",
       "...                                                 ...   ...   \n",
       "2847                  A gig/on-demand staffing company.  2021   \n",
       "2848  VAHDAM is among the world’s first vertically i...  2021   \n",
       "2849  International education loans for high potenti...  2021   \n",
       "2850  Collegedekho.com is Student’s Partner, Friend ...  2021   \n",
       "2851  India’s first socially distributed full stack ...  2021   \n",
       "\n",
       "                             Tech  \\\n",
       "0                            None   \n",
       "1                            None   \n",
       "2                            None   \n",
       "3     Financial Services, FinTech   \n",
       "4                            None   \n",
       "...                           ...   \n",
       "2847                         None   \n",
       "2848                         None   \n",
       "2849                         None   \n",
       "2850                       EdTech   \n",
       "2851                         None   \n",
       "\n",
       "                                               Non_tech  Updated_Amount  \\\n",
       "0     Brand Marketing, Event Promotion, Marketing, S...    2.500000e+05   \n",
       "1                                  Agriculture, Farming    4.805959e+05   \n",
       "2      Credit, Financial Services, Lending, Marketplace    7.809684e+05   \n",
       "3                                                  None    2.000000e+06   \n",
       "4                    E-Commerce Platforms, Retail, SaaS             NaN   \n",
       "...                                                 ...             ...   \n",
       "2847                              Staffing & Recruiting    3.000000e+06   \n",
       "2848                                        Undisclosed    2.000000e+07   \n",
       "2849                                 Financial Services    5.500000e+07   \n",
       "2850                                               None    2.600000e+07   \n",
       "2851                                 Financial Services    8.000000e+06   \n",
       "\n",
       "                                               Industry  \n",
       "0     Brand Marketing, Event Promotion, Marketing, S...  \n",
       "1                                  Agriculture, Farming  \n",
       "2      Credit, Financial Services, Lending, Marketplace  \n",
       "3                           Financial Services, FinTech  \n",
       "4                    E-Commerce Platforms, Retail, SaaS  \n",
       "...                                                 ...  \n",
       "2847                              Staffing & Recruiting  \n",
       "2848                                        Undisclosed  \n",
       "2849                                 Financial Services  \n",
       "2850                                             EdTech  \n",
       "2851                                 Financial Services  \n",
       "\n",
       "[2852 rows x 11 columns]"
      ]
     },
     "execution_count": 91,
     "metadata": {},
     "output_type": "execute_result"
    }
   ],
   "source": [
    "india_startup_df"
   ]
  },
  {
   "cell_type": "code",
   "execution_count": 90,
   "metadata": {},
   "outputs": [],
   "source": [
    "# Create a new column 'Updated_Amount' by filling missing values in 'amount_inr' with 'amount_usd'\n",
    "india_startup_df['Industry'] = india_startup_df['Tech'].fillna(india_startup_df['Non_tech'])"
   ]
  },
  {
   "cell_type": "code",
   "execution_count": 58,
   "metadata": {},
   "outputs": [],
   "source": [
    "\n",
    "# Fill missing values in the specific column with 0.0\n",
    "india_startup_df['Updated_Amount'].fillna(0.0, inplace=True)\n",
    "india_startup_df['Amount'].fillna(0.0, inplace=True)\n",
    "\n"
   ]
  },
  {
   "cell_type": "code",
   "execution_count": 60,
   "metadata": {},
   "outputs": [],
   "source": [
    "# Fill missing values in  with \"unknown\"\n",
    "india_startup_df.fillna(\"NaN\", inplace=True)"
   ]
  },
  {
   "cell_type": "code",
   "execution_count": 62,
   "metadata": {},
   "outputs": [
    {
     "name": "stdout",
     "output_type": "stream",
     "text": [
      "<class 'pandas.core.frame.DataFrame'>\n",
      "RangeIndex: 2852 entries, 0 to 2851\n",
      "Data columns (total 10 columns):\n",
      " #   Column          Non-Null Count  Dtype  \n",
      "---  ------          --------------  -----  \n",
      " 0   Company_Brand   2852 non-null   object \n",
      " 1   Sector          2852 non-null   object \n",
      " 2   Stage           2852 non-null   object \n",
      " 3   Amount          2852 non-null   object \n",
      " 4   HeadQuarter     2852 non-null   object \n",
      " 5   BIO             2852 non-null   object \n",
      " 6   Year            2852 non-null   object \n",
      " 7   Tech            2852 non-null   object \n",
      " 8   Non_tech        2852 non-null   object \n",
      " 9   Updated_Amount  2852 non-null   float64\n",
      "dtypes: float64(1), object(9)\n",
      "memory usage: 222.9+ KB\n"
     ]
    }
   ],
   "source": [
    "india_startup_df.info()"
   ]
  },
  {
   "cell_type": "markdown",
   "metadata": {},
   "source": [
    "Null Hypothesis: \n",
    "\n",
    "The total funding received by Indian startups has been increasing over the years (from 2018 to 2021).\n",
    "\n",
    "Explanation: This hypothesis focuses on the trend in total funding over time. \n",
    "\n",
    "Calculate the total funding received by all startups for each year (2018, 2019, 2020, 2021).\n",
    "Create a time series plot or line chart to visualize the funding trend over the four years."
   ]
  },
  {
   "cell_type": "code",
   "execution_count": 63,
   "metadata": {},
   "outputs": [
    {
     "data": {
      "text/plain": [
       "Stage\n",
       "unknown                  927\n",
       "Seed                     743\n",
       "Series A                 308\n",
       "Pre-Series               303\n",
       "Series B                 138\n",
       "Series C                 113\n",
       "Debt                      60\n",
       "Series D                  53\n",
       "Angel                     46\n",
       "Series E and Beyond       41\n",
       "Undisclosed               39\n",
       "Other                     19\n",
       "Pre-Seed                  15\n",
       "Equity                    13\n",
       "Pre-seed                  11\n",
       "Bridge                    10\n",
       "Series E                   6\n",
       "Series H                   2\n",
       "Series F                   1\n",
       "Series G                   1\n",
       "Seed Round & Series A      1\n",
       "Mid series                 1\n",
       "PE                         1\n",
       "Name: count, dtype: int64"
      ]
     },
     "execution_count": 63,
     "metadata": {},
     "output_type": "execute_result"
    }
   ],
   "source": [
    "india_startup_df['Stage'].value_counts()"
   ]
  },
  {
   "cell_type": "code",
   "execution_count": 64,
   "metadata": {},
   "outputs": [
    {
     "data": {
      "text/plain": [
       "0       False\n",
       "1       False\n",
       "2       False\n",
       "3       False\n",
       "4       False\n",
       "        ...  \n",
       "2847    False\n",
       "2848    False\n",
       "2849    False\n",
       "2850    False\n",
       "2851    False\n",
       "Name: Updated_Amount, Length: 2852, dtype: bool"
      ]
     },
     "execution_count": 64,
     "metadata": {},
     "output_type": "execute_result"
    }
   ],
   "source": [
    "# Calculate the count of missing values in a specific column\n",
    "missing_values_count = india_startup_df['Updated_Amount'].isna()\n",
    "missing_values_count\n"
   ]
  },
  {
   "cell_type": "code",
   "execution_count": 95,
   "metadata": {},
   "outputs": [
    {
     "data": {
      "text/plain": [
       "HeadQuarter\n",
       "Bangalore                                                   316\n",
       "Mumbai                                                      163\n",
       "Gurugram                                                     79\n",
       "Delhi                                                        62\n",
       "Chennai                                                      43\n",
       "                                                           ... \n",
       "Newcastle Upon Tyne, Newcastle upon Tyne, United Kingdom      1\n",
       "Shanghai, China                                               1\n",
       "Jiaxing, Zhejiang, China                                      1\n",
       "Rajastan                                                      1\n",
       "Sydney, New South Wales, Australia                            1\n",
       "Name: count, Length: 77, dtype: int64"
      ]
     },
     "execution_count": 95,
     "metadata": {},
     "output_type": "execute_result"
    }
   ],
   "source": [
    "data2020['HeadQuarter'].value_counts()"
   ]
  },
  {
   "cell_type": "code",
   "execution_count": 69,
   "metadata": {},
   "outputs": [],
   "source": [
    "# Get the Sum\n",
    "\n",
    "total_funding = india_startup_df.groupby('')['Updated_Amount'].mean()"
   ]
  },
  {
   "cell_type": "code",
   "execution_count": 70,
   "metadata": {},
   "outputs": [
    {
     "data": {
      "image/png": "[encoded data removed]",
      "text/plain": [
       "<Figure size 1000x600 with 1 Axes>"
      ]
     },
     "metadata": {},
     "output_type": "display_data"
    }
   ],
   "source": [
    "# Plot the time series\n",
    "plt.figure(figsize=(10, 6))\n",
    "plt.plot(total_funding.index, total_funding.values, marker='o', linestyle='-', color='b')\n",
    "plt.xlabel('Year')\n",
    "plt.ylabel('Average Funding Amount (in millions)')\n",
    "plt.title('Average Funding Trend Over Four Years (2018-2021)')\n",
    "plt.grid(True)\n",
    "plt.show()"
   ]
  },
  {
   "cell_type": "markdown",
   "metadata": {},
   "source": [
    "Null Hypothesis:\n",
    "\n",
    "The headquarters location of a startup in India (e.g., Chennai, Bangalore, Pune, New Delhi, Indore) has an impact on the funding amount it receives.\n",
    "\n",
    "Explanation: \n",
    "The location of a startup's headquarters may influence its access to funding. For example, we might expect that startups in major startup hubs like Bangalore receive larger amounts of funding compared to those in smaller cities. \n",
    "\n",
    "ANOVA or Kruskal-Wallis Test: To determine if there are significant differences in funding amounts between startups in different cities.\n"
   ]
  },
  {
   "cell_type": "code",
   "execution_count": 111,
   "metadata": {},
   "outputs": [
    {
     "data": {
      "image/png": "[encoded data removed]",
      "text/plain": [
       "<Figure size 1000x600 with 1 Axes>"
      ]
     },
     "metadata": {},
     "output_type": "display_data"
    }
   ],
   "source": [
    "import pandas as pd\n",
    "import matplotlib.pyplot as plt\n",
    "\n",
    "# Assuming 'Amount' is the column containing the financial amounts\n",
    "# Assuming 'Year' is the column containing the years\n",
    "\n",
    "# Group by year and calculate the total funding for each year\n",
    "total_funding_by_year = india_startup_df.groupby('Year')['Updated_Amount'].sum()\n",
    "\n",
    "# Create a time series plot or line chart\n",
    "plt.figure(figsize=(10, 6))\n",
    "total_funding_by_year.plot(marker='o', linestyle='-')\n",
    "plt.title('Total Funding Received by Indian Startups (2018-2021)')\n",
    "plt.xlabel('Year')\n",
    "plt.ylabel('Total Funding (in Millions)')\n",
    "plt.grid(True)\n",
    "plt.show()\n"
   ]
  },
  {
   "cell_type": "code",
   "execution_count": 297,
   "metadata": {},
   "outputs": [
    {
     "name": "stdout",
     "output_type": "stream",
     "text": [
      "There is no significant difference in funding amounts between cities.\n"
     ]
    }
   ],
   "source": [
    "\n",
    "\n",
    "# Extract unique locations from the 'HeadQuarter' \n",
    "locations = india_startup_df['HeadQuarter'].unique()\n",
    "\n",
    "# Groupy data by headquarter\n",
    "groups = [india_startup_df[india_startup_df['HeadQuarter'] == location ]['Updated_Amount']\n",
    "for location in locations]\n",
    "\n",
    "# Perform ANOVA test\n",
    "f_statistic, p_value = f_oneway(*groups)\n",
    "\n",
    "# Check the p-value to determine statistical significance\n",
    "if p_value < 0.05:\n",
    "    print(\"There is a significant difference in funding amounts between cities.\")\n",
    "else:\n",
    "    print(\"There is no significant difference in funding amounts between cities.\")\n"
   ]
  },
  {
   "cell_type": "markdown",
   "metadata": {},
   "source": [
    "# Analytic Question"
   ]
  },
  {
   "cell_type": "markdown",
   "metadata": {},
   "source": [
    "1.)Trend Analysis: Is there a noticeable trend in the total funding received by Indian startups from 2018 to 2021? Are the funding amounts increasing or decreasing over the years?\n",
    "\n",
    "2.)Sector Analysis: Which sector received the highest average funding in 2019, and has it changed in 2020 and 2021? Are there sectors that consistently attract more funding over the years?\n",
    "\n",
    "3.)Location Impact: Do startups headquartered in specific cities or regions (e.g., Bangalore, Mumbai, Chennai) tend to receive more funding on average? Is there a correlation between the location of a startup and its funding amount?\n",
    "\n",
    "4.)Stage of Funding: Are there significant differences in average funding amounts based on the funding stage (e.g., Seed, Series A, Series D) of the startups? How does the stage of funding impact the funding received by startups?\n",
    "\n",
    "5.)Correlation between Sectors and Funding Stages: Is there a relationship between the sector of a startup and its funding stage? For example, do startups in the EdTech sector tend to receive more funding at a specific stage compared to startups in other sectors?\n"
   ]
  },
  {
   "cell_type": "code",
   "execution_count": 55,
   "metadata": {},
   "outputs": [
    {
     "name": "stdout",
     "output_type": "stream",
     "text": [
      "'Updated_Amount' not found in numerical columns.\n"
     ]
    }
   ],
   "source": [
    "import matplotlib.pyplot as plt\n",
    "\n",
    "# Selecting numerical columns\n",
    "numeric_columns = df2018.select_dtypes(include='number').columns\n",
    "\n",
    "# Check if 'Updated_Amount' is in numeric_columns\n",
    "if 'Updated_Amount' in numeric_columns:\n",
    "    # Create subplots\n",
    "    fig, axes = plt.subplots(nrows=len(numeric_columns), ncols=1, figsize=(10, 5 * len(numeric_columns)))\n",
    "\n",
    "    # Plot each numerical column\n",
    "    for i, column in enumerate(numeric_columns):\n",
    "        df2018[column].plot(ax=axes[i], kind='hist', title=column)\n",
    "        axes[i].set_xlabel(column)\n",
    "\n",
    "    plt.tight_layout()\n",
    "    plt.show()\n",
    "else:\n",
    "    print(\"'Updated_Amount' not found in numerical columns.\")\n"
   ]
  },
  {
   "cell_type": "code",
   "execution_count": 82,
   "metadata": {},
   "outputs": [
    {
     "data": {
      "text/html": [
       "<div>\n",
       "<style scoped>\n",
       "    .dataframe tbody tr th:only-of-type {\n",
       "        vertical-align: middle;\n",
       "    }\n",
       "\n",
       "    .dataframe tbody tr th {\n",
       "        vertical-align: top;\n",
       "    }\n",
       "\n",
       "    .dataframe thead th {\n",
       "        text-align: right;\n",
       "    }\n",
       "</style>\n",
       "<table border=\"1\" class=\"dataframe\">\n",
       "  <thead>\n",
       "    <tr style=\"text-align: right;\">\n",
       "      <th></th>\n",
       "      <th>Company_Brand</th>\n",
       "      <th>Sector</th>\n",
       "      <th>Stage</th>\n",
       "      <th>Amount</th>\n",
       "      <th>HeadQuarter</th>\n",
       "      <th>BIO</th>\n",
       "      <th>Year</th>\n",
       "      <th>Tech</th>\n",
       "      <th>Non_tech</th>\n",
       "      <th>Updated_Amount</th>\n",
       "    </tr>\n",
       "  </thead>\n",
       "  <tbody>\n",
       "    <tr>\n",
       "      <th>0</th>\n",
       "      <td>TheCollegeFever</td>\n",
       "      <td>Brand Marketing, Event Promotion, Marketing, S...</td>\n",
       "      <td>Seed</td>\n",
       "      <td>250000</td>\n",
       "      <td>Bangalore, Karnataka, India</td>\n",
       "      <td>TheCollegeFever is a hub for fun, fiesta and f...</td>\n",
       "      <td>2018</td>\n",
       "      <td>None</td>\n",
       "      <td>Brand Marketing, Event Promotion, Marketing, S...</td>\n",
       "      <td>2.500000e+05</td>\n",
       "    </tr>\n",
       "    <tr>\n",
       "      <th>1</th>\n",
       "      <td>Happy Cow Dairy</td>\n",
       "      <td>Agriculture, Farming</td>\n",
       "      <td>Seed</td>\n",
       "      <td>₹40,000,000</td>\n",
       "      <td>Mumbai, Maharashtra, India</td>\n",
       "      <td>A startup which aggregates milk from dairy far...</td>\n",
       "      <td>2018</td>\n",
       "      <td>None</td>\n",
       "      <td>Agriculture, Farming</td>\n",
       "      <td>4.805959e+05</td>\n",
       "    </tr>\n",
       "    <tr>\n",
       "      <th>2</th>\n",
       "      <td>MyLoanCare</td>\n",
       "      <td>Credit, Financial Services, Lending, Marketplace</td>\n",
       "      <td>Series A</td>\n",
       "      <td>₹65,000,000</td>\n",
       "      <td>Gurgaon, Haryana, India</td>\n",
       "      <td>Leading Online Loans Marketplace in India</td>\n",
       "      <td>2018</td>\n",
       "      <td>None</td>\n",
       "      <td>Credit, Financial Services, Lending, Marketplace</td>\n",
       "      <td>7.809684e+05</td>\n",
       "    </tr>\n",
       "    <tr>\n",
       "      <th>3</th>\n",
       "      <td>PayMe India</td>\n",
       "      <td>Financial Services, FinTech</td>\n",
       "      <td>Angel</td>\n",
       "      <td>2000000</td>\n",
       "      <td>Noida, Uttar Pradesh, India</td>\n",
       "      <td>PayMe India is an innovative FinTech organizat...</td>\n",
       "      <td>2018</td>\n",
       "      <td>Financial Services, FinTech</td>\n",
       "      <td>None</td>\n",
       "      <td>2.000000e+06</td>\n",
       "    </tr>\n",
       "    <tr>\n",
       "      <th>4</th>\n",
       "      <td>Eunimart</td>\n",
       "      <td>E-Commerce Platforms, Retail, SaaS</td>\n",
       "      <td>Seed</td>\n",
       "      <td>—</td>\n",
       "      <td>Hyderabad, Andhra Pradesh, India</td>\n",
       "      <td>Eunimart is a one stop solution for merchants ...</td>\n",
       "      <td>2018</td>\n",
       "      <td>None</td>\n",
       "      <td>E-Commerce Platforms, Retail, SaaS</td>\n",
       "      <td>NaN</td>\n",
       "    </tr>\n",
       "    <tr>\n",
       "      <th>...</th>\n",
       "      <td>...</td>\n",
       "      <td>...</td>\n",
       "      <td>...</td>\n",
       "      <td>...</td>\n",
       "      <td>...</td>\n",
       "      <td>...</td>\n",
       "      <td>...</td>\n",
       "      <td>...</td>\n",
       "      <td>...</td>\n",
       "      <td>...</td>\n",
       "    </tr>\n",
       "    <tr>\n",
       "      <th>608</th>\n",
       "      <td>Infra.Market</td>\n",
       "      <td>Infratech</td>\n",
       "      <td>Series A</td>\n",
       "      <td>$20,000,000</td>\n",
       "      <td>Mumbai</td>\n",
       "      <td>It connects client requirements to their suppl...</td>\n",
       "      <td>2019</td>\n",
       "      <td>Infratech</td>\n",
       "      <td>None</td>\n",
       "      <td>2.000000e+07</td>\n",
       "    </tr>\n",
       "    <tr>\n",
       "      <th>609</th>\n",
       "      <td>Oyo</td>\n",
       "      <td>Hospitality</td>\n",
       "      <td>NaN</td>\n",
       "      <td>$693,000,000</td>\n",
       "      <td>Gurugram</td>\n",
       "      <td>Provides rooms for comfortable stay</td>\n",
       "      <td>2019</td>\n",
       "      <td>None</td>\n",
       "      <td>Hospitality</td>\n",
       "      <td>6.930000e+08</td>\n",
       "    </tr>\n",
       "    <tr>\n",
       "      <th>610</th>\n",
       "      <td>GoMechanic</td>\n",
       "      <td>Automobile &amp; Technology</td>\n",
       "      <td>Series B</td>\n",
       "      <td>$5,000,000</td>\n",
       "      <td>Delhi</td>\n",
       "      <td>Find automobile repair and maintenance service...</td>\n",
       "      <td>2019</td>\n",
       "      <td>Automobile &amp; Technology</td>\n",
       "      <td>None</td>\n",
       "      <td>5.000000e+06</td>\n",
       "    </tr>\n",
       "    <tr>\n",
       "      <th>611</th>\n",
       "      <td>Spinny</td>\n",
       "      <td>Automobile</td>\n",
       "      <td>NaN</td>\n",
       "      <td>$50,000,000</td>\n",
       "      <td>Delhi</td>\n",
       "      <td>Online car retailer</td>\n",
       "      <td>2019</td>\n",
       "      <td>None</td>\n",
       "      <td>Automobile</td>\n",
       "      <td>5.000000e+07</td>\n",
       "    </tr>\n",
       "    <tr>\n",
       "      <th>612</th>\n",
       "      <td>Ess Kay Fincorp</td>\n",
       "      <td>Banking</td>\n",
       "      <td>NaN</td>\n",
       "      <td>$33,000,000</td>\n",
       "      <td>Rajasthan</td>\n",
       "      <td>Organised Non-Banking Finance Company</td>\n",
       "      <td>2019</td>\n",
       "      <td>None</td>\n",
       "      <td>Banking</td>\n",
       "      <td>3.300000e+07</td>\n",
       "    </tr>\n",
       "  </tbody>\n",
       "</table>\n",
       "<p>613 rows × 10 columns</p>\n",
       "</div>"
      ],
      "text/plain": [
       "       Company_Brand                                             Sector  \\\n",
       "0    TheCollegeFever  Brand Marketing, Event Promotion, Marketing, S...   \n",
       "1    Happy Cow Dairy                               Agriculture, Farming   \n",
       "2         MyLoanCare   Credit, Financial Services, Lending, Marketplace   \n",
       "3        PayMe India                        Financial Services, FinTech   \n",
       "4           Eunimart                 E-Commerce Platforms, Retail, SaaS   \n",
       "..               ...                                                ...   \n",
       "608     Infra.Market                                          Infratech   \n",
       "609              Oyo                                        Hospitality   \n",
       "610       GoMechanic                            Automobile & Technology   \n",
       "611           Spinny                                         Automobile   \n",
       "612  Ess Kay Fincorp                                            Banking   \n",
       "\n",
       "        Stage        Amount                       HeadQuarter  \\\n",
       "0        Seed        250000       Bangalore, Karnataka, India   \n",
       "1        Seed   ₹40,000,000        Mumbai, Maharashtra, India   \n",
       "2    Series A   ₹65,000,000           Gurgaon, Haryana, India   \n",
       "3       Angel       2000000       Noida, Uttar Pradesh, India   \n",
       "4        Seed             —  Hyderabad, Andhra Pradesh, India   \n",
       "..        ...           ...                               ...   \n",
       "608  Series A   $20,000,000                            Mumbai   \n",
       "609       NaN  $693,000,000                          Gurugram   \n",
       "610  Series B    $5,000,000                             Delhi   \n",
       "611       NaN   $50,000,000                             Delhi   \n",
       "612       NaN   $33,000,000                         Rajasthan   \n",
       "\n",
       "                                                   BIO  Year  \\\n",
       "0    TheCollegeFever is a hub for fun, fiesta and f...  2018   \n",
       "1    A startup which aggregates milk from dairy far...  2018   \n",
       "2            Leading Online Loans Marketplace in India  2018   \n",
       "3    PayMe India is an innovative FinTech organizat...  2018   \n",
       "4    Eunimart is a one stop solution for merchants ...  2018   \n",
       "..                                                 ...   ...   \n",
       "608  It connects client requirements to their suppl...  2019   \n",
       "609                Provides rooms for comfortable stay  2019   \n",
       "610  Find automobile repair and maintenance service...  2019   \n",
       "611                                Online car retailer  2019   \n",
       "612              Organised Non-Banking Finance Company  2019   \n",
       "\n",
       "                            Tech  \\\n",
       "0                           None   \n",
       "1                           None   \n",
       "2                           None   \n",
       "3    Financial Services, FinTech   \n",
       "4                           None   \n",
       "..                           ...   \n",
       "608                    Infratech   \n",
       "609                         None   \n",
       "610      Automobile & Technology   \n",
       "611                         None   \n",
       "612                         None   \n",
       "\n",
       "                                              Non_tech  Updated_Amount  \n",
       "0    Brand Marketing, Event Promotion, Marketing, S...    2.500000e+05  \n",
       "1                                 Agriculture, Farming    4.805959e+05  \n",
       "2     Credit, Financial Services, Lending, Marketplace    7.809684e+05  \n",
       "3                                                 None    2.000000e+06  \n",
       "4                   E-Commerce Platforms, Retail, SaaS             NaN  \n",
       "..                                                 ...             ...  \n",
       "608                                               None    2.000000e+07  \n",
       "609                                        Hospitality    6.930000e+08  \n",
       "610                                               None    5.000000e+06  \n",
       "611                                         Automobile    5.000000e+07  \n",
       "612                                            Banking    3.300000e+07  \n",
       "\n",
       "[613 rows x 10 columns]"
      ]
     },
     "execution_count": 82,
     "metadata": {},
     "output_type": "execute_result"
    }
   ],
   "source": [
    "df18_19"
   ]
  },
  {
   "cell_type": "code",
   "execution_count": 72,
   "metadata": {},
   "outputs": [
    {
     "name": "stdout",
     "output_type": "stream",
     "text": [
      "<class 'pandas.core.frame.DataFrame'>\n",
      "RangeIndex: 2852 entries, 0 to 2851\n",
      "Data columns (total 10 columns):\n",
      " #   Column          Non-Null Count  Dtype  \n",
      "---  ------          --------------  -----  \n",
      " 0   Company_Brand   2852 non-null   object \n",
      " 1   Sector          2852 non-null   object \n",
      " 2   Stage           2852 non-null   object \n",
      " 3   Amount          2852 non-null   object \n",
      " 4   HeadQuarter     2852 non-null   object \n",
      " 5   BIO             2852 non-null   object \n",
      " 6   Year            2852 non-null   object \n",
      " 7   Tech            2852 non-null   object \n",
      " 8   Non_tech        2852 non-null   object \n",
      " 9   Updated_Amount  2852 non-null   float64\n",
      "dtypes: float64(1), object(9)\n",
      "memory usage: 222.9+ KB\n"
     ]
    }
   ],
   "source": [
    "india_startup_df.info()"
   ]
  },
  {
   "cell_type": "code",
   "execution_count": 96,
   "metadata": {},
   "outputs": [
    {
     "data": {
      "image/png": "[encoded data removed]",
      "text/plain": [
       "<Figure size 800x600 with 1 Axes>"
      ]
     },
     "metadata": {},
     "output_type": "display_data"
    },
    {
     "name": "stdout",
     "output_type": "stream",
     "text": [
      "Tech Amount: 15395084703.235012\n",
      "Non_tech Amount: 103704301355.21567\n",
      "Difference: -88309216651.98065\n"
     ]
    }
   ],
   "source": [
    "import matplotlib.pyplot as plt\n",
    "import seaborn as sns\n",
    "\n",
    "# Assuming 'Amount' is the column containing the financial amounts\n",
    "\n",
    "# Summing the amounts for 'Tech' and 'Non_tech' sectors\n",
    "tech_amount = india_startup_df.loc[india_startup_df['Tech'].notnull(), 'Updated_Amount'].sum()\n",
    "non_tech_amount = india_startup_df.loc[india_startup_df['Non_tech'].notnull(), 'Updated_Amount'].sum()\n",
    "\n",
    "# Calculate the difference\n",
    "amount_difference = tech_amount - non_tech_amount\n",
    "\n",
    "# Creating a bar plot to visualize the comparison\n",
    "plt.figure(figsize=(8, 6))\n",
    "sns.barplot(x=['Tech - Non_tech'], y=[amount_difference])\n",
    "plt.title('Total Amount Difference: Tech vs Non-tech')\n",
    "plt.xlabel('Sector')\n",
    "plt.ylabel('Total Amount Difference')\n",
    "plt.show()\n",
    "\n",
    "# Display the numerical difference\n",
    "print(f'Tech Amount: {tech_amount}')\n",
    "print(f'Non_tech Amount: {non_tech_amount}')\n",
    "print(f'Difference: {amount_difference}')\n"
   ]
  },
  {
   "cell_type": "code",
   "execution_count": 101,
   "metadata": {},
   "outputs": [
    {
     "data": {
      "text/plain": [
       "Text(0.5, 1.0, 'Total')"
      ]
     },
     "execution_count": 101,
     "metadata": {},
     "output_type": "execute_result"
    },
    {
     "data": {
      "image/png": "[encoded data removed]",
      "text/plain": [
       "<Figure size 1200x600 with 2 Axes>"
      ]
     },
     "metadata": {},
     "output_type": "display_data"
    }
   ],
   "source": [
    "import matplotlib.pyplot as plt\n",
    "import seaborn as sns\n",
    "\n",
    "# Assuming 'Amount' is the column containing the financial amounts\n",
    "\n",
    "# Summing the amounts for 'Tech' and 'Non_tech' sectors\n",
    "tech_amount = india_startup_df.loc[india_startup_df['Tech'].notnull(), 'Updated_Amount'].sum()\n",
    "non_tech_amount = india_startup_df.loc[india_startup_df['Non_tech'].notnull(), 'Updated_Amount'].sum()\n",
    "\n",
    "# Creating separate bar plots for 'Tech' and 'Non_tech'\n",
    "fig, axes = plt.subplots(1, 2, figsize=(12, 6))\n",
    "\n",
    "# Bar plot for 'Tech'\n",
    "sns.barplot(x=['Tech'], y=[tech_amount], ax=axes[0])\n",
    "axes[0].set_title('Total Amount: Tech')\n",
    "axes[0].set_ylabel('Total Amount')\n",
    "\n",
    "# Bar plot for 'Non_tech'\n",
    "sns.barplot(x=['Non_tech'], y=[non_tech_amount], ax=axes[1])\n",
    "axes[1].set_title('Total')\n"
   ]
  },
  {
   "cell_type": "code",
   "execution_count": 102,
   "metadata": {},
   "outputs": [
    {
     "data": {
      "image/png": "[encoded data removed]",
      "text/plain": [
       "<Figure size 800x600 with 1 Axes>"
      ]
     },
     "metadata": {},
     "output_type": "display_data"
    },
    {
     "name": "stdout",
     "output_type": "stream",
     "text": [
      "Tech Amount: 15395084703.235012\n",
      "Non_tech Amount: 103704301355.21567\n"
     ]
    }
   ],
   "source": [
    "import matplotlib.pyplot as plt\n",
    "import seaborn as sns\n",
    "\n",
    "# Assuming 'Amount' is the column containing the financial amounts\n",
    "\n",
    "# Summing the amounts for 'Tech' and 'Non_tech' sectors\n",
    "tech_amount = india_startup_df.loc[india_startup_df['Tech'].notnull(), 'Updated_Amount'].sum()\n",
    "non_tech_amount = india_startup_df.loc[india_startup_df['Non_tech'].notnull(), 'Updated_Amount'].sum()\n",
    "\n",
    "# Creating a line chart to visualize the comparison\n",
    "plt.figure(figsize=(8, 6))\n",
    "\n",
    "# Line chart for 'Tech'\n",
    "sns.lineplot(x=['Tech'], y=[tech_amount], label='Tech', marker='o')\n",
    "\n",
    "# Line chart for 'Non_tech'\n",
    "sns.lineplot(x=['Non_tech'], y=[non_tech_amount], label='Non-tech', marker='o')\n",
    "\n",
    "plt.title('Total Amount Comparison: Tech vs Non-tech')\n",
    "plt.xlabel('Sector')\n",
    "plt.ylabel('Total Amount')\n",
    "plt.legend()\n",
    "plt.show()\n",
    "\n",
    "# Display the numerical values\n",
    "print(f'Tech Amount: {tech_amount}')\n",
    "print(f'Non_tech Amount: {non_tech_amount}')\n"
   ]
  },
  {
   "cell_type": "code",
   "execution_count": 109,
   "metadata": {},
   "outputs": [
    {
     "data": {
      "image/png": "[encoded data removed]",
      "text/plain": [
       "<Figure size 1000x600 with 1 Axes>"
      ]
     },
     "metadata": {},
     "output_type": "display_data"
    },
    {
     "name": "stdout",
     "output_type": "stream",
     "text": [
      "Tech Amount Over Years:\n",
      "Year\n",
      "2018    1.512974e+07\n",
      "2019    3.945833e+07\n",
      "2020    2.485891e+07\n",
      "2021    2.235067e+07\n",
      "Name: Updated_Amount, dtype: float64\n",
      "\n",
      "Non_tech Amount Over Years:\n",
      "Year\n",
      "2018    1.747267e+07\n",
      "2019    4.889079e+07\n",
      "2020    2.093262e+08\n",
      "2021    3.540784e+07\n",
      "Name: Updated_Amount, dtype: float64\n"
     ]
    }
   ],
   "source": [
    "import matplotlib.pyplot as plt\n",
    "import seaborn as sns\n",
    "\n",
    "# Assuming 'Amount' is the column containing the financial amounts\n",
    "# Assuming 'Year' is the column containing the years\n",
    "\n",
    "# Summing the amounts for 'Tech' and 'Non_tech' sectors over the years\n",
    "tech_amount_over_years = india_startup_df.loc[india_startup_df['Tech'].notnull()].groupby('Year')['Updated_Amount'].mean()\n",
    "non_tech_amount_over_years = india_startup_df.loc[india_startup_df['Non_tech'].notnull()].groupby('Year')['Updated_Amount'].mean()\n",
    "\n",
    "# Creating a line chart to visualize the comparison over the years\n",
    "plt.figure(figsize=(10, 6))\n",
    "\n",
    "# Line chart for 'Tech'\n",
    "sns.lineplot(x=tech_amount_over_years.index, y=tech_amount_over_years.values, label='Tech', marker='o')\n",
    "\n",
    "# Line chart for 'Non_tech'\n",
    "sns.lineplot(x=non_tech_amount_over_years.index, y=non_tech_amount_over_years.values, label='Non-tech', marker='o')\n",
    "\n",
    "plt.title('Total Amount Comparison: Tech vs Non-tech Over the Years')\n",
    "plt.xlabel('Year')\n",
    "plt.ylabel('Total Amount')\n",
    "plt.legend()\n",
    "plt.show()\n",
    "\n",
    "# Display the numerical values\n",
    "print('Tech Amount Over Years:')\n",
    "print(tech_amount_over_years)\n",
    "print('\\nNon_tech Amount Over Years:')\n",
    "print(non_tech_amount_over_years)\n"
   ]
  },
  {
   "cell_type": "code",
   "execution_count": 104,
   "metadata": {},
   "outputs": [
    {
     "name": "stdout",
     "output_type": "stream",
     "text": [
      "Fail to reject the null hypothesis. There is no significant difference.\n"
     ]
    }
   ],
   "source": [
    "from scipy.stats import ttest_ind\n",
    "\n",
    "# Assuming tech_amount_over_years and non_tech_amount_over_years are pandas Series for total amounts over the years\n",
    "t_stat, p_value = ttest_ind(tech_amount_over_years, non_tech_amount_over_years, equal_var=False)\n",
    "\n",
    "# Check the p-value\n",
    "if p_value < 0.05:\n",
    "    print(\"Reject the null hypothesis. There is a significant difference.\")\n",
    "else:\n",
    "    print(\"Fail to reject the null hypothesis. There is no significant difference.\")\n"
   ]
  },
  {
   "cell_type": "code",
   "execution_count": 107,
   "metadata": {},
   "outputs": [
    {
     "ename": "IndexingError",
     "evalue": "Unalignable boolean Series provided as indexer (index of the boolean Series and of the indexed object do not match).",
     "output_type": "error",
     "traceback": [
      "\u001b[1;31m---------------------------------------------------------------------------\u001b[0m",
      "\u001b[1;31mIndexingError\u001b[0m                             Traceback (most recent call last)",
      "\u001b[1;32mc:\\Users\\Admin\\OneDrive\\LPI\\Test.ipynb Cell 100\u001b[0m line \u001b[0;36m7\n\u001b[0;32m      <a href='vscode-notebook-cell:/c%3A/Users/Admin/OneDrive/LPI/Test.ipynb#Y216sZmlsZQ%3D%3D?line=0'>1</a>\u001b[0m \u001b[39mfrom\u001b[39;00m \u001b[39mscipy\u001b[39;00m\u001b[39m.\u001b[39;00m\u001b[39mstats\u001b[39;00m \u001b[39mimport\u001b[39;00m ttest_ind\n\u001b[0;32m      <a href='vscode-notebook-cell:/c%3A/Users/Admin/OneDrive/LPI/Test.ipynb#Y216sZmlsZQ%3D%3D?line=2'>3</a>\u001b[0m \u001b[39m# Assuming tech_amount_over_years and non_tech_amount_over_years are pandas Series for total amounts over the years\u001b[39;00m\n\u001b[0;32m      <a href='vscode-notebook-cell:/c%3A/Users/Admin/OneDrive/LPI/Test.ipynb#Y216sZmlsZQ%3D%3D?line=3'>4</a>\u001b[0m \u001b[39m# Assuming 'Year' is the column containing the years\u001b[39;00m\n\u001b[0;32m      <a href='vscode-notebook-cell:/c%3A/Users/Admin/OneDrive/LPI/Test.ipynb#Y216sZmlsZQ%3D%3D?line=4'>5</a>\u001b[0m \n\u001b[0;32m      <a href='vscode-notebook-cell:/c%3A/Users/Admin/OneDrive/LPI/Test.ipynb#Y216sZmlsZQ%3D%3D?line=5'>6</a>\u001b[0m \u001b[39m# Filter data for the year 2020\u001b[39;00m\n\u001b[1;32m----> <a href='vscode-notebook-cell:/c%3A/Users/Admin/OneDrive/LPI/Test.ipynb#Y216sZmlsZQ%3D%3D?line=6'>7</a>\u001b[0m tech_amount_2020 \u001b[39m=\u001b[39m tech_amount_over_years\u001b[39m.\u001b[39;49mloc[india_startup_df[\u001b[39m'\u001b[39;49m\u001b[39mYear\u001b[39;49m\u001b[39m'\u001b[39;49m] \u001b[39m==\u001b[39;49m \u001b[39m2020\u001b[39;49m]\n\u001b[0;32m      <a href='vscode-notebook-cell:/c%3A/Users/Admin/OneDrive/LPI/Test.ipynb#Y216sZmlsZQ%3D%3D?line=7'>8</a>\u001b[0m non_tech_amount_2020 \u001b[39m=\u001b[39m non_tech_amount_over_years\u001b[39m.\u001b[39mloc[india_startup_df[\u001b[39m'\u001b[39m\u001b[39mYear\u001b[39m\u001b[39m'\u001b[39m] \u001b[39m==\u001b[39m \u001b[39m2020\u001b[39m]\n\u001b[0;32m     <a href='vscode-notebook-cell:/c%3A/Users/Admin/OneDrive/LPI/Test.ipynb#Y216sZmlsZQ%3D%3D?line=9'>10</a>\u001b[0m \u001b[39m# Perform t-test\u001b[39;00m\n",
      "File \u001b[1;32m~\\AppData\\Local\\Packages\\PythonSoftwareFoundation.Python.3.11_qbz5n2kfra8p0\\LocalCache\\local-packages\\Python311\\site-packages\\pandas\\core\\indexing.py:1153\u001b[0m, in \u001b[0;36m_LocationIndexer.__getitem__\u001b[1;34m(self, key)\u001b[0m\n\u001b[0;32m   1150\u001b[0m axis \u001b[39m=\u001b[39m \u001b[39mself\u001b[39m\u001b[39m.\u001b[39maxis \u001b[39mor\u001b[39;00m \u001b[39m0\u001b[39m\n\u001b[0;32m   1152\u001b[0m maybe_callable \u001b[39m=\u001b[39m com\u001b[39m.\u001b[39mapply_if_callable(key, \u001b[39mself\u001b[39m\u001b[39m.\u001b[39mobj)\n\u001b[1;32m-> 1153\u001b[0m \u001b[39mreturn\u001b[39;00m \u001b[39mself\u001b[39;49m\u001b[39m.\u001b[39;49m_getitem_axis(maybe_callable, axis\u001b[39m=\u001b[39;49maxis)\n",
      "File \u001b[1;32m~\\AppData\\Local\\Packages\\PythonSoftwareFoundation.Python.3.11_qbz5n2kfra8p0\\LocalCache\\local-packages\\Python311\\site-packages\\pandas\\core\\indexing.py:1375\u001b[0m, in \u001b[0;36m_LocIndexer._getitem_axis\u001b[1;34m(self, key, axis)\u001b[0m\n\u001b[0;32m   1373\u001b[0m     \u001b[39mreturn\u001b[39;00m \u001b[39mself\u001b[39m\u001b[39m.\u001b[39m_get_slice_axis(key, axis\u001b[39m=\u001b[39maxis)\n\u001b[0;32m   1374\u001b[0m \u001b[39melif\u001b[39;00m com\u001b[39m.\u001b[39mis_bool_indexer(key):\n\u001b[1;32m-> 1375\u001b[0m     \u001b[39mreturn\u001b[39;00m \u001b[39mself\u001b[39;49m\u001b[39m.\u001b[39;49m_getbool_axis(key, axis\u001b[39m=\u001b[39;49maxis)\n\u001b[0;32m   1376\u001b[0m \u001b[39melif\u001b[39;00m is_list_like_indexer(key):\n\u001b[0;32m   1377\u001b[0m     \u001b[39m# an iterable multi-selection\u001b[39;00m\n\u001b[0;32m   1378\u001b[0m     \u001b[39mif\u001b[39;00m \u001b[39mnot\u001b[39;00m (\u001b[39misinstance\u001b[39m(key, \u001b[39mtuple\u001b[39m) \u001b[39mand\u001b[39;00m \u001b[39misinstance\u001b[39m(labels, MultiIndex)):\n",
      "File \u001b[1;32m~\\AppData\\Local\\Packages\\PythonSoftwareFoundation.Python.3.11_qbz5n2kfra8p0\\LocalCache\\local-packages\\Python311\\site-packages\\pandas\\core\\indexing.py:1171\u001b[0m, in \u001b[0;36m_LocationIndexer._getbool_axis\u001b[1;34m(self, key, axis)\u001b[0m\n\u001b[0;32m   1167\u001b[0m \u001b[39m@final\u001b[39m\n\u001b[0;32m   1168\u001b[0m \u001b[39mdef\u001b[39;00m \u001b[39m_getbool_axis\u001b[39m(\u001b[39mself\u001b[39m, key, axis: AxisInt):\n\u001b[0;32m   1169\u001b[0m     \u001b[39m# caller is responsible for ensuring non-None axis\u001b[39;00m\n\u001b[0;32m   1170\u001b[0m     labels \u001b[39m=\u001b[39m \u001b[39mself\u001b[39m\u001b[39m.\u001b[39mobj\u001b[39m.\u001b[39m_get_axis(axis)\n\u001b[1;32m-> 1171\u001b[0m     key \u001b[39m=\u001b[39m check_bool_indexer(labels, key)\n\u001b[0;32m   1172\u001b[0m     inds \u001b[39m=\u001b[39m key\u001b[39m.\u001b[39mnonzero()[\u001b[39m0\u001b[39m]\n\u001b[0;32m   1173\u001b[0m     \u001b[39mreturn\u001b[39;00m \u001b[39mself\u001b[39m\u001b[39m.\u001b[39mobj\u001b[39m.\u001b[39m_take_with_is_copy(inds, axis\u001b[39m=\u001b[39maxis)\n",
      "File \u001b[1;32m~\\AppData\\Local\\Packages\\PythonSoftwareFoundation.Python.3.11_qbz5n2kfra8p0\\LocalCache\\local-packages\\Python311\\site-packages\\pandas\\core\\indexing.py:2575\u001b[0m, in \u001b[0;36mcheck_bool_indexer\u001b[1;34m(index, key)\u001b[0m\n\u001b[0;32m   2573\u001b[0m indexer \u001b[39m=\u001b[39m result\u001b[39m.\u001b[39mindex\u001b[39m.\u001b[39mget_indexer_for(index)\n\u001b[0;32m   2574\u001b[0m \u001b[39mif\u001b[39;00m \u001b[39m-\u001b[39m\u001b[39m1\u001b[39m \u001b[39min\u001b[39;00m indexer:\n\u001b[1;32m-> 2575\u001b[0m     \u001b[39mraise\u001b[39;00m IndexingError(\n\u001b[0;32m   2576\u001b[0m         \u001b[39m\"\u001b[39m\u001b[39mUnalignable boolean Series provided as \u001b[39m\u001b[39m\"\u001b[39m\n\u001b[0;32m   2577\u001b[0m         \u001b[39m\"\u001b[39m\u001b[39mindexer (index of the boolean Series and of \u001b[39m\u001b[39m\"\u001b[39m\n\u001b[0;32m   2578\u001b[0m         \u001b[39m\"\u001b[39m\u001b[39mthe indexed object do not match).\u001b[39m\u001b[39m\"\u001b[39m\n\u001b[0;32m   2579\u001b[0m     )\n\u001b[0;32m   2581\u001b[0m result \u001b[39m=\u001b[39m result\u001b[39m.\u001b[39mtake(indexer)\n\u001b[0;32m   2583\u001b[0m \u001b[39m# fall through for boolean\u001b[39;00m\n",
      "\u001b[1;31mIndexingError\u001b[0m: Unalignable boolean Series provided as indexer (index of the boolean Series and of the indexed object do not match)."
     ]
    }
   ],
   "source": [
    "from scipy.stats import ttest_ind\n",
    "\n",
    "# Assuming tech_amount_over_years and non_tech_amount_over_years are pandas Series for total amounts over the years\n",
    "# Assuming 'Year' is the column containing the years\n",
    "\n",
    "# Filter data for the year 2020\n",
    "tech_amount_2020 = tech_amount_over_years.loc[india_startup_df['Year'] == 2020]\n",
    "non_tech_amount_2020 = non_tech_amount_over_years.loc[india_startup_df['Year'] == 2020]\n",
    "\n",
    "# Perform t-test\n",
    "t_stat, p_value = ttest_ind(tech_amount_2020, non_tech_amount_2020, equal_var=False)\n",
    "\n",
    "# Check the p-value\n",
    "if p_value < 0.05:\n",
    "    print(\"Reject the null hypothesis. There is a significant difference in 2020.\")\n",
    "else:\n",
    "    print(\"Fail to reject the null hypothesis. There is no significant difference in 2020.\")\n"
   ]
  }
 ],
 "metadata": {
  "kernelspec": {
   "display_name": "Python 3",
   "language": "python",
   "name": "python3"
  },
  "language_info": {
   "codemirror_mode": {
    "name": "ipython",
    "version": 3
   },
   "file_extension": ".py",
   "mimetype": "text/x-python",
   "name": "python",
   "nbconvert_exporter": "python",
   "pygments_lexer": "ipython3",
   "version": "3.11.6"
  }
 },
 "nbformat": 4,
 "nbformat_minor": 2
}
