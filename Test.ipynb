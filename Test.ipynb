{
 "cells": [
  {
   "cell_type": "markdown",
   "metadata": {},
   "source": [
    "# Indian start-up ecosystem"
   ]
  },
  {
   "cell_type": "markdown",
   "metadata": {},
   "source": [
    "Your team is trying to venture into the Indian start-up ecosystem. As the data expert of the team, you are to investigate the ecosystem and propose the best course of action.\n",
    "Analyze funding received by start-ups in India from 2018 to 2021.\n",
    "Separate data for each year of funding will be provided.\n",
    "• In these datasets, you'll find the start-ups' details, the funding amounts received, and the investors' information"
   ]
  },
  {
   "cell_type": "code",
   "execution_count": 1,
   "metadata": {},
   "outputs": [],
   "source": [
    "import pyodbc\n",
    "from dotenv import dotenv_values\n",
    "import pandas as pd \n",
    "import matplotlib.pyplot as plt\n",
    "import numpy as np\n",
    "from scipy import stats\n",
    "from scipy.stats import f_oneway\n",
    "import statistics as stat\n",
    "import warnings\n",
    "import os\n",
    "\n",
    "warnings.filterwarnings('ignore')"
   ]
  },
  {
   "cell_type": "code",
   "execution_count": 2,
   "metadata": {},
   "outputs": [],
   "source": [
    "# Load environment variables from .env file into a dictionary\n",
    "environment_variables = dotenv_values('.env')\n",
    "\n",
    "\n",
    "# Get the values for the credentials you set in the '.env' file\n",
    "server = environment_variables.get(\"SERVER\")\n",
    "database = environment_variables.get(\"DATABASE\")\n",
    "username = environment_variables.get(\"USERNAME\")\n",
    "password = environment_variables.get(\"PASSWORD\")"
   ]
  },
  {
   "cell_type": "code",
   "execution_count": 3,
   "metadata": {},
   "outputs": [],
   "source": [
    "conn_str =f\"DRIVER={{SQL Server}};SERVER={server};DATABASE={database};UID={username};PWD={password}\""
   ]
  },
  {
   "cell_type": "code",
   "execution_count": 4,
   "metadata": {},
   "outputs": [],
   "source": [
    "connection = pyodbc.connect(conn_str)\n",
    "\n",
    "query1 = \"Select * from LP1_startup_funding2020\"\n",
    "data2020 = pd.read_sql(query1, connection)\n",
    "\n",
    "query2 = \"Select * from LP1_startup_funding2021\"\n",
    "data2021 = pd.read_sql(query2, connection)"
   ]
  },
  {
   "cell_type": "code",
   "execution_count": 5,
   "metadata": {},
   "outputs": [],
   "source": [
    "df2018 = pd.read_csv('startup_funding2018.csv')\n",
    "\n",
    "df2019 = pd.read_csv('startup_funding2019.csv')"
   ]
  },
  {
   "cell_type": "markdown",
   "metadata": {},
   "source": [
    "# STEP 1"
   ]
  },
  {
   "cell_type": "code",
   "execution_count": null,
   "metadata": {},
   "outputs": [],
   "source": [
    "# Add a Year Colunm"
   ]
  },
  {
   "cell_type": "code",
   "execution_count": 6,
   "metadata": {},
   "outputs": [],
   "source": [
    "df2018['Year']='2018'\n",
    "df2019['Year']='2019'\n",
    "data2020['Year']='2020'\n",
    "data2021['Year']='2021'"
   ]
  },
  {
   "cell_type": "markdown",
   "metadata": {},
   "source": [
    "# STEP 2"
   ]
  },
  {
   "cell_type": "markdown",
   "metadata": {},
   "source": [
    "Clean and Concat the 2 csv file 2018&2019"
   ]
  },
  {
   "cell_type": "code",
   "execution_count": 7,
   "metadata": {},
   "outputs": [],
   "source": [
    "# Drop the Colunms You see no use keeping\n",
    "\n",
    "df2019.drop(['Founded', 'Founders', 'Investor'], axis=1, inplace=True)\n"
   ]
  },
  {
   "cell_type": "code",
   "execution_count": 8,
   "metadata": {},
   "outputs": [],
   "source": [
    "# Select specific columns and rename them\n",
    "\n",
    "df2018 = df2018.rename(columns={'Company Name': 'Company_Brand', 'Round/Series': 'Stage', 'Industry': 'Sector', 'Amount': 'Amount', 'About Company': 'BIO', 'Location':'HeadQuarter'})\n",
    "df2019 = df2019.rename(columns={'Company/Brand': 'Company_Brand', 'Sector': 'Sector', 'Stage': 'Stage', 'Amount($)': 'Amount', 'What it does': 'BIO', 'HeadQuarter':'HeadQuarter'})\n"
   ]
  },
  {
   "cell_type": "markdown",
   "metadata": {},
   "source": [
    "<b>Harmonising the Stage column entries in 2018&2019 data.<b>"
   ]
  },
  {
   "cell_type": "code",
   "execution_count": 9,
   "metadata": {},
   "outputs": [],
   "source": [
    "# df2018 Dataframe \n",
    "\n",
    "df2018.replace(to_replace=['Seed round', 'Seed funding', 'Early seed', 'Seed fund', 'Seed Investment', 'Seed Round', 'Seed+'], value='Seed', inplace=True)\n",
    "df2018.replace(to_replace=['Angel Round'], value='Angel', inplace=True)\n",
    "df2018.replace(to_replace=['Venture - Series Unknown'], value='Undisclosed', inplace=True)\n",
    "df2018.replace(to_replace=['Debt Financing', 'Post-IPO Debt'], value='Debt', inplace=True)\n",
    "df2018.replace(to_replace=['Private Equity', 'Post-IPO Equity'], value='Equity', inplace=True)\n",
    "df2018.replace(to_replace=['Corporate Round', 'Grant', 'Secondary Market', 'Non-equity Assistance', 'Funding Round'], value='Other', inplace=True)\n",
    "df2018.replace(to_replace=['Pre-Series B', 'Pre-series B'], value='Pre-Seed', inplace=True)"
   ]
  },
  {
   "cell_type": "code",
   "execution_count": 10,
   "metadata": {},
   "outputs": [],
   "source": [
    "# df2019 Dataframe\n",
    "\n",
    "df2019.replace(to_replace=['Seed funding', 'Seed fund', 'Seed round'], value='Seed', inplace=True)\n",
    "df2019.replace(to_replace=['Pre series A', 'Pre-series A'], value='Pre-Seed', inplace=True)\n",
    "df2019.replace(to_replace=['Series B+'], value='Series B', inplace=True)\n",
    "df2019.replace(to_replace=['Post series A', 'Fresh funding'], value='Other', inplace=True)"
   ]
  },
  {
   "cell_type": "code",
   "execution_count": 12,
   "metadata": {},
   "outputs": [],
   "source": [
    "# Remove non-standard entries\n",
    "\n",
    "df2018 = df2018[df2018['Stage'].str.startswith('https') == False]"
   ]
  },
  {
   "cell_type": "code",
   "execution_count": null,
   "metadata": {},
   "outputs": [],
   "source": [
    "df18_19['Stage'].value_counts()"
   ]
  },
  {
   "cell_type": "markdown",
   "metadata": {},
   "source": [
    "# STEP 3"
   ]
  },
  {
   "cell_type": "markdown",
   "metadata": {},
   "source": [
    "Currency Convertion "
   ]
  },
  {
   "cell_type": "code",
   "execution_count": 13,
   "metadata": {},
   "outputs": [],
   "source": [
    "# Merge the two csv files \n",
    "\n",
    "df18_19 = pd.concat([df2018, df2019], ignore_index=True)"
   ]
  },
  {
   "cell_type": "code",
   "execution_count": 20,
   "metadata": {},
   "outputs": [],
   "source": [
    "# Create a new column 'currency' based on currency symbols\n",
    "\n",
    "df18_19['currency'] = df18_19['Amount'].apply(lambda x: 'INR' if '₹' in x else ('USD' if '$' in x else 'USD'))"
   ]
  },
  {
   "cell_type": "code",
   "execution_count": 21,
   "metadata": {},
   "outputs": [],
   "source": [
    "# Create columns 'amount_inr' and 'amount_usd'\n",
    "\n",
    "df18_19['amount_inr'] = df18_19.apply(lambda row: row['Amount'] if row['currency'] == 'INR' else 0, axis=1)\n",
    "df18_19['amount_usd'] = df18_19.apply(lambda row: row['Amount'] if row['currency'] == 'USD' else 0, axis=1)"
   ]
  },
  {
   "cell_type": "code",
   "execution_count": 22,
   "metadata": {},
   "outputs": [],
   "source": [
    "# Remove the currency sysmbols and the commas \n",
    "\n",
    "df18_19['amount_inr'] = df18_19['amount_inr'].str.replace('₹', '').str.replace('$', '').str.replace(',', '')\n",
    "df18_19['amount_usd'] = df18_19['amount_usd'].str.replace('₹', '').str.replace('$', '').str.replace(',', '')"
   ]
  },
  {
   "cell_type": "code",
   "execution_count": 23,
   "metadata": {},
   "outputs": [],
   "source": [
    "# Replace 'Undisclosed' values with NaN\n",
    "\n",
    "df18_19['amount_inr'] = df18_19['amount_inr'].replace('Undisclosed', np.nan, regex=True)\n",
    "df18_19['amount_usd'] = df18_19['amount_usd'].replace('Undisclosed', np.nan, regex=True)"
   ]
  },
  {
   "cell_type": "code",
   "execution_count": 24,
   "metadata": {},
   "outputs": [],
   "source": [
    "# Convert the object values into numeric values for calculation\n",
    "\n",
    "df18_19['amount_inr'] = pd.to_numeric(df18_19['amount_inr'], errors='coerce')\n",
    "df18_19['amount_usd'] = pd.to_numeric(df18_19['amount_usd'], errors='coerce')"
   ]
  },
  {
   "cell_type": "code",
   "execution_count": 25,
   "metadata": {},
   "outputs": [],
   "source": [
    "# Define the exchange rate\n",
    "exchange_rate_inr_to_usd = 1 / 83.23  # 1 USD = 83.23 INR\n",
    "\n",
    "# Convert 'amount_inr' to USD\n",
    "df18_19['amount_inr'] = df18_19['amount_inr'].apply(lambda x: x * exchange_rate_inr_to_usd if x is not None else None)"
   ]
  },
  {
   "cell_type": "code",
   "execution_count": 26,
   "metadata": {},
   "outputs": [],
   "source": [
    "# Create a new column 'Updated_Amount' by filling missing values in 'amount_inr' with 'amount_usd'\n",
    "df18_19['Updated_Amount'] = df18_19['amount_inr'].fillna(df18_19['amount_usd'])"
   ]
  },
  {
   "cell_type": "markdown",
   "metadata": {},
   "source": [
    "# STEP 4"
   ]
  },
  {
   "cell_type": "markdown",
   "metadata": {},
   "source": [
    "Clean and Concat the 2 sql file 2020&2021"
   ]
  },
  {
   "cell_type": "code",
   "execution_count": 27,
   "metadata": {},
   "outputs": [],
   "source": [
    "# Renaming the Column\n",
    "\n",
    "data2020 = data2020.rename(columns={'Company_Brand': 'Company_Brand', 'Sector': 'Sector', 'Amount': 'Amount', 'What_it_does': 'BIO', 'Location':'HeadQuarter'})\n",
    "data2021 = data2021.rename(columns={'Company_Brand': 'Company_Brand', 'Sector': 'Sector', 'Amount': 'Amount', 'What_it_does': 'BIO', 'HeadQuarter':'HeadQuarter'})"
   ]
  },
  {
   "cell_type": "markdown",
   "metadata": {},
   "source": [
    "# Drop a columns you see no need of keeping"
   ]
  },
  {
   "cell_type": "code",
   "execution_count": 28,
   "metadata": {},
   "outputs": [],
   "source": [
    "data2020.drop(['Founded', 'Founders', 'Investor'], axis=1, inplace=True)\n",
    "data2021.drop(['Founded', 'Founders', 'Investor'], axis=1, inplace=True)\n",
    "data2020.drop(columns=['column10'], inplace=True)"
   ]
  },
  {
   "cell_type": "markdown",
   "metadata": {},
   "source": [
    "<b>Harmonising the Stage column entries in 2020&2021 data.<b>"
   ]
  },
  {
   "cell_type": "code",
   "execution_count": 29,
   "metadata": {},
   "outputs": [],
   "source": [
    "# data2020 DataFrame \n",
    "\n",
    "data2020.replace(to_replace=['Seed Round', 'Seed round', 'Seed funding', 'Seed A', 'Seed Funding', 'Seed Investment','Pre seed Round', 'Seed funding' 'Seed A' 'Pre-seed', 'Pre seed round', 'Pre-seed Round', 'Pre-Seed'], value='Seed', inplace=True)\n",
    "data2020.replace(to_replace=['Series A1', 'Series A-1'], value='Series A', inplace=True)\n",
    "data2020.replace(to_replace=['Series B2'], value='Series B', inplace=True)\n",
    "data2020.replace(to_replace=['Pre series B', 'Pre-Series B', 'Pre series C', 'Pre-Series B' 'Pre series C','Pre series A1', 'Pre-series', 'Pre series A', 'Pre-series A', 'Pre- series A', 'Pre Series A', 'Pre-series A1', 'Pre-series C', 'Pre-series B'], value='Pre-Series', inplace=True)\n",
    "data2020.replace(to_replace=['Series E', 'Series E2', 'Series F'], value='Series E and Beyond', inplace=True)\n",
    "data2020.replace(to_replace=['Series C, D', 'Series D', 'Series D1'], value='Series D', inplace=True)\n",
    "data2020.replace(to_replace=['Bridge Round', 'Edge', 'Bridge'], value='Bridge', inplace=True)\n",
    "data2020.replace(to_replace=['Angel Round'], value='Angel', inplace=True)"
   ]
  },
  {
   "cell_type": "code",
   "execution_count": 30,
   "metadata": {},
   "outputs": [],
   "source": [
    "# data2021 DataFrame\n",
    "\n",
    "data2021.replace(to_replace=['Seed Round', 'Seed round', 'Seed funding', 'Seed A', 'Seed+', 'Seed Funding', 'Seed Investment','Pre seed Round', 'Early seed', 'Seed funding' 'Seed A' 'Pre-seed', 'Pre seed round', 'Pre-seed', 'Pre-seed Round', 'Pre-Seed'], value='Seed', inplace=True)\n",
    "data2021.replace(to_replace=['Series A1', 'Seies A', 'Series A2', 'Series A+', 'Series A-1'], value='Series A', inplace=True)\n",
    "data2021.replace(to_replace=['Series B2', 'Series B3'], value='Series B', inplace=True)\n",
    "data2021.replace(to_replace=['Pre series B', 'Pre-Series B', 'Pre series C', 'Pre-Series B' 'Pre series C','Pre series A1', 'Pre-series', 'Pre series A', 'Pre-series A', 'Pre- series A', 'Pre Series A', 'Pre-series A1', 'Pre-series C', 'Pre-series B'], value='Pre-Series', inplace=True)\n",
    "data2021.replace(to_replace=['Series E', 'Series I', 'Series F1', 'Series H', 'Series G', 'Series F2', 'Series E2', 'Series F'], value='Series E and Beyond', inplace=True)\n",
    "data2021.replace(to_replace=['Series C, D', 'Series D', 'Series D1'], value='Series D', inplace=True)\n",
    "data2021.replace(to_replace=['Bridge Round', 'Edge', 'Bridge'], value='Bridge', inplace=True)\n",
    "data2021.replace(to_replace=['Angel Round', '$300000', '$1200000', '$6000000', '$1000000'], value='Angel', inplace=True)"
   ]
  },
  {
   "cell_type": "code",
   "execution_count": null,
   "metadata": {},
   "outputs": [],
   "source": [
    "df20_21['Stage'].value_counts()"
   ]
  },
  {
   "cell_type": "markdown",
   "metadata": {},
   "source": [
    "# STEP 5"
   ]
  },
  {
   "cell_type": "markdown",
   "metadata": {},
   "source": [
    "Currency Convertion "
   ]
  },
  {
   "cell_type": "code",
   "execution_count": 31,
   "metadata": {},
   "outputs": [],
   "source": [
    "# Merge the two sql files \n",
    "\n",
    "df20_21 = pd.concat([data2020, data2021], ignore_index=True)"
   ]
  },
  {
   "cell_type": "code",
   "execution_count": 33,
   "metadata": {},
   "outputs": [
    {
     "data": {
      "text/plain": [
       "Stage\n",
       "Seed                     468\n",
       "Pre-Series               306\n",
       "Series A                 226\n",
       "Series B                 109\n",
       "Series C                  95\n",
       "Series D                  46\n",
       "Debt                      45\n",
       "Series E and Beyond       42\n",
       "Pre-seed                  11\n",
       "Bridge                    10\n",
       "Angel                     10\n",
       "Series H                   1\n",
       "Seed Round & Series A      1\n",
       "Mid series                 1\n",
       "PE                         1\n",
       "Name: count, dtype: int64"
      ]
     },
     "execution_count": 33,
     "metadata": {},
     "output_type": "execute_result"
    }
   ],
   "source": [
    "df20_21"
   ]
  },
  {
   "cell_type": "code",
   "execution_count": 34,
   "metadata": {},
   "outputs": [],
   "source": [
    "# Create a new column 'Updated_Amount' by filling missing values in 'amount_inr' with 'amount_usd'\n",
    "\n",
    "df20_21['Updated_Amount'] = df20_21['Amount']"
   ]
  },
  {
   "cell_type": "code",
   "execution_count": 35,
   "metadata": {},
   "outputs": [],
   "source": [
    "# Create a column 'with_$' for values with '$' sign and 'without_$' for values without '$'\n",
    "\n",
    "df20_21['with_$'] = df20_21['Updated_Amount'].apply(lambda x: x if '$' in str(x) else None)\n",
    "df20_21['without_$'] = df20_21['Updated_Amount'].apply(lambda x: x if '$' not in str(x) else None)\n"
   ]
  },
  {
   "cell_type": "code",
   "execution_count": 37,
   "metadata": {},
   "outputs": [],
   "source": [
    "# Remove the currency sysmbols and the commas \n",
    "\n",
    "df20_21['with_$'] = df20_21['with_$'].str.replace('$', '')\n"
   ]
  },
  {
   "cell_type": "code",
   "execution_count": 38,
   "metadata": {},
   "outputs": [],
   "source": [
    "# Replace 'Undisclosed' values with NaN\n",
    "\n",
    "df20_21['with_$'] = df20_21['with_$'].replace('Undisclosed', np.nan, regex=True)"
   ]
  },
  {
   "cell_type": "code",
   "execution_count": 39,
   "metadata": {},
   "outputs": [],
   "source": [
    "# Convert the object values into numeric values for calculation\n",
    "\n",
    "df20_21['with_$'] = pd.to_numeric(df20_21['with_$'], errors='coerce')\n",
    "df20_21['without_$'] = pd.to_numeric(df20_21['without_$'], errors='coerce')"
   ]
  },
  {
   "cell_type": "code",
   "execution_count": 40,
   "metadata": {},
   "outputs": [],
   "source": [
    "# Merge the two Colunms into a new colunm \n",
    "\n",
    "df20_21['Updated_Amount'] = df20_21['without_$'].fillna(df20_21['with_$'])"
   ]
  },
  {
   "cell_type": "code",
   "execution_count": 41,
   "metadata": {},
   "outputs": [
    {
     "name": "stdout",
     "output_type": "stream",
     "text": [
      "<class 'pandas.core.frame.DataFrame'>\n",
      "RangeIndex: 2264 entries, 0 to 2263\n",
      "Data columns (total 10 columns):\n",
      " #   Column          Non-Null Count  Dtype  \n",
      "---  ------          --------------  -----  \n",
      " 0   Company_Brand   2264 non-null   object \n",
      " 1   HeadQuarter     2169 non-null   object \n",
      " 2   Sector          2251 non-null   object \n",
      " 3   BIO             2264 non-null   object \n",
      " 4   Amount          2007 non-null   object \n",
      " 5   Stage           1372 non-null   object \n",
      " 6   Year            2264 non-null   object \n",
      " 7   Updated_Amount  1420 non-null   float64\n",
      " 8   with_$          619 non-null    float64\n",
      " 9   without_$       801 non-null    float64\n",
      "dtypes: float64(3), object(7)\n",
      "memory usage: 177.0+ KB\n"
     ]
    }
   ],
   "source": [
    "df20_21.info()"
   ]
  },
  {
   "cell_type": "code",
   "execution_count": 42,
   "metadata": {},
   "outputs": [
    {
     "name": "stdout",
     "output_type": "stream",
     "text": [
      "<class 'pandas.core.frame.DataFrame'>\n",
      "RangeIndex: 614 entries, 0 to 613\n",
      "Data columns (total 11 columns):\n",
      " #   Column          Non-Null Count  Dtype  \n",
      "---  ------          --------------  -----  \n",
      " 0   Company_Brand   614 non-null    object \n",
      " 1   Sector          609 non-null    object \n",
      " 2   Stage           568 non-null    object \n",
      " 3   Amount          614 non-null    object \n",
      " 4   HeadQuarter     595 non-null    object \n",
      " 5   BIO             614 non-null    object \n",
      " 6   Year            614 non-null    object \n",
      " 7   currency        614 non-null    object \n",
      " 8   amount_inr      144 non-null    float64\n",
      " 9   amount_usd      310 non-null    float64\n",
      " 10  Updated_Amount  454 non-null    float64\n",
      "dtypes: float64(3), object(8)\n",
      "memory usage: 52.9+ KB\n"
     ]
    }
   ],
   "source": [
    "df18_19.info()"
   ]
  },
  {
   "cell_type": "markdown",
   "metadata": {},
   "source": [
    "# Merging All the Files "
   ]
  },
  {
   "cell_type": "code",
   "execution_count": 43,
   "metadata": {},
   "outputs": [],
   "source": [
    "df18_19.drop(['amount_usd', 'amount_inr', 'currency'], axis=1, inplace=True)\n",
    "df20_21.drop(['without_$', 'with_$'], axis=1, inplace=True)\n"
   ]
  },
  {
   "cell_type": "code",
   "execution_count": 44,
   "metadata": {},
   "outputs": [],
   "source": [
    "india_startup_df = pd.concat([df18_19, df20_21], ignore_index=True)"
   ]
  },
  {
   "cell_type": "code",
   "execution_count": 45,
   "metadata": {},
   "outputs": [],
   "source": [
    "\n",
    "# Fill missing values in the specific column with 0.0\n",
    "india_startup_df['Updated_Amount'].fillna(0.0, inplace=True)\n",
    "india_startup_df['Amount'].fillna(0.0, inplace=True)\n",
    "\n"
   ]
  },
  {
   "cell_type": "code",
   "execution_count": 46,
   "metadata": {},
   "outputs": [],
   "source": [
    "# Fill missing values in  with \"unknown\"\n",
    "india_startup_df.fillna(\"unknown\", inplace=True)"
   ]
  },
  {
   "cell_type": "code",
   "execution_count": 47,
   "metadata": {},
   "outputs": [
    {
     "name": "stdout",
     "output_type": "stream",
     "text": [
      "<class 'pandas.core.frame.DataFrame'>\n",
      "RangeIndex: 2878 entries, 0 to 2877\n",
      "Data columns (total 8 columns):\n",
      " #   Column          Non-Null Count  Dtype  \n",
      "---  ------          --------------  -----  \n",
      " 0   Company_Brand   2878 non-null   object \n",
      " 1   Sector          2878 non-null   object \n",
      " 2   Stage           2878 non-null   object \n",
      " 3   Amount          2878 non-null   object \n",
      " 4   HeadQuarter     2878 non-null   object \n",
      " 5   BIO             2878 non-null   object \n",
      " 6   Year            2878 non-null   object \n",
      " 7   Updated_Amount  2878 non-null   float64\n",
      "dtypes: float64(1), object(7)\n",
      "memory usage: 180.0+ KB\n"
     ]
    }
   ],
   "source": [
    "india_startup_df.info()"
   ]
  },
  {
   "cell_type": "markdown",
   "metadata": {},
   "source": [
    "Null Hypothesis: \n",
    "\n",
    "The total funding received by Indian startups has been increasing over the years (from 2018 to 2021).\n",
    "\n",
    "Explanation: This hypothesis focuses on the trend in total funding over time. \n",
    "\n",
    "Calculate the total funding received by all startups for each year (2018, 2019, 2020, 2021).\n",
    "Create a time series plot or line chart to visualize the funding trend over the four years."
   ]
  },
  {
   "cell_type": "code",
   "execution_count": 49,
   "metadata": {},
   "outputs": [
    {
     "data": {
      "text/plain": [
       "Stage\n",
       "unknown                  938\n",
       "Seed                     751\n",
       "Series A                 309\n",
       "Pre-Series               306\n",
       "Series B                 138\n",
       "Series C                 114\n",
       "Debt                      60\n",
       "Series D                  53\n",
       "Angel                     47\n",
       "Series E and Beyond       42\n",
       "Undisclosed               39\n",
       "Other                     19\n",
       "Pre-Seed                  15\n",
       "Equity                    13\n",
       "Pre-seed                  11\n",
       "Bridge                    10\n",
       "Series E                   6\n",
       "Series H                   2\n",
       "Series F                   1\n",
       "Series G                   1\n",
       "Seed Round & Series A      1\n",
       "Mid series                 1\n",
       "PE                         1\n",
       "Name: count, dtype: int64"
      ]
     },
     "execution_count": 49,
     "metadata": {},
     "output_type": "execute_result"
    }
   ],
   "source": [
    "india_startup_df['Stage'].value_counts()"
   ]
  },
  {
   "cell_type": "code",
   "execution_count": 50,
   "metadata": {},
   "outputs": [
    {
     "data": {
      "text/plain": [
       "0       False\n",
       "1       False\n",
       "2       False\n",
       "3       False\n",
       "4       False\n",
       "        ...  \n",
       "2873    False\n",
       "2874    False\n",
       "2875    False\n",
       "2876    False\n",
       "2877    False\n",
       "Name: Updated_Amount, Length: 2878, dtype: bool"
      ]
     },
     "execution_count": 50,
     "metadata": {},
     "output_type": "execute_result"
    }
   ],
   "source": [
    "# Calculate the count of missing values in a specific column\n",
    "missing_values_count = india_startup_df['Updated_Amount'].isna()\n",
    "missing_values_count\n"
   ]
  },
  {
   "cell_type": "code",
   "execution_count": 51,
   "metadata": {},
   "outputs": [],
   "source": [
    "# Get the Sum\n",
    "\n",
    "total_funding = india_startup_df.groupby('Year')['Updated_Amount'].mean()"
   ]
  },
  {
   "cell_type": "code",
   "execution_count": 52,
   "metadata": {},
   "outputs": [
    {
     "data": {
      "image/png": "[encoded data removed]",
      "text/plain": [
       "<Figure size 1000x600 with 1 Axes>"
      ]
     },
     "metadata": {},
     "output_type": "display_data"
    }
   ],
   "source": [
    "# Plot the time series\n",
    "plt.figure(figsize=(10, 6))\n",
    "plt.plot(total_funding.index, total_funding.values, marker='o', linestyle='-', color='b')\n",
    "plt.xlabel('Year')\n",
    "plt.ylabel('Average Funding Amount (in millions)')\n",
    "plt.title('Average Funding Trend Over Four Years (2018-2021)')\n",
    "plt.grid(True)\n",
    "plt.show()"
   ]
  },
  {
   "cell_type": "markdown",
   "metadata": {},
   "source": [
    "Null Hypothesis:\n",
    "\n",
    "The headquarters location of a startup in India (e.g., Chennai, Bangalore, Pune, New Delhi, Indore) has an impact on the funding amount it receives.\n",
    "\n",
    "Explanation: \n",
    "The location of a startup's headquarters may influence its access to funding. For example, we might expect that startups in major startup hubs like Bangalore receive larger amounts of funding compared to those in smaller cities. \n",
    "\n",
    "ANOVA or Kruskal-Wallis Test: To determine if there are significant differences in funding amounts between startups in different cities.\n"
   ]
  },
  {
   "cell_type": "code",
   "execution_count": 297,
   "metadata": {},
   "outputs": [
    {
     "name": "stdout",
     "output_type": "stream",
     "text": [
      "There is no significant difference in funding amounts between cities.\n"
     ]
    }
   ],
   "source": [
    "\n",
    "\n",
    "# Extract unique locations from the 'HeadQuarter' \n",
    "locations = india_startup_df['HeadQuarter'].unique()\n",
    "\n",
    "# Groupy data by headquarter\n",
    "groups = [india_startup_df[india_startup_df['HeadQuarter'] == location ]['Updated_Amount']\n",
    "for location in locations]\n",
    "\n",
    "# Perform ANOVA test\n",
    "f_statistic, p_value = f_oneway(*groups)\n",
    "\n",
    "# Check the p-value to determine statistical significance\n",
    "if p_value < 0.05:\n",
    "    print(\"There is a significant difference in funding amounts between cities.\")\n",
    "else:\n",
    "    print(\"There is no significant difference in funding amounts between cities.\")\n"
   ]
  },
  {
   "cell_type": "markdown",
   "metadata": {},
   "source": [
    "# Analytic Question"
   ]
  },
  {
   "cell_type": "markdown",
   "metadata": {},
   "source": [
    "1.)Trend Analysis: Is there a noticeable trend in the total funding received by Indian startups from 2018 to 2021? Are the funding amounts increasing or decreasing over the years?\n",
    "\n",
    "2.)Sector Analysis: Which sector received the highest average funding in 2019, and has it changed in 2020 and 2021? Are there sectors that consistently attract more funding over the years?\n",
    "\n",
    "3.)Location Impact: Do startups headquartered in specific cities or regions (e.g., Bangalore, Mumbai, Chennai) tend to receive more funding on average? Is there a correlation between the location of a startup and its funding amount?\n",
    "\n",
    "4.)Stage of Funding: Are there significant differences in average funding amounts based on the funding stage (e.g., Seed, Series A, Series D) of the startups? How does the stage of funding impact the funding received by startups?\n",
    "\n",
    "5.)Correlation between Sectors and Funding Stages: Is there a relationship between the sector of a startup and its funding stage? For example, do startups in the EdTech sector tend to receive more funding at a specific stage compared to startups in other sectors?\n"
   ]
  },
  {
   "cell_type": "code",
   "execution_count": 54,
   "metadata": {},
   "outputs": [
    {
     "ename": "KeyError",
     "evalue": "'Updated_Amount'",
     "output_type": "error",
     "traceback": [
      "\u001b[1;31m---------------------------------------------------------------------------\u001b[0m",
      "\u001b[1;31mKeyError\u001b[0m                                  Traceback (most recent call last)",
      "File \u001b[1;32m~\\AppData\\Local\\Packages\\PythonSoftwareFoundation.Python.3.11_qbz5n2kfra8p0\\LocalCache\\local-packages\\Python311\\site-packages\\pandas\\core\\indexes\\base.py:3790\u001b[0m, in \u001b[0;36mIndex.get_loc\u001b[1;34m(self, key)\u001b[0m\n\u001b[0;32m   3789\u001b[0m \u001b[39mtry\u001b[39;00m:\n\u001b[1;32m-> 3790\u001b[0m     \u001b[39mreturn\u001b[39;00m \u001b[39mself\u001b[39;49m\u001b[39m.\u001b[39;49m_engine\u001b[39m.\u001b[39;49mget_loc(casted_key)\n\u001b[0;32m   3791\u001b[0m \u001b[39mexcept\u001b[39;00m \u001b[39mKeyError\u001b[39;00m \u001b[39mas\u001b[39;00m err:\n",
      "File \u001b[1;32mindex.pyx:152\u001b[0m, in \u001b[0;36mpandas._libs.index.IndexEngine.get_loc\u001b[1;34m()\u001b[0m\n",
      "File \u001b[1;32mindex.pyx:181\u001b[0m, in \u001b[0;36mpandas._libs.index.IndexEngine.get_loc\u001b[1;34m()\u001b[0m\n",
      "File \u001b[1;32mpandas\\_libs\\hashtable_class_helper.pxi:7080\u001b[0m, in \u001b[0;36mpandas._libs.hashtable.PyObjectHashTable.get_item\u001b[1;34m()\u001b[0m\n",
      "File \u001b[1;32mpandas\\_libs\\hashtable_class_helper.pxi:7088\u001b[0m, in \u001b[0;36mpandas._libs.hashtable.PyObjectHashTable.get_item\u001b[1;34m()\u001b[0m\n",
      "\u001b[1;31mKeyError\u001b[0m: 'Updated_Amount'",
      "\nThe above exception was the direct cause of the following exception:\n",
      "\u001b[1;31mKeyError\u001b[0m                                  Traceback (most recent call last)",
      "\u001b[1;32mc:\\Users\\Admin\\OneDrive\\LPI\\Test.ipynb Cell 66\u001b[0m line \u001b[0;36m1\n\u001b[0;32m      <a href='vscode-notebook-cell:/c%3A/Users/Admin/OneDrive/LPI/Test.ipynb#Y130sZmlsZQ%3D%3D?line=8'>9</a>\u001b[0m \u001b[39m# Plot each numerical column\u001b[39;00m\n\u001b[0;32m     <a href='vscode-notebook-cell:/c%3A/Users/Admin/OneDrive/LPI/Test.ipynb#Y130sZmlsZQ%3D%3D?line=9'>10</a>\u001b[0m \u001b[39mfor\u001b[39;00m i, column \u001b[39min\u001b[39;00m \u001b[39menumerate\u001b[39m(numeric_columns):\n\u001b[1;32m---> <a href='vscode-notebook-cell:/c%3A/Users/Admin/OneDrive/LPI/Test.ipynb#Y130sZmlsZQ%3D%3D?line=10'>11</a>\u001b[0m     df2018[column]\u001b[39m.\u001b[39mplot(ax\u001b[39m=\u001b[39maxes[i], kind\u001b[39m=\u001b[39m\u001b[39m'\u001b[39m\u001b[39mhist\u001b[39m\u001b[39m'\u001b[39m, title\u001b[39m=\u001b[39mcolumn)\n\u001b[0;32m     <a href='vscode-notebook-cell:/c%3A/Users/Admin/OneDrive/LPI/Test.ipynb#Y130sZmlsZQ%3D%3D?line=11'>12</a>\u001b[0m     axes[i]\u001b[39m.\u001b[39mset_xlabel(column)\n\u001b[0;32m     <a href='vscode-notebook-cell:/c%3A/Users/Admin/OneDrive/LPI/Test.ipynb#Y130sZmlsZQ%3D%3D?line=13'>14</a>\u001b[0m plt\u001b[39m.\u001b[39mtight_layout()\n",
      "File \u001b[1;32m~\\AppData\\Local\\Packages\\PythonSoftwareFoundation.Python.3.11_qbz5n2kfra8p0\\LocalCache\\local-packages\\Python311\\site-packages\\pandas\\core\\frame.py:3896\u001b[0m, in \u001b[0;36mDataFrame.__getitem__\u001b[1;34m(self, key)\u001b[0m\n\u001b[0;32m   3894\u001b[0m \u001b[39mif\u001b[39;00m \u001b[39mself\u001b[39m\u001b[39m.\u001b[39mcolumns\u001b[39m.\u001b[39mnlevels \u001b[39m>\u001b[39m \u001b[39m1\u001b[39m:\n\u001b[0;32m   3895\u001b[0m     \u001b[39mreturn\u001b[39;00m \u001b[39mself\u001b[39m\u001b[39m.\u001b[39m_getitem_multilevel(key)\n\u001b[1;32m-> 3896\u001b[0m indexer \u001b[39m=\u001b[39m \u001b[39mself\u001b[39;49m\u001b[39m.\u001b[39;49mcolumns\u001b[39m.\u001b[39;49mget_loc(key)\n\u001b[0;32m   3897\u001b[0m \u001b[39mif\u001b[39;00m is_integer(indexer):\n\u001b[0;32m   3898\u001b[0m     indexer \u001b[39m=\u001b[39m [indexer]\n",
      "File \u001b[1;32m~\\AppData\\Local\\Packages\\PythonSoftwareFoundation.Python.3.11_qbz5n2kfra8p0\\LocalCache\\local-packages\\Python311\\site-packages\\pandas\\core\\indexes\\base.py:3797\u001b[0m, in \u001b[0;36mIndex.get_loc\u001b[1;34m(self, key)\u001b[0m\n\u001b[0;32m   3792\u001b[0m     \u001b[39mif\u001b[39;00m \u001b[39misinstance\u001b[39m(casted_key, \u001b[39mslice\u001b[39m) \u001b[39mor\u001b[39;00m (\n\u001b[0;32m   3793\u001b[0m         \u001b[39misinstance\u001b[39m(casted_key, abc\u001b[39m.\u001b[39mIterable)\n\u001b[0;32m   3794\u001b[0m         \u001b[39mand\u001b[39;00m \u001b[39many\u001b[39m(\u001b[39misinstance\u001b[39m(x, \u001b[39mslice\u001b[39m) \u001b[39mfor\u001b[39;00m x \u001b[39min\u001b[39;00m casted_key)\n\u001b[0;32m   3795\u001b[0m     ):\n\u001b[0;32m   3796\u001b[0m         \u001b[39mraise\u001b[39;00m InvalidIndexError(key)\n\u001b[1;32m-> 3797\u001b[0m     \u001b[39mraise\u001b[39;00m \u001b[39mKeyError\u001b[39;00m(key) \u001b[39mfrom\u001b[39;00m \u001b[39merr\u001b[39;00m\n\u001b[0;32m   3798\u001b[0m \u001b[39mexcept\u001b[39;00m \u001b[39mTypeError\u001b[39;00m:\n\u001b[0;32m   3799\u001b[0m     \u001b[39m# If we have a listlike key, _check_indexing_error will raise\u001b[39;00m\n\u001b[0;32m   3800\u001b[0m     \u001b[39m#  InvalidIndexError. Otherwise we fall through and re-raise\u001b[39;00m\n\u001b[0;32m   3801\u001b[0m     \u001b[39m#  the TypeError.\u001b[39;00m\n\u001b[0;32m   3802\u001b[0m     \u001b[39mself\u001b[39m\u001b[39m.\u001b[39m_check_indexing_error(key)\n",
      "\u001b[1;31mKeyError\u001b[0m: 'Updated_Amount'"
     ]
    },
    {
     "data": {
      "image/png": "[encoded data removed]",
      "text/plain": [
       "<Figure size 1000x500 with 1 Axes>"
      ]
     },
     "metadata": {},
     "output_type": "display_data"
    }
   ],
   "source": [
    "import matplotlib.pyplot as plt\n",
    "\n",
    "# Selecting numerical columns\n",
    "numeric_columns = df18_19.select_dtypes(include='number').columns\n",
    "\n",
    "# Create subplots\n",
    "fig, axes = plt.subplots(nrows=len(numeric_columns), ncols=1, figsize=(10, 5 * len(numeric_columns)))\n",
    "\n",
    "# Plot each numerical column\n",
    "for i, column in enumerate(numeric_columns):\n",
    "    df2018[column].plot(ax=axes[i], kind='hist', title=column)\n",
    "    axes[i].set_xlabel(column)\n",
    "\n",
    "plt.tight_layout()\n",
    "plt.show()\n"
   ]
  },
  {
   "cell_type": "code",
   "execution_count": 55,
   "metadata": {},
   "outputs": [
    {
     "name": "stdout",
     "output_type": "stream",
     "text": [
      "'Updated_Amount' not found in numerical columns.\n"
     ]
    }
   ],
   "source": [
    "import matplotlib.pyplot as plt\n",
    "\n",
    "# Selecting numerical columns\n",
    "numeric_columns = df2018.select_dtypes(include='number').columns\n",
    "\n",
    "# Check if 'Updated_Amount' is in numeric_columns\n",
    "if 'Updated_Amount' in numeric_columns:\n",
    "    # Create subplots\n",
    "    fig, axes = plt.subplots(nrows=len(numeric_columns), ncols=1, figsize=(10, 5 * len(numeric_columns)))\n",
    "\n",
    "    # Plot each numerical column\n",
    "    for i, column in enumerate(numeric_columns):\n",
    "        df2018[column].plot(ax=axes[i], kind='hist', title=column)\n",
    "        axes[i].set_xlabel(column)\n",
    "\n",
    "    plt.tight_layout()\n",
    "    plt.show()\n",
    "else:\n",
    "    print(\"'Updated_Amount' not found in numerical columns.\")\n"
   ]
  },
  {
   "cell_type": "code",
   "execution_count": 56,
   "metadata": {},
   "outputs": [
    {
     "data": {
      "text/plain": [
       "dtype('float64')"
      ]
     },
     "execution_count": 56,
     "metadata": {},
     "output_type": "execute_result"
    }
   ],
   "source": [
    "df18_19['Updated_Amount'].dtype"
   ]
  }
 ],
 "metadata": {
  "kernelspec": {
   "display_name": "Python 3",
   "language": "python",
   "name": "python3"
  },
  "language_info": {
   "codemirror_mode": {
    "name": "ipython",
    "version": 3
   },
   "file_extension": ".py",
   "mimetype": "text/x-python",
   "name": "python",
   "nbconvert_exporter": "python",
   "pygments_lexer": "ipython3",
   "version": "3.11.4"
  }
 },
 "nbformat": 4,
 "nbformat_minor": 2
}
