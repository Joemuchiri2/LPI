{
 "cells": [
  {
   "cell_type": "markdown",
   "metadata": {},
   "source": [
    "# Import all the Packages you will need "
   ]
  },
  {
   "cell_type": "code",
   "execution_count": 229,
   "metadata": {},
   "outputs": [],
   "source": [
    "import pyodbc\n",
    "from dotenv import dotenv_values\n",
    "import pandas as pd \n",
    "import matplotlib.pyplot as plt\n",
    "import numpy as np\n",
    "from scipy import stats\n",
    "import statistics as stat\n",
    "import warnings\n",
    "import os\n",
    "\n",
    "warnings.filterwarnings('ignore')"
   ]
  },
  {
   "cell_type": "markdown",
   "metadata": {},
   "source": [
    "# Load the Environments and get the variables form your.env file "
   ]
  },
  {
   "cell_type": "code",
   "execution_count": 230,
   "metadata": {},
   "outputs": [],
   "source": [
    "# Load environment variables from .env file into a dictionary\n",
    "environment_variables = dotenv_values('.env')\n",
    "\n",
    "\n",
    "# Get the values for the credentials you set in the '.env' file\n",
    "server = environment_variables.get(\"SERVER\")\n",
    "database = environment_variables.get(\"DATABASE\")\n",
    "username = environment_variables.get(\"USERNAME\")\n",
    "password = environment_variables.get(\"PASSWORD\")"
   ]
  },
  {
   "cell_type": "code",
   "execution_count": 231,
   "metadata": {},
   "outputs": [],
   "source": [
    "conn_str =f\"DRIVER={{SQL Server}};SERVER={server};DATABASE={database};UID={username};PWD={password}\""
   ]
  },
  {
   "cell_type": "markdown",
   "metadata": {},
   "source": [
    "# Make the Connection and Read the Tables"
   ]
  },
  {
   "cell_type": "code",
   "execution_count": 232,
   "metadata": {},
   "outputs": [],
   "source": [
    "connection = pyodbc.connect(conn_str)\n",
    "\n",
    "query1 = \"Select * from LP1_startup_funding2020\"\n",
    "data2020 = pd.read_sql(query1, connection)\n",
    "\n",
    "query2 = \"Select * from LP1_startup_funding2021\"\n",
    "data2021 = pd.read_sql(query2, connection)"
   ]
  },
  {
   "cell_type": "markdown",
   "metadata": {},
   "source": [
    "# Read the csv "
   ]
  },
  {
   "cell_type": "code",
   "execution_count": 233,
   "metadata": {},
   "outputs": [],
   "source": [
    "df2018 = pd.read_csv('startup_funding2018.csv')\n",
    "\n",
    "df2019 = pd.read_csv('startup_funding2019.csv')"
   ]
  },
  {
   "cell_type": "markdown",
   "metadata": {},
   "source": [
    "# Drop Colunms that are not going to be needed in the project and also the Empty Colunms "
   ]
  },
  {
   "cell_type": "code",
   "execution_count": 234,
   "metadata": {},
   "outputs": [],
   "source": [
    "\n",
    "df2019.drop(['Founded', 'Founders', 'Investor'], axis=1, inplace=True)\n",
    "data2020.drop(['Founded', 'Founders', 'Investor'], axis=1, inplace=True)\n",
    "data2021.drop(['Founded', 'Founders', 'Investor'], axis=1, inplace=True)\n"
   ]
  },
  {
   "cell_type": "code",
   "execution_count": 235,
   "metadata": {},
   "outputs": [],
   "source": [
    "df2018 = df2018.rename(columns={'Company Name': 'Company_Brand', 'Round/Series': 'Stage', 'Industry': 'Sector', 'Amount': 'Amount', 'About Company': 'BIO', 'Location':'HeadQuarter'})\n",
    "df2019 = df2019.rename(columns={'Company/Brand': 'Company_Brand', 'Sector': 'Sector', 'Stage': 'Stage', 'Amount($)': 'Amount', 'What it does': 'BIO', 'HeadQuarter':'HeadQuarter'})\n",
    "\n"
   ]
  },
  {
   "cell_type": "code",
   "execution_count": 236,
   "metadata": {},
   "outputs": [],
   "source": [
    "df18_19 = pd.concat([df2018, df2019], ignore_index=True)"
   ]
  },
  {
   "cell_type": "code",
   "execution_count": 237,
   "metadata": {},
   "outputs": [],
   "source": [
    "# Create a new column 'currency' based on currency symbols\n",
    "df18_19['currency'] = df18_19['Amount'].apply(lambda x: 'INR' if '₹' in x else ('USD' if '$' in x else 'USD'))\n"
   ]
  },
  {
   "cell_type": "code",
   "execution_count": 238,
   "metadata": {},
   "outputs": [],
   "source": [
    "# Create columns 'amount_inr' and 'amount_usd'\n",
    "df18_19['amount_inr'] = df18_19.apply(lambda row: row['Amount'] if row['currency'] == 'INR' else 0, axis=1)\n",
    "df18_19['amount_usd'] = df18_19.apply(lambda row: row['Amount'] if row['currency'] == 'USD' else 0, axis=1)"
   ]
  },
  {
   "cell_type": "code",
   "execution_count": 239,
   "metadata": {},
   "outputs": [],
   "source": [
    "df18_19['amount_inr'] = df18_19['amount_inr'].str.replace('₹', '').str.replace('$', '').str.replace(',', '')\n",
    "df18_19['amount_usd'] = df18_19['amount_usd'].str.replace('₹', '').str.replace('$', '').str.replace(',', '')"
   ]
  },
  {
   "cell_type": "code",
   "execution_count": 240,
   "metadata": {},
   "outputs": [],
   "source": [
    "df18_19['amount_inr'] = df18_19['amount_inr'].replace('Undisclosed', np.nan, regex=True)\n",
    "df18_19['amount_usd'] = df18_19['amount_usd'].replace('Undisclosed', np.nan, regex=True)"
   ]
  },
  {
   "cell_type": "code",
   "execution_count": 241,
   "metadata": {},
   "outputs": [],
   "source": [
    "df18_19['amount_inr'] = pd.to_numeric(df18_19['amount_inr'], errors='coerce')\n",
    "df18_19['amount_usd'] = pd.to_numeric(df18_19['amount_usd'], errors='coerce')"
   ]
  },
  {
   "cell_type": "code",
   "execution_count": 242,
   "metadata": {},
   "outputs": [],
   "source": [
    "# Define the exchange rate\n",
    "exchange_rate_inr_to_usd = 1 / 83.23  # 1 USD = 83.23 INR\n",
    "\n",
    "# Convert 'amount_inr' to USD\n",
    "df18_19['amount_inr'] = df18_19['amount_inr'].apply(lambda x: x * exchange_rate_inr_to_usd if x is not None else None)\n"
   ]
  },
  {
   "cell_type": "code",
   "execution_count": 226,
   "metadata": {},
   "outputs": [
    {
     "data": {
      "text/plain": [
       "48547002.5367647"
      ]
     },
     "execution_count": 226,
     "metadata": {},
     "output_type": "execute_result"
    }
   ],
   "source": [
    "df18_19['amount_usd'].mean()"
   ]
  },
  {
   "cell_type": "code",
   "execution_count": 244,
   "metadata": {},
   "outputs": [],
   "source": [
    "# Create a new column 'amount_combined' by filling missing values in 'amount_inr' with 'amount_usd'\n",
    "df18_19['amount_combined'] = df18_19['amount_inr'].fillna(df18_19['amount_usd'])\n"
   ]
  },
  {
   "cell_type": "code",
   "execution_count": 250,
   "metadata": {},
   "outputs": [
    {
     "name": "stdout",
     "output_type": "stream",
     "text": [
      "<class 'pandas.core.series.Series'>\n",
      "RangeIndex: 615 entries, 0 to 614\n",
      "Series name: amount_combined\n",
      "Non-Null Count  Dtype  \n",
      "--------------  -----  \n",
      "455 non-null    float64\n",
      "dtypes: float64(1)\n",
      "memory usage: 4.9 KB\n"
     ]
    }
   ],
   "source": [
    "df18_19['amount_combined'].info()"
   ]
  },
  {
   "cell_type": "code",
   "execution_count": 252,
   "metadata": {},
   "outputs": [
    {
     "name": "stdout",
     "output_type": "stream",
     "text": [
      "<class 'pandas.core.series.Series'>\n",
      "RangeIndex: 615 entries, 0 to 614\n",
      "Series name: amount_inr\n",
      "Non-Null Count  Dtype  \n",
      "--------------  -----  \n",
      "144 non-null    float64\n",
      "dtypes: float64(1)\n",
      "memory usage: 4.9 KB\n"
     ]
    }
   ],
   "source": [
    "df18_19['amount_inr'].info()"
   ]
  },
  {
   "cell_type": "code",
   "execution_count": 249,
   "metadata": {},
   "outputs": [
    {
     "name": "stdout",
     "output_type": "stream",
     "text": [
      "<class 'pandas.core.series.Series'>\n",
      "RangeIndex: 615 entries, 0 to 614\n",
      "Series name: Amount\n",
      "Non-Null Count  Dtype \n",
      "--------------  ----- \n",
      "615 non-null    object\n",
      "dtypes: object(1)\n",
      "memory usage: 4.9+ KB\n"
     ]
    }
   ],
   "source": [
    "\n",
    "df18_19['Amount'].info()"
   ]
  },
  {
   "cell_type": "code",
   "execution_count": 111,
   "metadata": {},
   "outputs": [],
   "source": [
    "\n"
   ]
  },
  {
   "cell_type": "code",
   "execution_count": 253,
   "metadata": {},
   "outputs": [
    {
     "data": {
      "text/html": [
       "<div>\n",
       "<style scoped>\n",
       "    .dataframe tbody tr th:only-of-type {\n",
       "        vertical-align: middle;\n",
       "    }\n",
       "\n",
       "    .dataframe tbody tr th {\n",
       "        vertical-align: top;\n",
       "    }\n",
       "\n",
       "    .dataframe thead th {\n",
       "        text-align: right;\n",
       "    }\n",
       "</style>\n",
       "<table border=\"1\" class=\"dataframe\">\n",
       "  <thead>\n",
       "    <tr style=\"text-align: right;\">\n",
       "      <th></th>\n",
       "      <th>Company_Brand</th>\n",
       "      <th>Sector</th>\n",
       "      <th>Stage</th>\n",
       "      <th>Amount</th>\n",
       "      <th>HeadQuarter</th>\n",
       "      <th>BIO</th>\n",
       "      <th>currency</th>\n",
       "      <th>amount_inr</th>\n",
       "      <th>amount_usd</th>\n",
       "      <th>amount_combined</th>\n",
       "    </tr>\n",
       "  </thead>\n",
       "  <tbody>\n",
       "    <tr>\n",
       "      <th>0</th>\n",
       "      <td>TheCollegeFever</td>\n",
       "      <td>Brand Marketing, Event Promotion, Marketing, S...</td>\n",
       "      <td>Seed</td>\n",
       "      <td>250000</td>\n",
       "      <td>Bangalore, Karnataka, India</td>\n",
       "      <td>TheCollegeFever is a hub for fun, fiesta and f...</td>\n",
       "      <td>USD</td>\n",
       "      <td>NaN</td>\n",
       "      <td>250000.0</td>\n",
       "      <td>2.500000e+05</td>\n",
       "    </tr>\n",
       "    <tr>\n",
       "      <th>1</th>\n",
       "      <td>Happy Cow Dairy</td>\n",
       "      <td>Agriculture, Farming</td>\n",
       "      <td>Seed</td>\n",
       "      <td>₹40,000,000</td>\n",
       "      <td>Mumbai, Maharashtra, India</td>\n",
       "      <td>A startup which aggregates milk from dairy far...</td>\n",
       "      <td>INR</td>\n",
       "      <td>480595.938964</td>\n",
       "      <td>NaN</td>\n",
       "      <td>4.805959e+05</td>\n",
       "    </tr>\n",
       "    <tr>\n",
       "      <th>2</th>\n",
       "      <td>MyLoanCare</td>\n",
       "      <td>Credit, Financial Services, Lending, Marketplace</td>\n",
       "      <td>Series A</td>\n",
       "      <td>₹65,000,000</td>\n",
       "      <td>Gurgaon, Haryana, India</td>\n",
       "      <td>Leading Online Loans Marketplace in India</td>\n",
       "      <td>INR</td>\n",
       "      <td>780968.400817</td>\n",
       "      <td>NaN</td>\n",
       "      <td>7.809684e+05</td>\n",
       "    </tr>\n",
       "    <tr>\n",
       "      <th>3</th>\n",
       "      <td>PayMe India</td>\n",
       "      <td>Financial Services, FinTech</td>\n",
       "      <td>Angel</td>\n",
       "      <td>2000000</td>\n",
       "      <td>Noida, Uttar Pradesh, India</td>\n",
       "      <td>PayMe India is an innovative FinTech organizat...</td>\n",
       "      <td>USD</td>\n",
       "      <td>NaN</td>\n",
       "      <td>2000000.0</td>\n",
       "      <td>2.000000e+06</td>\n",
       "    </tr>\n",
       "    <tr>\n",
       "      <th>4</th>\n",
       "      <td>Eunimart</td>\n",
       "      <td>E-Commerce Platforms, Retail, SaaS</td>\n",
       "      <td>Seed</td>\n",
       "      <td>—</td>\n",
       "      <td>Hyderabad, Andhra Pradesh, India</td>\n",
       "      <td>Eunimart is a one stop solution for merchants ...</td>\n",
       "      <td>USD</td>\n",
       "      <td>NaN</td>\n",
       "      <td>NaN</td>\n",
       "      <td>NaN</td>\n",
       "    </tr>\n",
       "    <tr>\n",
       "      <th>...</th>\n",
       "      <td>...</td>\n",
       "      <td>...</td>\n",
       "      <td>...</td>\n",
       "      <td>...</td>\n",
       "      <td>...</td>\n",
       "      <td>...</td>\n",
       "      <td>...</td>\n",
       "      <td>...</td>\n",
       "      <td>...</td>\n",
       "      <td>...</td>\n",
       "    </tr>\n",
       "    <tr>\n",
       "      <th>610</th>\n",
       "      <td>Infra.Market</td>\n",
       "      <td>Infratech</td>\n",
       "      <td>Series A</td>\n",
       "      <td>$20,000,000</td>\n",
       "      <td>Mumbai</td>\n",
       "      <td>It connects client requirements to their suppl...</td>\n",
       "      <td>USD</td>\n",
       "      <td>NaN</td>\n",
       "      <td>20000000.0</td>\n",
       "      <td>2.000000e+07</td>\n",
       "    </tr>\n",
       "    <tr>\n",
       "      <th>611</th>\n",
       "      <td>Oyo</td>\n",
       "      <td>Hospitality</td>\n",
       "      <td>NaN</td>\n",
       "      <td>$693,000,000</td>\n",
       "      <td>Gurugram</td>\n",
       "      <td>Provides rooms for comfortable stay</td>\n",
       "      <td>USD</td>\n",
       "      <td>NaN</td>\n",
       "      <td>693000000.0</td>\n",
       "      <td>6.930000e+08</td>\n",
       "    </tr>\n",
       "    <tr>\n",
       "      <th>612</th>\n",
       "      <td>GoMechanic</td>\n",
       "      <td>Automobile &amp; Technology</td>\n",
       "      <td>Series B</td>\n",
       "      <td>$5,000,000</td>\n",
       "      <td>Delhi</td>\n",
       "      <td>Find automobile repair and maintenance service...</td>\n",
       "      <td>USD</td>\n",
       "      <td>NaN</td>\n",
       "      <td>5000000.0</td>\n",
       "      <td>5.000000e+06</td>\n",
       "    </tr>\n",
       "    <tr>\n",
       "      <th>613</th>\n",
       "      <td>Spinny</td>\n",
       "      <td>Automobile</td>\n",
       "      <td>NaN</td>\n",
       "      <td>$50,000,000</td>\n",
       "      <td>Delhi</td>\n",
       "      <td>Online car retailer</td>\n",
       "      <td>USD</td>\n",
       "      <td>NaN</td>\n",
       "      <td>50000000.0</td>\n",
       "      <td>5.000000e+07</td>\n",
       "    </tr>\n",
       "    <tr>\n",
       "      <th>614</th>\n",
       "      <td>Ess Kay Fincorp</td>\n",
       "      <td>Banking</td>\n",
       "      <td>NaN</td>\n",
       "      <td>$33,000,000</td>\n",
       "      <td>Rajasthan</td>\n",
       "      <td>Organised Non-Banking Finance Company</td>\n",
       "      <td>USD</td>\n",
       "      <td>NaN</td>\n",
       "      <td>33000000.0</td>\n",
       "      <td>3.300000e+07</td>\n",
       "    </tr>\n",
       "  </tbody>\n",
       "</table>\n",
       "<p>615 rows × 10 columns</p>\n",
       "</div>"
      ],
      "text/plain": [
       "       Company_Brand                                             Sector  \\\n",
       "0    TheCollegeFever  Brand Marketing, Event Promotion, Marketing, S...   \n",
       "1    Happy Cow Dairy                               Agriculture, Farming   \n",
       "2         MyLoanCare   Credit, Financial Services, Lending, Marketplace   \n",
       "3        PayMe India                        Financial Services, FinTech   \n",
       "4           Eunimart                 E-Commerce Platforms, Retail, SaaS   \n",
       "..               ...                                                ...   \n",
       "610     Infra.Market                                          Infratech   \n",
       "611              Oyo                                        Hospitality   \n",
       "612       GoMechanic                            Automobile & Technology   \n",
       "613           Spinny                                         Automobile   \n",
       "614  Ess Kay Fincorp                                            Banking   \n",
       "\n",
       "        Stage        Amount                       HeadQuarter  \\\n",
       "0        Seed        250000       Bangalore, Karnataka, India   \n",
       "1        Seed   ₹40,000,000        Mumbai, Maharashtra, India   \n",
       "2    Series A   ₹65,000,000           Gurgaon, Haryana, India   \n",
       "3       Angel       2000000       Noida, Uttar Pradesh, India   \n",
       "4        Seed             —  Hyderabad, Andhra Pradesh, India   \n",
       "..        ...           ...                               ...   \n",
       "610  Series A   $20,000,000                            Mumbai   \n",
       "611       NaN  $693,000,000                          Gurugram   \n",
       "612  Series B    $5,000,000                             Delhi   \n",
       "613       NaN   $50,000,000                             Delhi   \n",
       "614       NaN   $33,000,000                         Rajasthan   \n",
       "\n",
       "                                                   BIO currency  \\\n",
       "0    TheCollegeFever is a hub for fun, fiesta and f...      USD   \n",
       "1    A startup which aggregates milk from dairy far...      INR   \n",
       "2            Leading Online Loans Marketplace in India      INR   \n",
       "3    PayMe India is an innovative FinTech organizat...      USD   \n",
       "4    Eunimart is a one stop solution for merchants ...      USD   \n",
       "..                                                 ...      ...   \n",
       "610  It connects client requirements to their suppl...      USD   \n",
       "611                Provides rooms for comfortable stay      USD   \n",
       "612  Find automobile repair and maintenance service...      USD   \n",
       "613                                Online car retailer      USD   \n",
       "614              Organised Non-Banking Finance Company      USD   \n",
       "\n",
       "        amount_inr   amount_usd  amount_combined  \n",
       "0              NaN     250000.0     2.500000e+05  \n",
       "1    480595.938964          NaN     4.805959e+05  \n",
       "2    780968.400817          NaN     7.809684e+05  \n",
       "3              NaN    2000000.0     2.000000e+06  \n",
       "4              NaN          NaN              NaN  \n",
       "..             ...          ...              ...  \n",
       "610            NaN   20000000.0     2.000000e+07  \n",
       "611            NaN  693000000.0     6.930000e+08  \n",
       "612            NaN    5000000.0     5.000000e+06  \n",
       "613            NaN   50000000.0     5.000000e+07  \n",
       "614            NaN   33000000.0     3.300000e+07  \n",
       "\n",
       "[615 rows x 10 columns]"
      ]
     },
     "execution_count": 253,
     "metadata": {},
     "output_type": "execute_result"
    }
   ],
   "source": [
    "df18_19"
   ]
  },
  {
   "cell_type": "code",
   "execution_count": 79,
   "metadata": {},
   "outputs": [],
   "source": [
    "# Define the exchange rate\n",
    "exchange_rate_inr_to_usd = 1 / 83.23  # 1 USD = 83.23 INR\n",
    "\n",
    "# Convert 'amount' to USD\n",
    "df18_19['amount_usd'] = df18_19.apply(lambda row: row['Amount'] * exchange_rate_inr_to_usd if row['currency'] == 'INR' else row['Amount'], axis=1)\n",
    "\n",
    "\n",
    "\n"
   ]
  },
  {
   "cell_type": "code",
   "execution_count": 109,
   "metadata": {},
   "outputs": [
    {
     "data": {
      "text/plain": [
       "0            250000\n",
       "1       ₹40,000,000\n",
       "2       ₹65,000,000\n",
       "3           2000000\n",
       "4                 —\n",
       "           ...     \n",
       "610     $20,000,000\n",
       "611    $693,000,000\n",
       "612      $5,000,000\n",
       "613     $50,000,000\n",
       "614     $33,000,000\n",
       "Name: Amount, Length: 615, dtype: object"
      ]
     },
     "execution_count": 109,
     "metadata": {},
     "output_type": "execute_result"
    }
   ],
   "source": [
    "df18_19['Amount']"
   ]
  },
  {
   "cell_type": "markdown",
   "metadata": {},
   "source": [
    "# 1st Hypothesis"
   ]
  },
  {
   "cell_type": "markdown",
   "metadata": {},
   "source": [
    "Hypothesis: The headquarters location of a startup in India (e.g., Chennai, Bangalore, Pune, New Delhi, Indore) has a significant impact on the funding amount it receives.\n",
    "\n",
    "Explanation: You can hypothesize that the location of a startup's headquarters may influence its access to funding. For example, you might expect that startups in major startup hubs like Bangalore receive larger amounts of funding compared to those in smaller cities. You can investigate this hypothesis by performing statistical analysis, such as:\n",
    "\n",
    "ANOVA or Kruskal-Wallis Test: To determine if there are significant differences in funding amounts between startups in different cities.\n",
    "Regression Analysis: To model the relationship between the headquarters location and funding amounts while controlling for other factors like sector and stage."
   ]
  },
  {
   "cell_type": "markdown",
   "metadata": {},
   "source": [
    "# 2nd Hypothesis"
   ]
  },
  {
   "cell_type": "markdown",
   "metadata": {},
   "source": [
    "Hypothesis: Startups in the AgriTech sector in India receive higher average funding amounts compared to startups in other sectors.\n",
    "\n",
    "Explanation: You can hypothesize that the AgriTech sector, given its potential for innovation and growth in India, attracts more significant funding. To test this hypothesis, you can:\n",
    "\n",
    "Calculate the average funding amounts for startups in different sectors.\n",
    "Perform a statistical test, such as a t-test or ANOVA, to determine if there is a significant difference in funding amounts between the AgriTech sector and other sectors."
   ]
  },
  {
   "cell_type": "markdown",
   "metadata": {},
   "source": [
    "# 3rd Hypothesis"
   ]
  },
  {
   "cell_type": "markdown",
   "metadata": {},
   "source": [
    "Hypothesis: The total funding received by Indian startups has been increasing over the years (from 2018 to 2021).\n",
    "\n",
    "Explanation: This hypothesis focuses on the trend in total funding over time. To test this hypothesis, you can:\n",
    "\n",
    "Calculate the total funding received by all startups for each year (2018, 2019, 2020, 2021).\n",
    "Create a time series plot or line chart to visualize the funding trend over the four years."
   ]
  },
  {
   "cell_type": "code",
   "execution_count": 653,
   "metadata": {},
   "outputs": [],
   "source": [
    "# Concatenate them vertically (along rows)\n",
    "\n",
    "india_startup_df = pd.concat([df2018, df2019, data2020,], ignore_index=True)\n",
    "\n"
   ]
  },
  {
   "cell_type": "code",
   "execution_count": 655,
   "metadata": {},
   "outputs": [
    {
     "name": "stdout",
     "output_type": "stream",
     "text": [
      "<class 'pandas.core.frame.DataFrame'>\n",
      "RangeIndex: 1510 entries, 0 to 1509\n",
      "Data columns (total 15 columns):\n",
      " #   Column         Non-Null Count  Dtype  \n",
      "---  ------         --------------  -----  \n",
      " 0   Company Name   378 non-null    object \n",
      " 1   Industry       378 non-null    object \n",
      " 2   Round/Series   378 non-null    object \n",
      " 3   Amount         1433 non-null   float64\n",
      " 4   Location       378 non-null    object \n",
      " 5   About Company  378 non-null    object \n",
      " 6   Year           1510 non-null   object \n",
      " 7   Company/Brand  77 non-null     object \n",
      " 8   Sector         1132 non-null   object \n",
      " 9   Stage          1132 non-null   object \n",
      " 10  Amount($)      77 non-null     float64\n",
      " 11  HeadQuarter    1132 non-null   object \n",
      " 12  What it does   77 non-null     object \n",
      " 13  Company_Brand  1055 non-null   object \n",
      " 14  What_it_does   1055 non-null   object \n",
      "dtypes: float64(2), object(13)\n",
      "memory usage: 177.1+ KB\n"
     ]
    }
   ],
   "source": [
    "india_startup_df.info()"
   ]
  },
  {
   "cell_type": "code",
   "execution_count": 657,
   "metadata": {},
   "outputs": [],
   "source": [
    "# Group by the 'Year' column and calculate the total funding for each year\n",
    "total_funding_by_year = india_startup_df.groupby('Year')['Amount'].sum()\n"
   ]
  },
  {
   "cell_type": "code",
   "execution_count": 658,
   "metadata": {},
   "outputs": [
    {
     "data": {
      "image/png": "[encoded data removed]",
      "text/plain": [
       "<Figure size 1000x600 with 1 Axes>"
      ]
     },
     "metadata": {},
     "output_type": "display_data"
    }
   ],
   "source": [
    "\n",
    "# Plot the time series\n",
    "plt.figure(figsize=(10, 6))\n",
    "plt.plot(total_funding_by_year.index, total_funding_by_year.values, marker='o', linestyle='-', color='b')\n",
    "plt.xlabel('Year')\n",
    "plt.ylabel('Total Funding Amount (in millions)')\n",
    "plt.title('Total Funding Trend Over Three Years (2018-2020)')\n",
    "plt.grid(True)\n",
    "plt.show()\n"
   ]
  },
  {
   "cell_type": "code",
   "execution_count": 652,
   "metadata": {},
   "outputs": [
    {
     "data": {
      "image/png": "[encoded data removed]",
      "text/plain": [
       "<Figure size 800x600 with 1 Axes>"
      ]
     },
     "metadata": {},
     "output_type": "display_data"
    }
   ],
   "source": [
    "\n",
    "# Calculate the mean of the \"Amount\" column for each dataframe\n",
    "mean_2018 = df2018['Amount'].mean()\n",
    "mean_2019 = df2019['Amount($)'].mean()\n",
    "mean_2020 = data2020['Amount'].mean()\n",
    "\n",
    "\n",
    "# Create a new DataFrame to hold the means\n",
    "mean_df = pd.DataFrame({\n",
    "    'Year': [2018, 2019, 2020],\n",
    "    'Mean_Amount': [mean_2018, mean_2019, mean_2020]\n",
    "})\n",
    "\n",
    "# Plot the trend\n",
    "plt.figure(figsize=(8, 6))\n",
    "plt.plot(mean_df['Year'], mean_df['Mean_Amount'], marker='o', linestyle='-', color='b')\n",
    "plt.xlabel('Year')\n",
    "plt.ylabel('Average Amount')\n",
    "plt.title('Average Funding Amount Trend Over Three Years')\n",
    "plt.grid(True)\n",
    "plt.show()\n"
   ]
  },
  {
   "cell_type": "code",
   "execution_count": null,
   "metadata": {},
   "outputs": [],
   "source": [
    "#we change the fomat and replace the \"-\" with unsettled\n",
    "df_2018[\"Amount\"] = df_2018[\"Amount\"].str.replace(\"—\", \"Undisclosed\", regex=True)\n",
    " \n",
    "#formatting lambda function replacing values\n",
    "format_currency = lambda value: value if value == 'Undisclosed' else \"${:,.0f}\".format(float(value.replace('₹', '').replace(',', '').replace('$', ''))) if isinstance(value, str) else value\n",
    " \n",
    "# Apply the lambda function\n",
    "df_2018['Amount'] = df_2018['Amount'].apply(format_currency)\n",
    "df_2018.head()"
   ]
  }
 ],
 "metadata": {
  "kernelspec": {
   "display_name": "Python 3",
   "language": "python",
   "name": "python3"
  },
  "language_info": {
   "codemirror_mode": {
    "name": "ipython",
    "version": 3
   },
   "file_extension": ".py",
   "mimetype": "text/x-python",
   "name": "python",
   "nbconvert_exporter": "python",
   "pygments_lexer": "ipython3",
   "version": "3.11.4"
  }
 },
 "nbformat": 4,
 "nbformat_minor": 2
}
