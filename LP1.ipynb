{
 "cells": [
  {
   "cell_type": "markdown",
   "metadata": {},
   "source": [
    "# Import all the Packages you will need "
   ]
  },
  {
   "cell_type": "code",
   "execution_count": 49,
   "metadata": {},
   "outputs": [],
   "source": [
    "import pyodbc\n",
    "from dotenv import dotenv_values\n",
    "import pandas as pd \n",
    "import matplotlib.pyplot as plt\n",
    "import numpy as np\n",
    "from scipy import stats\n",
    "import statistics as stat\n",
    "import warnings\n",
    "import os\n",
    "import seaborn as sns\n",
    "\n",
    " \n",
    "warnings.filterwarnings('ignore')\n",
    "\n",
    "warnings.filterwarnings('ignore')"
   ]
  },
  {
   "cell_type": "markdown",
   "metadata": {},
   "source": [
    "# Load the Environments and get the variables form your.env file "
   ]
  },
  {
   "cell_type": "code",
   "execution_count": 7,
   "metadata": {},
   "outputs": [],
   "source": [
    "# Load environment variables from .env file into a dictionary\n",
    "environment_variables = dotenv_values('.env')\n",
    "\n",
    "\n",
    "# Get the values for the credentials you set in the '.env' file\n",
    "server = environment_variables.get(\"SERVER\")\n",
    "database = environment_variables.get(\"DATABASE\")\n",
    "username = environment_variables.get(\"USERNAME\")\n",
    "password = environment_variables.get(\"PASSWORD\")"
   ]
  },
  {
   "cell_type": "code",
   "execution_count": 12,
   "metadata": {},
   "outputs": [],
   "source": [
    "conn_str =f\"DRIVER={{SQL Server}};SERVER={server};DATABASE={database};UID={username};PWD={password}\""
   ]
  },
  {
   "cell_type": "markdown",
   "metadata": {},
   "source": [
    "# Make the Connection and Read the Tables"
   ]
  },
  {
   "cell_type": "code",
   "execution_count": 13,
   "metadata": {},
   "outputs": [],
   "source": [
    "# conection to the server\n",
    "connection = pyodbc.connect(conn_str)"
   ]
  },
  {
   "cell_type": "code",
   "execution_count": 14,
   "metadata": {},
   "outputs": [],
   "source": [
    "\n",
    "\n",
    "# import the 2020 and 2021 SQL file from the server\n",
    "query1 = \"Select * from LP1_startup_funding2020\"\n",
    "data_2020 = pd.read_sql(query1, connection)\n",
    " \n",
    "query2 = \"Select * from LP1_startup_funding2021\"\n",
    "data_2021 = pd.read_sql(query2, connection)"
   ]
  },
  {
   "cell_type": "markdown",
   "metadata": {},
   "source": [
    "# Read the csv "
   ]
  },
  {
   "cell_type": "code",
   "execution_count": 17,
   "metadata": {},
   "outputs": [],
   "source": [
    "data_2018 = pd.read_csv('startup_funding2018.csv')\n",
    "\n",
    "data_2019 = pd.read_csv('startup_funding2019.csv')"
   ]
  },
  {
   "cell_type": "code",
   "execution_count": 18,
   "metadata": {},
   "outputs": [],
   "source": [
    "# to add year column to all the imported data\n",
    "data_2018['Year']='2018'\n",
    "data_2019['Year']='2019'\n",
    "data_2020['Year']='2020'\n",
    "data_2021['Year']='2021'"
   ]
  },
  {
   "cell_type": "markdown",
   "metadata": {},
   "source": [
    "# Exploratory Data Analysis:EDA"
   ]
  },
  {
   "cell_type": "markdown",
   "metadata": {},
   "source": [
    "cleaning and concating the two CSV files 2018 and 2019"
   ]
  },
  {
   "cell_type": "code",
   "execution_count": null,
   "metadata": {},
   "outputs": [],
   "source": [
    "# Drop the Colunms that we may not need for the project\n",
    "\n",
    "data_2019.drop(['Founded', 'Founders', 'Investor'], axis=1, inplace=True)"
   ]
  },
  {
   "cell_type": "code",
   "execution_count": 19,
   "metadata": {},
   "outputs": [],
   "source": [
    "# Select specific columns and rename them\n",
    "\n",
    "data_2018 = data_2018.rename(columns={'Company Name': 'Company_Brand', 'Round/Series': 'Stage', \n",
    "                                      'Industry': 'Sector', 'Amount': 'Amount', 'About Company': 'BIO', 'Location':'HeadQuarter'})\n",
    "data_2019 = data_2019.rename(columns={'Company/Brand': 'Company_Brand', 'Sector': 'Sector', \n",
    "                                      'Stage': 'Stage', 'Amount($)': 'Amount', 'What it does': 'BIO', 'HeadQuarter':'HeadQuarter'})"
   ]
  },
  {
   "cell_type": "markdown",
   "metadata": {},
   "source": [
    "Hamornizing the stage column in 2018 & 2019"
   ]
  },
  {
   "cell_type": "markdown",
   "metadata": {},
   "source": [
    "Some of the data in the stage column are named differently but the still do serve the same purpose so we group them together and give them one common name foe easy analysis"
   ]
  },
  {
   "cell_type": "code",
   "execution_count": 20,
   "metadata": {},
   "outputs": [],
   "source": [
    "# df2018 Dataframe \n",
    "\n",
    "data_2018.replace(to_replace=['Seed round', 'Seed funding', 'Early seed', 'Seed fund', 'Seed Investment', 'Seed Round', 'Seed+'], value='Seed', inplace=True)\n",
    "data_2018.replace(to_replace=['Angel Round'], value='Angel', inplace=True)\n",
    "data_2018.replace(to_replace=['Venture - Series Unknown'], value='Undisclosed', inplace=True)\n",
    "data_2018.replace(to_replace=['Debt Financing', 'Post-IPO Debt'], value='Debt', inplace=True)\n",
    "data_2018.replace(to_replace=['Private Equity', 'Post-IPO Equity'], value='Equity', inplace=True)\n",
    "data_2018.replace(to_replace=['Corporate Round', 'Grant', 'Secondary Market', 'Non-equity Assistance', 'Funding Round'], value='Other', inplace=True)\n",
    "data_2018.replace(to_replace=['Pre-Series B', 'Pre-series B'], value='Pre-Seed', inplace=True)"
   ]
  },
  {
   "cell_type": "code",
   "execution_count": 21,
   "metadata": {},
   "outputs": [],
   "source": [
    "# df2019 Dataframe\n",
    "\n",
    "data_2019.replace(to_replace=['Seed funding', 'Seed fund', 'Seed round'], value='Seed', inplace=True)\n",
    "data_2019.replace(to_replace=['Pre series A', 'Pre-series A'], value='Pre-Seed', inplace=True)\n",
    "data_2019.replace(to_replace=['Series B+'], value='Series B', inplace=True)\n",
    "data_2019.replace(to_replace=['Post series A', 'Fresh funding'], value='Other', inplace=True)"
   ]
  },
  {
   "cell_type": "markdown",
   "metadata": {},
   "source": [
    "<b>Harmonising the HeadQuater/Location column entries in 2018&2019 data.<b>"
   ]
  },
  {
   "cell_type": "markdown",
   "metadata": {},
   "source": [
    "some of the locations  in the headquarter  has spelling error, some are the same location with different names while some are outside india so he group them and give them common name for easy analysis "
   ]
  },
  {
   "cell_type": "code",
   "execution_count": 22,
   "metadata": {},
   "outputs": [],
   "source": [
    "# code to sparete the headquarters in 2018 because the columns contain more than one headquarter which will affect the analysis\n",
    "\n",
    "data_2018_new=data_2018['HeadQuarter'].str.split(pat=',', n=1, expand=True) \n",
    "data_2018['Head']=data_2018_new[0]"
   ]
  },
  {
   "cell_type": "code",
   "execution_count": 23,
   "metadata": {},
   "outputs": [],
   "source": [
    "# drop headquarter column\n",
    "data_2018.drop(['HeadQuarter'], axis=1, inplace=True)\n",
    "# rename the head column\n",
    "data_2018.rename(columns={'Head':'HeadQuarter'}, inplace=True)"
   ]
  },
  {
   "cell_type": "code",
   "execution_count": 24,
   "metadata": {},
   "outputs": [],
   "source": [
    "# data cleaning of headquarter in 2018\n",
    "data_2018.replace(to_replace=['Bangalore City','Bangalore'], value='Bangalore', inplace=True)\n",
    "data_2018.replace(to_replace=['Delhi','New Delhi'], value='Delhi', inplace=True)\n",
    "data_2018.replace(to_replace=['Cochin'], value='Kochi', inplace=True)\n",
    "data_2018.replace(to_replace=['Kormangala'], value='Koramangala', inplace=True)\n",
    "data_2018.replace(to_replace=['Powai','Worli'], value='Mumbai', inplace=True)\n",
    "data_2018.replace(to_replace=['Uttar Pradesh', 'Andhra Pradesh'], value='Andhra Pradesh', inplace=True)\n",
    "data_2018.replace(to_replace=['Trivandrum', 'India'], value='Trivandrum', inplace=True)\n",
    "\n",
    "\n",
    "# data cleaning of headquarter in 2019\n",
    "data_2019.replace(to_replace=['Delhi','New Delhi'], value='Delhi', inplace=True)"
   ]
  },
  {
   "cell_type": "markdown",
   "metadata": {},
   "source": [
    "<b>CHECK FOR DUPLICATE ENTRIES IN THE NEW DATASET df2018 & df2019<b>"
   ]
  },
  {
   "cell_type": "code",
   "execution_count": 25,
   "metadata": {},
   "outputs": [
    {
     "data": {
      "text/plain": [
       "False    525\n",
       "True       1\n",
       "Name: count, dtype: int64"
      ]
     },
     "execution_count": 25,
     "metadata": {},
     "output_type": "execute_result"
    }
   ],
   "source": [
    "# check for duplicates\n",
    "data_2018.duplicated().value_counts()"
   ]
  },
  {
   "cell_type": "code",
   "execution_count": 26,
   "metadata": {},
   "outputs": [],
   "source": [
    "# drop the duplicates\n",
    "data_2018.drop_duplicates(keep='first', inplace=True)"
   ]
  },
  {
   "cell_type": "code",
   "execution_count": 27,
   "metadata": {},
   "outputs": [
    {
     "data": {
      "text/plain": [
       "False    89\n",
       "Name: count, dtype: int64"
      ]
     },
     "execution_count": 27,
     "metadata": {},
     "output_type": "execute_result"
    }
   ],
   "source": [
    "data_2019.duplicated().value_counts()"
   ]
  },
  {
   "cell_type": "markdown",
   "metadata": {},
   "source": [
    "Merging 2018 & 2019 and Checking for currency"
   ]
  },
  {
   "cell_type": "markdown",
   "metadata": {},
   "source": [
    "In the currency colunn in 2018 and 2019 some amount are in  Dollar, some are in Rupee while sum are just numeric so we converted all of them to Dollar for easy analysis"
   ]
  },
  {
   "cell_type": "code",
   "execution_count": 28,
   "metadata": {},
   "outputs": [],
   "source": [
    "# Merge the two csv files \n",
    "\n",
    "data_18_19 = pd.concat([data_2018, data_2019], ignore_index=True)"
   ]
  },
  {
   "cell_type": "code",
   "execution_count": 29,
   "metadata": {},
   "outputs": [],
   "source": [
    "# # # Assuming exchange rate is: 4 INR = 0.012 USD)\n",
    " \n",
    "\n",
    "# # Create a new column 'currency' based on currency symbols\n",
    "\n",
    "data_18_19['currency'] = data_18_19['Amount'].apply(lambda x: 'INR' if '₹' in x else ('USD' if '$' in x else 'USD'))\n",
    "\n",
    "# # # Create columns 'amount_inr' and 'amount_usd'\n",
    "\n",
    "data_18_19['amount_inr'] = data_18_19.apply(lambda row: row['Amount'] if row['currency'] == 'INR' else 0, axis=1)\n",
    "data_18_19['amount_usd'] = data_18_19.apply(lambda row: row['Amount'] if row['currency'] == 'USD' else 0, axis=1)\n",
    "\n",
    "# # # Remove the currency sysmbols and the commas \n",
    "\n",
    "data_18_19['amount_inr'] = data_18_19['amount_inr'].str.replace('₹', '').str.replace('$', '').str.replace(',', '')\n",
    "data_18_19['amount_usd'] = data_18_19['amount_usd'].str.replace('₹', '').str.replace('$', '').str.replace(',', '')\n",
    "\n",
    "# # # Replace 'Undisclosed' values with NaN\n",
    "\n",
    "data_18_19['amount_inr'] = data_18_19['amount_inr'].replace('Undisclosed', np.nan, regex=True)\n",
    "data_18_19['amount_usd'] = data_18_19['amount_usd'].replace('Undisclosed', np.nan, regex=True)\n",
    "\n",
    "# # # Convert the object values into numeric values for calculation\n",
    "\n",
    "data_18_19['amount_inr'] = pd.to_numeric(data_18_19['amount_inr'], errors='coerce')\n",
    "data_18_19['amount_usd'] = pd.to_numeric(data_18_19['amount_usd'], errors='coerce')\n",
    "\n",
    "\n",
    "\n",
    "\n",
    "\n",
    "# # Create a new column 'Updated_Amount' by filling missing values in 'amount_inr' with 'amount_usd'\n",
    "data_18_19['Updated_Amount'] = data_18_19['amount_inr'].fillna(data_18_19['amount_usd'])"
   ]
  },
  {
   "cell_type": "code",
   "execution_count": 30,
   "metadata": {},
   "outputs": [],
   "source": [
    "data_18_19.drop(['currency', 'amount_inr','amount_usd','Amount'], axis=1, inplace=True)"
   ]
  },
  {
   "cell_type": "code",
   "execution_count": 31,
   "metadata": {},
   "outputs": [],
   "source": [
    "# # Rename the updated_ amount column to amount \n",
    "data_18_19.rename(columns={'Updated_Amount':'Amount($)'}, inplace=True )"
   ]
  },
  {
   "cell_type": "markdown",
   "metadata": {},
   "source": [
    "Cleaning and concating the two SQL file 2020 & 2021"
   ]
  },
  {
   "cell_type": "code",
   "execution_count": 32,
   "metadata": {},
   "outputs": [],
   "source": [
    "# Renaming the Column to have the same column names for all the tables\n",
    "\n",
    "data_2020 = data_2020.rename(columns={'Company_Brand': 'Company_Brand', 'Sector': 'Sector', \n",
    "                                      'Amount': 'Amount', 'What_it_does': 'BIO', 'Location':'HeadQuarter'})\n",
    "data_2021 = data_2021.rename(columns={'Company_Brand': 'Company_Brand', 'Sector': 'Sector', \n",
    "                                      'Amount': 'Amount', 'What_it_does': 'BIO', 'HeadQuarter':'HeadQuarter'})"
   ]
  },
  {
   "cell_type": "markdown",
   "metadata": {},
   "source": [
    "<b> Drop some columns that might not be needed for the analysis like founded, founders, investors and column10 which is not also included in 2018 file <b>"
   ]
  },
  {
   "cell_type": "code",
   "execution_count": 33,
   "metadata": {},
   "outputs": [],
   "source": [
    "# we drop some columns we will not use for the analysis and does not ryme with the 2018 data\n",
    "data_2020.drop(['Founded', 'Founders', 'Investor'], axis=1, inplace=True)\n",
    "data_2021.drop(['Founded', 'Founders', 'Investor'], axis=1, inplace=True)\n",
    "data_2020.drop(columns=['column10'], inplace=True)"
   ]
  },
  {
   "cell_type": "markdown",
   "metadata": {},
   "source": [
    "<b>Harmonising the HeadQuarter column entries in 2020&2021 data.<b>"
   ]
  },
  {
   "cell_type": "code",
   "execution_count": 34,
   "metadata": {},
   "outputs": [],
   "source": [
    "\n",
    "#  cleaning of HeadQuater 2020\n",
    "data_2020.replace(to_replace=['Bangalore City','Bangalore'], value='Bangalore', inplace=True)\n",
    "data_2020.replace(to_replace=['Delhi','New Delhi'], value='Delhi', inplace=True)\n",
    "data_2020.replace(to_replace=['Ahmadabad'], value='Ahmedabad', inplace=True)\n",
    "data_2020.replace(to_replace=['Kochi'], value='Cochin', inplace=True)\n",
    "data_2020.replace(to_replace=['Kormangala'], value='Koramangala', inplace=True)\n",
    "data_2020.replace(to_replace=['Rajastan'], value='Rajasthan', inplace=True)\n",
    "data_2020.replace(to_replace=['Powai','Worli'], value='Mumbai', inplace=True)\n",
    "data_2020.replace(to_replace=['Small Towns', 'Andhra Pradesh','Uttar Pradesh'], value='Andhra Pradesh', inplace=True)\n",
    "data_2020.replace(to_replace=['Hyderebad'], value='Hyderabad', inplace=True)\n",
    "data_2020.replace(to_replace=['Gurugram\\t#REF!'], value='Gurugram', inplace=True)\n",
    "data_2020.replace(to_replace=['Orissia'], value='Orissa', inplace=True)\n",
    "data_2020.replace(to_replace=['Samstipur','Samastipur, Bihar','Samsitpur'], value='Samastipur', inplace=True)\n",
    "data_2020.replace(to_replace=['The Nilgiris'], value='Nilgiris', inplace=True)\n",
    "data_2020.replace(to_replace=['Dhindsara', 'Haryana','Dhingsara, Haryana'], value='Dhingsara', inplace=True)\n",
    "data_2020.replace(to_replace=['Tirunelveli', 'Tamilnadu'], value='Tirunelveli', inplace=True)\n",
    "data_2020.replace(to_replace=['Mylapore'], value='Chennai', inplace=True)\n",
    "data_2020.replace(to_replace=['Rajastan'], value='Rajasthan', inplace=True)\n",
    "data_2020.replace(to_replace=['Trivandrum', 'Kerala, India'], value='Trivandrum', inplace=True)\n",
    "\n",
    "\n",
    "#  Renaming some of the headquarters the are not in India to outside india in data 2020\n",
    "data_2020.replace(to_replace=['Frisco', 'France','Newcastle Upon Tyne, Newcastle upon Tyne, United Kingdom',\n",
    "                              'Frisco, Texas, United States','Irvine, California, United States',\n",
    "                              'San Francisco Bay Area, West Coast, Western US','Texas, United States','California',\n",
    "                              'New York, United States','San Francisco, California, United States','San Francisco, United States',\n",
    "                              'San Ramon, California','Paris, Ile-de-France, France','Plano, Texas, United States','Sydney',\n",
    "                              'San Francisco Bay Area, Silicon Valley, West Coast','Bangaldesh','London, England, United Kingdom','Sydney, New South Wales, Australia',\n",
    "                              'Milano, Lombardia, Italy','Palmwoods, Queensland, Australia', 'France''Irvine, California, United States',\n",
    "                              'Newcastle Upon Tyne, Newcastle upon Tyne United Kingdom','Shanghai, China','Jiaxing, Zhejiang, China',\n",
    "                              'San Franciscao','San Francisco','New York'], value = 'Outside India', inplace=True)\n",
    "\n",
    "\n",
    "# filling of missing headquarters in 2020\n",
    "data_2020['HeadQuarter'].fillna('Undisclosed', inplace=True)"
   ]
  },
  {
   "cell_type": "code",
   "execution_count": 35,
   "metadata": {},
   "outputs": [],
   "source": [
    "#  cleaning of HeadQuater 2021\n",
    "data_2021.replace(to_replace=['Bangalore City','Bangalore'], value='Bangalore', inplace=True)\n",
    "data_2021.replace(to_replace=['Delhi','New Delhi'], value='Delhi', inplace=True)\n",
    "data_2021.replace(to_replace=['Ahmadabad'], value='Ahmedabad', inplace=True)\n",
    "data_2021.replace(to_replace=['Kochi'], value='Cochin', inplace=True)\n",
    "data_2021.replace(to_replace=['Kormangala'], value='Koramangala', inplace=True)\n",
    "data_2021.replace(to_replace=['Rajastan'], value='Rajasthan', inplace=True)\n",
    "data_2021.replace(to_replace=['Powai','Worli'], value='Mumbai', inplace=True)\n",
    "data_2021.replace(to_replace=['Small Towns', 'Andhra Pradesh'], value='Andhra Pradesh', inplace=True)\n",
    "data_2021.replace(to_replace=['Hyderebad'], value='Hyderabad', inplace=True)\n",
    "data_2021.replace(to_replace=['Gurugram\\t#REF!'], value='Gurugram', inplace=True)\n",
    "data_2021.replace(to_replace=['The Nilgiris'], value='Nilgiris', inplace=True)\n",
    "data_2021.replace(to_replace=['Dhindsara', 'Haryana','Dhingsara, Haryana'], value='Dhingsara', inplace=True)\n",
    "data_2021.replace(to_replace=['Tirunelveli, Tamilnadu'], value='Tirunelveli', inplace=True)\n",
    "data_2021.replace(to_replace=['Mylapore'], value='Chennai', inplace=True)\n",
    "data_2021.replace(to_replace=['Rajastan'], value='Rajasthan', inplace=True)\n",
    "data_2021.replace(to_replace=['Trivandrum', 'Kerala', 'India'], value='Trivandrum', inplace=True)\n",
    "data_2021.replace(to_replace=['unknown'], value='Undisclosed', inplace=True)\n",
    "\n",
    "\n",
    "\n",
    "#  Renaming some of the headquarters the are not in India to outside india in data 2020\n",
    "data_2021.replace(to_replace=['London', 'New York', ' Mountain View', 'CA ', 'Beijing', '' ], value='Outside_India', inplace=True)\n",
    "data_2021.replace(to_replace=['Online Media\\t#REF!', 'Pharmaceuticals\\t#REF!', 'Food & Beverages', \n",
    "                             'Computer Games', 'Small Towns', ' None', 'None', 'Information Technology & Services'], value='Undisclosed', inplace=True)\n",
    "data_2021.replace(to_replace=['Gurugram\\t#REF!' ], value='Gurugrama', inplace=True)\n",
    "\n",
    "data_2021['HeadQuarter'].fillna('Undisclosed', inplace=True)"
   ]
  },
  {
   "cell_type": "markdown",
   "metadata": {},
   "source": [
    "<b> Currency Conversion<b>"
   ]
  },
  {
   "cell_type": "code",
   "execution_count": 36,
   "metadata": {},
   "outputs": [],
   "source": [
    "# Merge the two sql files \n",
    "\n",
    "df20_21 = pd.concat([data_2020, data_2021], ignore_index=True)"
   ]
  },
  {
   "cell_type": "code",
   "execution_count": 37,
   "metadata": {},
   "outputs": [],
   "source": [
    "# # Create a new column 'Updated_Amount' by filling missing values in 'amount_inr' with 'amount_usd'\n",
    "\n",
    "df20_21['Updated_Amount'] = df20_21['Amount']"
   ]
  },
  {
   "cell_type": "code",
   "execution_count": 38,
   "metadata": {},
   "outputs": [],
   "source": [
    "# # Create a column 'with_$' for values with '$' sign and 'without_$' for values without '$'\n",
    "\n",
    "df20_21['with_$'] = df20_21['Updated_Amount'].apply(lambda x: x if '$' in str(x) else None)\n",
    "df20_21['without_$'] = df20_21['Updated_Amount'].apply(lambda x: x if '$' not in str(x) else None)\n",
    "\n",
    "# # Remove the currency sysmbols and the commas \n",
    "\n",
    "df20_21['with_$'] = df20_21['with_$'].str.replace('$', '')\n",
    "# # Replace 'Undisclosed' values with NaN\n",
    "\n",
    "df20_21['with_$'] = df20_21['with_$'].replace('Undisclosed', np.nan, regex=True)\n",
    "# # Convert the object values into numeric values for calculation\n",
    "\n",
    "df20_21['with_$'] = pd.to_numeric(df20_21['with_$'], errors='coerce')\n",
    "df20_21['without_$'] = pd.to_numeric(df20_21['without_$'], errors='coerce')"
   ]
  },
  {
   "cell_type": "code",
   "execution_count": 39,
   "metadata": {},
   "outputs": [],
   "source": [
    "# # Merge the two Colunms into a new colunm 'without_$' and with_$ together\n",
    "\n",
    "df20_21['Updated_Amount'] = df20_21['without_$'].fillna(df20_21['with_$'])"
   ]
  },
  {
   "cell_type": "code",
   "execution_count": 40,
   "metadata": {},
   "outputs": [],
   "source": [
    "# # drop some new columns created and rename the updated _amount column\n",
    "df20_21.drop(['Amount','with_$','without_$'], axis=1, inplace=True)\n",
    "df20_21.rename(columns={'Updated_Amount':'Amount($)'}, inplace=True)"
   ]
  },
  {
   "cell_type": "code",
   "execution_count": 41,
   "metadata": {},
   "outputs": [],
   "source": [
    "# cheking for duplicates in the csv files 2020 qmd 2021\n",
    "df20_21.duplicated().value_counts()\n",
    "\n",
    "# drop duplicates\n",
    "df20_21.drop_duplicates(keep='first',inplace=True)"
   ]
  },
  {
   "cell_type": "markdown",
   "metadata": {},
   "source": [
    "# Merging All the Files Together"
   ]
  },
  {
   "cell_type": "code",
   "execution_count": 42,
   "metadata": {},
   "outputs": [],
   "source": [
    "# merging  all the tabgles together\n",
    "india_startup_df = pd.concat([data_18_19, df20_21], ignore_index=True)"
   ]
  },
  {
   "cell_type": "code",
   "execution_count": 43,
   "metadata": {},
   "outputs": [],
   "source": [
    "# Filling the missing value in stage column \n",
    "india_startup_df['Sector'].fillna('Unknown', inplace=True)"
   ]
  },
  {
   "cell_type": "code",
   "execution_count": 44,
   "metadata": {},
   "outputs": [],
   "source": [
    "# merging some of the sector data together base on the services they lender \n",
    "india_startup_df.loc[india_startup_df['Sector'].str.contains('Finance'),'Sector']= 'Financial Institution'\n",
    "india_startup_df.loc[india_startup_df['Sector'].str.contains('Education'),'Sector']= 'Education'\n",
    "india_startup_df.loc[india_startup_df['Sector'].str.contains('Health'), 'Sector'] = 'Health Care'\n",
    "india_startup_df.loc[india_startup_df['Sector'].str.contains('Marketing'), 'Sector'] = 'Marketing Services'\n",
    "india_startup_df.loc[india_startup_df['Sector'].str.contains('Commerce'), 'Sector']= 'E-Commerce'\n",
    "india_startup_df.loc[india_startup_df['Sector'].str.contains('Artificial'),'Sector']= 'Artificial intelligence'\n",
    "india_startup_df.loc[india_startup_df['Sector'].str.contains('AI'),'Sector']= 'Artificial intelligence'\n",
    "india_startup_df.loc[india_startup_df['Sector'].str.contains('Farming'),'Sector']= 'Agriculture'\n",
    "india_startup_df.loc[india_startup_df['Sector'].str.contains('Agriculture'),'Sector']= 'Agriculture'\n",
    "india_startup_df.loc[india_startup_df['Sector'].str.contains('Internet'),'Sector']= 'Internet Services'\n",
    "india_startup_df.loc[india_startup_df['Sector'].str.contains('Computer'),'Sector']= 'Technology'\n",
    "india_startup_df.loc[india_startup_df['Sector'].str.contains('Financial'),'Sector']= 'Financial Services'\n",
    "india_startup_df.loc[india_startup_df['Sector'].str.contains('Tech'),'Sector']= 'Technology'\n",
    "india_startup_df.loc[india_startup_df['Sector'].str.contains('Transportation'),'Sector']= 'Transport Services'\n",
    "india_startup_df.loc[india_startup_df['Sector'].str.contains('Software'),'Sector']= 'Technology'\n",
    "india_startup_df.loc[india_startup_df['Sector'].str.contains('Home'),'Sector']= 'Home'\n",
    "india_startup_df.loc[india_startup_df['Sector'].str.contains('SaaS'),'Sector']= 'Internet Services'\n",
    "india_startup_df.loc[india_startup_df['Sector'].str.contains('PaaS'),'Sector']= 'Internest Services'"
   ]
  },
  {
   "cell_type": "markdown",
   "metadata": {},
   "source": [
    "<b> Harmonising and cleaning the stage column<b>"
   ]
  },
  {
   "cell_type": "code",
   "execution_count": 45,
   "metadata": {},
   "outputs": [],
   "source": [
    "# filling the missing values in stage column\n",
    "india_startup_df['Stage'].fillna('Undisclosed', inplace=True)"
   ]
  },
  {
   "cell_type": "code",
   "execution_count": null,
   "metadata": {},
   "outputs": [],
   "source": [
    "# grouping some of the stages together to have one commomn name\n",
    "india_startup_df.loc[india_startup_df['Stage'].str.contains('Series'), 'Stage'] = 'Series'\n",
    "india_startup_df.loc[india_startup_df['Stage'].str.contains('Post series'), 'Stage'] = 'Series'\n",
    "india_startup_df.loc[india_startup_df['Stage'].str.contains('Pre-series'), 'Stage'] = 'Series'\n",
    "india_startup_df.loc[india_startup_df['Stage'].str.contains('seed'), 'Stage'] = 'Seed'\n",
    "india_startup_df.loc[india_startup_df['Stage'].str.contains('Undisclose'), 'Stage'] = 'Undisclosed'\n",
    "india_startup_df.loc[india_startup_df['Stage'].str.contains('series'), 'Stage'] = 'Series'\n",
    "india_startup_df.loc[india_startup_df['Stage'].str.contains('Funding'), 'Stage'] = 'Seed'\n",
    "india_startup_df.loc[india_startup_df['Stage'].str.contains('funding'), 'Stage'] = 'Seed'\n",
    "india_startup_df.loc[india_startup_df['Stage'].str.contains('Seed'), 'Stage'] = 'Seed'\n",
    "india_startup_df.loc[india_startup_df['Stage'].str.contains('Grant'), 'Stage'] = 'Debt'\n",
    "india_startup_df.loc[india_startup_df['Stage'].str.contains('Debt'), 'Stage'] = 'Dept'\n",
    "india_startup_df.loc[india_startup_df['Stage'].str.contains('Seies'), 'Stage'] = 'Series'\n",
    "india_startup_df.loc[india_startup_df['Stage'].str.contains('0'), 'Stage'] = 'Angel'\n",
    "india_startup_df.loc[india_startup_df['Stage'].str.contains('Equity'), 'Stage'] = 'Equity'\n",
    "india_startup_df.loc[india_startup_df['Stage'].str.contains('Edge'), 'Stage'] = 'Bridge'\n",
    "india_startup_df.loc[india_startup_df['Stage'].str.contains('Bridge'), 'Stage'] = 'Bridge'\n",
    "india_startup_df.loc[india_startup_df['Stage'].str.contains('Angel'), 'Stage'] = 'Angel'"
   ]
  },
  {
   "cell_type": "code",
   "execution_count": 46,
   "metadata": {},
   "outputs": [
    {
     "data": {
      "text/html": [
       "<div>\n",
       "<style scoped>\n",
       "    .dataframe tbody tr th:only-of-type {\n",
       "        vertical-align: middle;\n",
       "    }\n",
       "\n",
       "    .dataframe tbody tr th {\n",
       "        vertical-align: top;\n",
       "    }\n",
       "\n",
       "    .dataframe thead th {\n",
       "        text-align: right;\n",
       "    }\n",
       "</style>\n",
       "<table border=\"1\" class=\"dataframe\">\n",
       "  <thead>\n",
       "    <tr style=\"text-align: right;\">\n",
       "      <th></th>\n",
       "      <th>Company_Brand</th>\n",
       "      <th>Sector</th>\n",
       "      <th>Stage</th>\n",
       "      <th>BIO</th>\n",
       "      <th>Year</th>\n",
       "      <th>HeadQuarter</th>\n",
       "      <th>Founded</th>\n",
       "      <th>Founders</th>\n",
       "      <th>Investor</th>\n",
       "      <th>Amount($)</th>\n",
       "    </tr>\n",
       "  </thead>\n",
       "  <tbody>\n",
       "    <tr>\n",
       "      <th>0</th>\n",
       "      <td>TheCollegeFever</td>\n",
       "      <td>Marketing Services</td>\n",
       "      <td>Seed</td>\n",
       "      <td>TheCollegeFever is a hub for fun, fiesta and f...</td>\n",
       "      <td>2018</td>\n",
       "      <td>Bangalore</td>\n",
       "      <td>NaN</td>\n",
       "      <td>NaN</td>\n",
       "      <td>NaN</td>\n",
       "      <td>250000.0</td>\n",
       "    </tr>\n",
       "    <tr>\n",
       "      <th>1</th>\n",
       "      <td>Happy Cow Dairy</td>\n",
       "      <td>Agriculture</td>\n",
       "      <td>Seed</td>\n",
       "      <td>A startup which aggregates milk from dairy far...</td>\n",
       "      <td>2018</td>\n",
       "      <td>Mumbai</td>\n",
       "      <td>NaN</td>\n",
       "      <td>NaN</td>\n",
       "      <td>NaN</td>\n",
       "      <td>40000000.0</td>\n",
       "    </tr>\n",
       "    <tr>\n",
       "      <th>2</th>\n",
       "      <td>MyLoanCare</td>\n",
       "      <td>Financial Services</td>\n",
       "      <td>Series A</td>\n",
       "      <td>Leading Online Loans Marketplace in India</td>\n",
       "      <td>2018</td>\n",
       "      <td>Gurgaon</td>\n",
       "      <td>NaN</td>\n",
       "      <td>NaN</td>\n",
       "      <td>NaN</td>\n",
       "      <td>65000000.0</td>\n",
       "    </tr>\n",
       "    <tr>\n",
       "      <th>3</th>\n",
       "      <td>PayMe India</td>\n",
       "      <td>Financial Services</td>\n",
       "      <td>Angel</td>\n",
       "      <td>PayMe India is an innovative FinTech organizat...</td>\n",
       "      <td>2018</td>\n",
       "      <td>Noida</td>\n",
       "      <td>NaN</td>\n",
       "      <td>NaN</td>\n",
       "      <td>NaN</td>\n",
       "      <td>2000000.0</td>\n",
       "    </tr>\n",
       "    <tr>\n",
       "      <th>4</th>\n",
       "      <td>Eunimart</td>\n",
       "      <td>E-Commerce</td>\n",
       "      <td>Seed</td>\n",
       "      <td>Eunimart is a one stop solution for merchants ...</td>\n",
       "      <td>2018</td>\n",
       "      <td>Hyderabad</td>\n",
       "      <td>NaN</td>\n",
       "      <td>NaN</td>\n",
       "      <td>NaN</td>\n",
       "      <td>NaN</td>\n",
       "    </tr>\n",
       "    <tr>\n",
       "      <th>...</th>\n",
       "      <td>...</td>\n",
       "      <td>...</td>\n",
       "      <td>...</td>\n",
       "      <td>...</td>\n",
       "      <td>...</td>\n",
       "      <td>...</td>\n",
       "      <td>...</td>\n",
       "      <td>...</td>\n",
       "      <td>...</td>\n",
       "      <td>...</td>\n",
       "    </tr>\n",
       "    <tr>\n",
       "      <th>2842</th>\n",
       "      <td>Gigforce</td>\n",
       "      <td>Staffing &amp; Recruiting</td>\n",
       "      <td>Pre-series A</td>\n",
       "      <td>A gig/on-demand staffing company.</td>\n",
       "      <td>2021</td>\n",
       "      <td>Gurugram</td>\n",
       "      <td>NaN</td>\n",
       "      <td>NaN</td>\n",
       "      <td>NaN</td>\n",
       "      <td>3000000.0</td>\n",
       "    </tr>\n",
       "    <tr>\n",
       "      <th>2843</th>\n",
       "      <td>Vahdam</td>\n",
       "      <td>Undisclosed</td>\n",
       "      <td>Series D</td>\n",
       "      <td>VAHDAM is among the world’s first vertically i...</td>\n",
       "      <td>2021</td>\n",
       "      <td>Delhi</td>\n",
       "      <td>NaN</td>\n",
       "      <td>NaN</td>\n",
       "      <td>NaN</td>\n",
       "      <td>20000000.0</td>\n",
       "    </tr>\n",
       "    <tr>\n",
       "      <th>2844</th>\n",
       "      <td>Leap Finance</td>\n",
       "      <td>Financial Services</td>\n",
       "      <td>Series C</td>\n",
       "      <td>International education loans for high potenti...</td>\n",
       "      <td>2021</td>\n",
       "      <td>Bangalore</td>\n",
       "      <td>NaN</td>\n",
       "      <td>NaN</td>\n",
       "      <td>NaN</td>\n",
       "      <td>55000000.0</td>\n",
       "    </tr>\n",
       "    <tr>\n",
       "      <th>2845</th>\n",
       "      <td>CollegeDekho</td>\n",
       "      <td>Technology</td>\n",
       "      <td>Series B</td>\n",
       "      <td>Collegedekho.com is Student’s Partner, Friend ...</td>\n",
       "      <td>2021</td>\n",
       "      <td>Gurugram</td>\n",
       "      <td>NaN</td>\n",
       "      <td>NaN</td>\n",
       "      <td>NaN</td>\n",
       "      <td>26000000.0</td>\n",
       "    </tr>\n",
       "    <tr>\n",
       "      <th>2846</th>\n",
       "      <td>WeRize</td>\n",
       "      <td>Financial Services</td>\n",
       "      <td>Series A</td>\n",
       "      <td>India’s first socially distributed full stack ...</td>\n",
       "      <td>2021</td>\n",
       "      <td>Bangalore</td>\n",
       "      <td>NaN</td>\n",
       "      <td>NaN</td>\n",
       "      <td>NaN</td>\n",
       "      <td>8000000.0</td>\n",
       "    </tr>\n",
       "  </tbody>\n",
       "</table>\n",
       "<p>2846 rows × 10 columns</p>\n",
       "</div>"
      ],
      "text/plain": [
       "        Company_Brand                 Sector         Stage  \\\n",
       "0     TheCollegeFever     Marketing Services          Seed   \n",
       "1     Happy Cow Dairy            Agriculture          Seed   \n",
       "2          MyLoanCare     Financial Services      Series A   \n",
       "3         PayMe India     Financial Services         Angel   \n",
       "4            Eunimart             E-Commerce          Seed   \n",
       "...               ...                    ...           ...   \n",
       "2842         Gigforce  Staffing & Recruiting  Pre-series A   \n",
       "2843           Vahdam            Undisclosed      Series D   \n",
       "2844     Leap Finance     Financial Services      Series C   \n",
       "2845     CollegeDekho             Technology      Series B   \n",
       "2846           WeRize     Financial Services      Series A   \n",
       "\n",
       "                                                    BIO  Year HeadQuarter  \\\n",
       "0     TheCollegeFever is a hub for fun, fiesta and f...  2018   Bangalore   \n",
       "1     A startup which aggregates milk from dairy far...  2018      Mumbai   \n",
       "2             Leading Online Loans Marketplace in India  2018     Gurgaon   \n",
       "3     PayMe India is an innovative FinTech organizat...  2018       Noida   \n",
       "4     Eunimart is a one stop solution for merchants ...  2018   Hyderabad   \n",
       "...                                                 ...   ...         ...   \n",
       "2842                  A gig/on-demand staffing company.  2021    Gurugram   \n",
       "2843  VAHDAM is among the world’s first vertically i...  2021       Delhi   \n",
       "2844  International education loans for high potenti...  2021   Bangalore   \n",
       "2845  Collegedekho.com is Student’s Partner, Friend ...  2021    Gurugram   \n",
       "2846  India’s first socially distributed full stack ...  2021   Bangalore   \n",
       "\n",
       "      Founded Founders Investor   Amount($)  \n",
       "0         NaN      NaN      NaN    250000.0  \n",
       "1         NaN      NaN      NaN  40000000.0  \n",
       "2         NaN      NaN      NaN  65000000.0  \n",
       "3         NaN      NaN      NaN   2000000.0  \n",
       "4         NaN      NaN      NaN         NaN  \n",
       "...       ...      ...      ...         ...  \n",
       "2842      NaN      NaN      NaN   3000000.0  \n",
       "2843      NaN      NaN      NaN  20000000.0  \n",
       "2844      NaN      NaN      NaN  55000000.0  \n",
       "2845      NaN      NaN      NaN  26000000.0  \n",
       "2846      NaN      NaN      NaN   8000000.0  \n",
       "\n",
       "[2846 rows x 10 columns]"
      ]
     },
     "execution_count": 46,
     "metadata": {},
     "output_type": "execute_result"
    }
   ],
   "source": [
    "india_startup_df[india_startup_df['Stage'].str.startswith('https') == False]"
   ]
  },
  {
   "cell_type": "markdown",
   "metadata": {},
   "source": [
    "# ANALYSIS - ANWERING ANALYTICAL QUESTIONS ON THE DATA"
   ]
  },
  {
   "cell_type": "markdown",
   "metadata": {},
   "source": [
    "\n",
    "QUESTION 1\n",
    " which Headquarter has the most populated start up location"
   ]
  },
  {
   "cell_type": "code",
   "execution_count": 47,
   "metadata": {},
   "outputs": [
    {
     "data": {
      "text/html": [
       "<div>\n",
       "<style scoped>\n",
       "    .dataframe tbody tr th:only-of-type {\n",
       "        vertical-align: middle;\n",
       "    }\n",
       "\n",
       "    .dataframe tbody tr th {\n",
       "        vertical-align: top;\n",
       "    }\n",
       "\n",
       "    .dataframe thead th {\n",
       "        text-align: right;\n",
       "    }\n",
       "</style>\n",
       "<table border=\"1\" class=\"dataframe\">\n",
       "  <thead>\n",
       "    <tr style=\"text-align: right;\">\n",
       "      <th></th>\n",
       "      <th>HeadQuarter</th>\n",
       "      <th>Sector</th>\n",
       "    </tr>\n",
       "  </thead>\n",
       "  <tbody>\n",
       "    <tr>\n",
       "      <th>8</th>\n",
       "      <td>Bangalore</td>\n",
       "      <td>862</td>\n",
       "    </tr>\n",
       "    <tr>\n",
       "      <th>61</th>\n",
       "      <td>Mumbai</td>\n",
       "      <td>469</td>\n",
       "    </tr>\n",
       "    <tr>\n",
       "      <th>23</th>\n",
       "      <td>Delhi</td>\n",
       "      <td>315</td>\n",
       "    </tr>\n",
       "    <tr>\n",
       "      <th>35</th>\n",
       "      <td>Gurugram</td>\n",
       "      <td>239</td>\n",
       "    </tr>\n",
       "    <tr>\n",
       "      <th>19</th>\n",
       "      <td>Chennai</td>\n",
       "      <td>105</td>\n",
       "    </tr>\n",
       "  </tbody>\n",
       "</table>\n",
       "</div>"
      ],
      "text/plain": [
       "   HeadQuarter  Sector\n",
       "8    Bangalore     862\n",
       "61      Mumbai     469\n",
       "23       Delhi     315\n",
       "35    Gurugram     239\n",
       "19     Chennai     105"
      ]
     },
     "execution_count": 47,
     "metadata": {},
     "output_type": "execute_result"
    }
   ],
   "source": [
    "most_pop_location = india_startup_df.groupby('HeadQuarter')['Sector'].count().reset_index()\n",
    "most_pop_location = most_pop_location.sort_values(by='Sector', ascending = False)\n",
    "most_pop_location.head(5)"
   ]
  },
  {
   "cell_type": "code",
   "execution_count": 50,
   "metadata": {},
   "outputs": [
    {
     "data": {
      "image/png": "[encoded data removed]",
      "text/plain": [
       "<Figure size 700x400 with 1 Axes>"
      ]
     },
     "metadata": {},
     "output_type": "display_data"
    }
   ],
   "source": [
    "plt.figure(figsize=(7, 4))\n",
    "plt.title('Headquarter that has the most start-up')\n",
    "plt.style.use('fivethirtyeight')\n",
    "sns.barplot(y='HeadQuarter', x='Sector', palette=None, data=most_pop_location.iloc[:5], orient='h', hue='HeadQuarter')\n",
    "\n",
    "plt.ylabel('HeadQuarter')\n",
    "plt.xlabel('Total number of sectors')\n",
    "plt.show()"
   ]
  },
  {
   "cell_type": "markdown",
   "metadata": {},
   "source": [
    "Question 2\n",
    "<b> top 10 headquarter that has the highest start up funding<b>"
   ]
  },
  {
   "cell_type": "code",
   "execution_count": 51,
   "metadata": {},
   "outputs": [
    {
     "data": {
      "text/html": [
       "<div>\n",
       "<style scoped>\n",
       "    .dataframe tbody tr th:only-of-type {\n",
       "        vertical-align: middle;\n",
       "    }\n",
       "\n",
       "    .dataframe tbody tr th {\n",
       "        vertical-align: top;\n",
       "    }\n",
       "\n",
       "    .dataframe thead th {\n",
       "        text-align: right;\n",
       "    }\n",
       "</style>\n",
       "<table border=\"1\" class=\"dataframe\">\n",
       "  <thead>\n",
       "    <tr style=\"text-align: right;\">\n",
       "      <th></th>\n",
       "      <th>HeadQuarter</th>\n",
       "      <th>Amount($)</th>\n",
       "    </tr>\n",
       "  </thead>\n",
       "  <tbody>\n",
       "    <tr>\n",
       "      <th>61</th>\n",
       "      <td>Mumbai</td>\n",
       "      <td>9.950212e+10</td>\n",
       "    </tr>\n",
       "    <tr>\n",
       "      <th>8</th>\n",
       "      <td>Bangalore</td>\n",
       "      <td>2.247874e+10</td>\n",
       "    </tr>\n",
       "    <tr>\n",
       "      <th>37</th>\n",
       "      <td>Haryana</td>\n",
       "      <td>2.073980e+10</td>\n",
       "    </tr>\n",
       "    <tr>\n",
       "      <th>23</th>\n",
       "      <td>Delhi</td>\n",
       "      <td>1.910667e+10</td>\n",
       "    </tr>\n",
       "    <tr>\n",
       "      <th>12</th>\n",
       "      <td>Bengaluru</td>\n",
       "      <td>8.732550e+09</td>\n",
       "    </tr>\n",
       "    <tr>\n",
       "      <th>34</th>\n",
       "      <td>Gurgaon</td>\n",
       "      <td>6.653433e+09</td>\n",
       "    </tr>\n",
       "    <tr>\n",
       "      <th>41</th>\n",
       "      <td>Jaipur</td>\n",
       "      <td>6.006575e+09</td>\n",
       "    </tr>\n",
       "    <tr>\n",
       "      <th>35</th>\n",
       "      <td>Gurugram</td>\n",
       "      <td>4.833832e+09</td>\n",
       "    </tr>\n",
       "    <tr>\n",
       "      <th>68</th>\n",
       "      <td>Outside India</td>\n",
       "      <td>4.221500e+09</td>\n",
       "    </tr>\n",
       "    <tr>\n",
       "      <th>73</th>\n",
       "      <td>Pune</td>\n",
       "      <td>2.109737e+09</td>\n",
       "    </tr>\n",
       "  </tbody>\n",
       "</table>\n",
       "</div>"
      ],
      "text/plain": [
       "      HeadQuarter     Amount($)\n",
       "61         Mumbai  9.950212e+10\n",
       "8       Bangalore  2.247874e+10\n",
       "37        Haryana  2.073980e+10\n",
       "23          Delhi  1.910667e+10\n",
       "12      Bengaluru  8.732550e+09\n",
       "34        Gurgaon  6.653433e+09\n",
       "41         Jaipur  6.006575e+09\n",
       "35       Gurugram  4.833832e+09\n",
       "68  Outside India  4.221500e+09\n",
       "73           Pune  2.109737e+09"
      ]
     },
     "execution_count": 51,
     "metadata": {},
     "output_type": "execute_result"
    }
   ],
   "source": [
    "top_10_startup_amount = india_startup_df.groupby('HeadQuarter')['Amount($)'].sum().reset_index()\n",
    "top_10_startup_amount = top_10_startup_amount.sort_values(by='Amount($)', ascending=False)\n",
    "top_10_startup_amount.head(10)"
   ]
  },
  {
   "cell_type": "code",
   "execution_count": 52,
   "metadata": {},
   "outputs": [
    {
     "data": {
      "text/plain": [
       "<function matplotlib.pyplot.show(close=None, block=None)>"
      ]
     },
     "execution_count": 52,
     "metadata": {},
     "output_type": "execute_result"
    },
    {
     "data": {
      "image/png": "[encoded data removed]",
      "text/plain": [
       "<Figure size 700x400 with 1 Axes>"
      ]
     },
     "metadata": {},
     "output_type": "display_data"
    }
   ],
   "source": [
    "plt.figure(figsize=(7,4))\n",
    "plt.title('Top 10 headquarter with the highest start up funding')\n",
    "plt.style.use('fivethirtyeight')\n",
    "sns.barplot(x='Amount($)',y='HeadQuarter', palette='Blues_d', data=top_10_startup_amount.iloc[:10])\n",
    "\n",
    "plt.ylabel('HeadQuarters')\n",
    "plt.xlabel('Total Amount')\n",
    "\n",
    "plt.show"
   ]
  },
  {
   "cell_type": "code",
   "execution_count": null,
   "metadata": {},
   "outputs": [],
   "source": [
    "Question 3 <b>top 10 sector that recieve the highest start up funding<b>"
   ]
  },
  {
   "cell_type": "code",
   "execution_count": 55,
   "metadata": {},
   "outputs": [
    {
     "data": {
      "text/html": [
       "<div>\n",
       "<style scoped>\n",
       "    .dataframe tbody tr th:only-of-type {\n",
       "        vertical-align: middle;\n",
       "    }\n",
       "\n",
       "    .dataframe tbody tr th {\n",
       "        vertical-align: top;\n",
       "    }\n",
       "\n",
       "    .dataframe thead th {\n",
       "        text-align: right;\n",
       "    }\n",
       "</style>\n",
       "<table border=\"1\" class=\"dataframe\">\n",
       "  <thead>\n",
       "    <tr style=\"text-align: right;\">\n",
       "      <th></th>\n",
       "      <th>Sector</th>\n",
       "      <th>Amount($)</th>\n",
       "    </tr>\n",
       "  </thead>\n",
       "  <tbody>\n",
       "    <tr>\n",
       "      <th>441</th>\n",
       "      <td>Retail</td>\n",
       "      <td>7.047448e+10</td>\n",
       "    </tr>\n",
       "    <tr>\n",
       "      <th>243</th>\n",
       "      <td>Financial Services</td>\n",
       "      <td>3.372333e+10</td>\n",
       "    </tr>\n",
       "    <tr>\n",
       "      <th>12</th>\n",
       "      <td>Aerospace</td>\n",
       "      <td>2.000000e+10</td>\n",
       "    </tr>\n",
       "    <tr>\n",
       "      <th>481</th>\n",
       "      <td>Technology</td>\n",
       "      <td>1.833937e+10</td>\n",
       "    </tr>\n",
       "    <tr>\n",
       "      <th>329</th>\n",
       "      <td>Internet Services</td>\n",
       "      <td>5.087982e+09</td>\n",
       "    </tr>\n",
       "    <tr>\n",
       "      <th>190</th>\n",
       "      <td>E-Commerce</td>\n",
       "      <td>3.396960e+09</td>\n",
       "    </tr>\n",
       "    <tr>\n",
       "      <th>296</th>\n",
       "      <td>Health Care</td>\n",
       "      <td>2.734647e+09</td>\n",
       "    </tr>\n",
       "    <tr>\n",
       "      <th>497</th>\n",
       "      <td>Transport Services</td>\n",
       "      <td>2.428250e+09</td>\n",
       "    </tr>\n",
       "    <tr>\n",
       "      <th>299</th>\n",
       "      <td>Home</td>\n",
       "      <td>2.272200e+09</td>\n",
       "    </tr>\n",
       "    <tr>\n",
       "      <th>388</th>\n",
       "      <td>Multinational conglomerate company</td>\n",
       "      <td>2.200000e+09</td>\n",
       "    </tr>\n",
       "  </tbody>\n",
       "</table>\n",
       "</div>"
      ],
      "text/plain": [
       "                                 Sector     Amount($)\n",
       "441                              Retail  7.047448e+10\n",
       "243                  Financial Services  3.372333e+10\n",
       "12                            Aerospace  2.000000e+10\n",
       "481                          Technology  1.833937e+10\n",
       "329                   Internet Services  5.087982e+09\n",
       "190                          E-Commerce  3.396960e+09\n",
       "296                         Health Care  2.734647e+09\n",
       "497                  Transport Services  2.428250e+09\n",
       "299                                Home  2.272200e+09\n",
       "388  Multinational conglomerate company  2.200000e+09"
      ]
     },
     "execution_count": 55,
     "metadata": {},
     "output_type": "execute_result"
    }
   ],
   "source": [
    "top_10_sector_amount = india_startup_df.groupby('Sector')['Amount($)'].sum().reset_index()\n",
    "top_10_sector_amount = top_10_sector_amount.sort_values(by='Amount($)', ascending=False)\n",
    "top_10_sector_amount.head(10)"
   ]
  },
  {
   "cell_type": "code",
   "execution_count": 56,
   "metadata": {},
   "outputs": [
    {
     "data": {
      "text/plain": [
       "<function matplotlib.pyplot.show(close=None, block=None)>"
      ]
     },
     "execution_count": 56,
     "metadata": {},
     "output_type": "execute_result"
    },
    {
     "data": {
      "image/png": "[encoded data removed]",
      "text/plain": [
       "<Figure size 700x400 with 1 Axes>"
      ]
     },
     "metadata": {},
     "output_type": "display_data"
    }
   ],
   "source": [
    "plt.figure(figsize=(7,4))\n",
    "plt.title('Top 10 sector with highest funding')\n",
    "plt.style.use('fivethirtyeight')\n",
    "\n",
    "sns.barplot(y='Sector', x='Amount($)', palette=None, data=top_10_sector_amount.iloc[:10])\n",
    "\n",
    "plt.ylabel('Sector')\n",
    "plt.xlabel('Amount')  \n",
    "\n",
    "plt.show"
   ]
  },
  {
   "cell_type": "markdown",
   "metadata": {},
   "source": [
    "Question 4\n",
    "<b>Which year recieved has the most start up funding<b>"
   ]
  },
  {
   "cell_type": "code",
   "execution_count": 57,
   "metadata": {},
   "outputs": [
    {
     "data": {
      "text/plain": [
       "203393139295.0"
      ]
     },
     "execution_count": 57,
     "metadata": {},
     "output_type": "execute_result"
    }
   ],
   "source": [
    "india_startup_df['Amount($)'].sum()"
   ]
  },
  {
   "cell_type": "code",
   "execution_count": 58,
   "metadata": {},
   "outputs": [
    {
     "data": {
      "text/html": [
       "<div>\n",
       "<style scoped>\n",
       "    .dataframe tbody tr th:only-of-type {\n",
       "        vertical-align: middle;\n",
       "    }\n",
       "\n",
       "    .dataframe tbody tr th {\n",
       "        vertical-align: top;\n",
       "    }\n",
       "\n",
       "    .dataframe thead th {\n",
       "        text-align: right;\n",
       "    }\n",
       "</style>\n",
       "<table border=\"1\" class=\"dataframe\">\n",
       "  <thead>\n",
       "    <tr style=\"text-align: right;\">\n",
       "      <th></th>\n",
       "      <th>Year</th>\n",
       "      <th>Amount($)</th>\n",
       "    </tr>\n",
       "  </thead>\n",
       "  <tbody>\n",
       "    <tr>\n",
       "      <th>0</th>\n",
       "      <td>2018</td>\n",
       "      <td>2.398020e+08</td>\n",
       "    </tr>\n",
       "    <tr>\n",
       "      <th>2</th>\n",
       "      <td>2020</td>\n",
       "      <td>1.127288e+08</td>\n",
       "    </tr>\n",
       "    <tr>\n",
       "      <th>1</th>\n",
       "      <td>2019</td>\n",
       "      <td>4.333030e+07</td>\n",
       "    </tr>\n",
       "    <tr>\n",
       "      <th>3</th>\n",
       "      <td>2021</td>\n",
       "      <td>2.841682e+07</td>\n",
       "    </tr>\n",
       "  </tbody>\n",
       "</table>\n",
       "</div>"
      ],
      "text/plain": [
       "   Year     Amount($)\n",
       "0  2018  2.398020e+08\n",
       "2  2020  1.127288e+08\n",
       "1  2019  4.333030e+07\n",
       "3  2021  2.841682e+07"
      ]
     },
     "execution_count": 58,
     "metadata": {},
     "output_type": "execute_result"
    }
   ],
   "source": [
    "year_startup_funding=india_startup_df.groupby('Year')['Amount($)'].mean().reset_index()\n",
    "year_startup_funding=year_startup_funding.sort_values(by='Amount($)', ascending=False)\n",
    "year_startup_funding"
   ]
  },
  {
   "cell_type": "code",
   "execution_count": 59,
   "metadata": {},
   "outputs": [
    {
     "data": {
      "text/plain": [
       "<function matplotlib.pyplot.show(close=None, block=None)>"
      ]
     },
     "execution_count": 59,
     "metadata": {},
     "output_type": "execute_result"
    },
    {
     "data": {
      "image/png": "[encoded data removed]",
      "text/plain": [
       "<Figure size 700x400 with 1 Axes>"
      ]
     },
     "metadata": {},
     "output_type": "display_data"
    }
   ],
   "source": [
    "plt.figure(figsize=(7,4))\n",
    "\n",
    "sns.barplot(y='Year',x='Amount($)',palette=None, data=year_startup_funding)\n",
    "\n",
    "plt.show"
   ]
  },
  {
   "cell_type": "markdown",
   "metadata": {},
   "source": [
    "Question 5 <b>What is the funding trend in the Indian start-up ecosystem over the past few years<b>"
   ]
  },
  {
   "cell_type": "code",
   "execution_count": 60,
   "metadata": {},
   "outputs": [],
   "source": [
    "# Get the Sum\n",
    "\n",
    "total_funding = india_startup_df.groupby('Year')['Amount($)'].mean()"
   ]
  },
  {
   "cell_type": "code",
   "execution_count": 61,
   "metadata": {},
   "outputs": [
    {
     "data": {
      "image/png": "[encoded data removed]",
      "text/plain": [
       "<Figure size 1000x600 with 1 Axes>"
      ]
     },
     "metadata": {},
     "output_type": "display_data"
    }
   ],
   "source": [
    "# Plot the time series\n",
    "plt.figure(figsize=(10, 6))\n",
    "plt.plot(total_funding.index, total_funding.values, marker='o', linestyle='-', color='b')\n",
    "plt.xlabel('Year')\n",
    "plt.ylabel('Average Funding Amount (in millions)')\n",
    "plt.title('Average Funding Trend Over Four Years (2018-2021)')\n",
    "plt.grid(True)\n",
    "plt.show()"
   ]
  },
  {
   "cell_type": "markdown",
   "metadata": {},
   "source": [
    "# HYPOTHESIS"
   ]
  },
  {
   "cell_type": "markdown",
   "metadata": {},
   "source": [
    "Ho: Location of a sector dose not have an impact on the amount of funding\n",
    "\n",
    "H1: Locattion of a sector has an impact on the amount of funding"
   ]
  },
  {
   "cell_type": "markdown",
   "metadata": {},
   "source": [
    "From the analysis we find out that location has no effect on the amount of start of funding because Bangalore has the highest sector location but Mumbai has the highest start-up funding"
   ]
  },
  {
   "cell_type": "code",
   "execution_count": null,
   "metadata": {},
   "outputs": [],
   "source": []
  },
  {
   "cell_type": "code",
   "execution_count": 62,
   "metadata": {},
   "outputs": [
    {
     "name": "stdout",
     "output_type": "stream",
     "text": [
      "CSV file 'indian_start_up.csv' has been created.\n"
     ]
    }
   ],
   "source": [
    "import pandas as pd\n",
    "from io import StringIO\n",
    "\n",
    "# Assuming india_startup_df is your DataFrame\n",
    "\n",
    "# Convert the DataFrame to a CSV-formatted string\n",
    "csv_data = india_startup_df.to_csv(index=False)\n",
    "\n",
    "# Read the CSV-formatted string using StringIO\n",
    "df = pd.read_csv(StringIO(csv_data))\n",
    "\n",
    "# Specify the file path where you want to save the CSV file\n",
    "csv_file_path = \"indian_start_up.csv\"\n",
    "\n",
    "# Write the DataFrame to a CSV file\n",
    "df.to_csv(csv_file_path, index=False)\n",
    "\n",
    "print(f\"CSV file '{csv_file_path}' has been created.\")"
   ]
  }
 ],
 "metadata": {
  "kernelspec": {
   "display_name": "Python 3",
   "language": "python",
   "name": "python3"
  },
  "language_info": {
   "codemirror_mode": {
    "name": "ipython",
    "version": 3
   },
   "file_extension": ".py",
   "mimetype": "text/x-python",
   "name": "python",
   "nbconvert_exporter": "python",
   "pygments_lexer": "ipython3",
   "version": "3.11.6"
  }
 },
 "nbformat": 4,
 "nbformat_minor": 2
}
