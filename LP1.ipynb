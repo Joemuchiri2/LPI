{
 "cells": [
  {
   "cell_type": "markdown",
   "metadata": {},
   "source": [
    "# Import all the Packages you will need "
   ]
  },
  {
   "cell_type": "code",
   "execution_count": 121,
   "metadata": {},
   "outputs": [],
   "source": [
    "import pyodbc\n",
    "from dotenv import dotenv_values\n",
    "import pandas as pd \n",
    "import numpy as np\n",
    "from scipy import stats\n",
    "import statistics as stat\n",
    "import warnings\n",
    "import os\n",
    "\n",
    "warnings.filterwarnings('ignore')"
   ]
  },
  {
   "cell_type": "markdown",
   "metadata": {},
   "source": [
    "# Load the Environments and get the variables form your.env file "
   ]
  },
  {
   "cell_type": "code",
   "execution_count": 122,
   "metadata": {},
   "outputs": [],
   "source": [
    "# Load environment variables from .env file into a dictionary\n",
    "environment_variables = dotenv_values('.env')\n",
    "\n",
    "\n",
    "# Get the values for the credentials you set in the '.env' file\n",
    "server = environment_variables.get(\"SERVER\")\n",
    "database = environment_variables.get(\"DATABASE\")\n",
    "username = environment_variables.get(\"USERNAME\")\n",
    "password = environment_variables.get(\"PASSWORD\")"
   ]
  },
  {
   "cell_type": "code",
   "execution_count": 123,
   "metadata": {},
   "outputs": [],
   "source": [
    "conn_str =f\"DRIVER={{SQL Server}};SERVER={server};DATABASE={database};UID={username};PWD={password}\""
   ]
  },
  {
   "cell_type": "markdown",
   "metadata": {},
   "source": [
    "# Make the Connection and Read the Tables"
   ]
  },
  {
   "cell_type": "code",
   "execution_count": 124,
   "metadata": {},
   "outputs": [],
   "source": [
    "connection = pyodbc.connect(conn_str)\n",
    "\n",
    "query1 = \"Select * from LP1_startup_funding2020\"\n",
    "data2020 = pd.read_sql(query1, connection)\n",
    "\n",
    "query2 = \"Select * from LP1_startup_funding2021\"\n",
    "data2021 = pd.read_sql(query2, connection)"
   ]
  },
  {
   "cell_type": "markdown",
   "metadata": {},
   "source": [
    "# Read the csv "
   ]
  },
  {
   "cell_type": "code",
   "execution_count": 125,
   "metadata": {},
   "outputs": [],
   "source": [
    "df2018 = pd.read_csv('startup_funding2018.csv')\n",
    "\n",
    "df2019 = pd.read_csv('startup_funding2019.csv')"
   ]
  },
  {
   "cell_type": "markdown",
   "metadata": {},
   "source": [
    "# Drop Colunms that are not going to be needed in the project and also the Empty Colunms "
   ]
  },
  {
   "cell_type": "code",
   "execution_count": 126,
   "metadata": {},
   "outputs": [],
   "source": [
    "\n",
    "df2019.drop(['Founded', 'Founders', 'Investor'], axis=1, inplace=True)\n",
    "data2020.drop(['Founded', 'Founders', 'Investor'], axis=1, inplace=True)\n",
    "data2021.drop(['Founded', 'Founders', 'Investor'], axis=1, inplace=True)\n"
   ]
  },
  {
   "cell_type": "code",
   "execution_count": 127,
   "metadata": {},
   "outputs": [],
   "source": [
    "data2020.drop('column10', axis=1, inplace=True)\n"
   ]
  },
  {
   "cell_type": "markdown",
   "metadata": {},
   "source": [
    "# Remove the dollar sign from the 'Amount($)' column"
   ]
  },
  {
   "cell_type": "code",
   "execution_count": 128,
   "metadata": {},
   "outputs": [],
   "source": [
    "df2019['Amount($)'] = df2019['Amount($)'].str.replace('$', '')\n"
   ]
  },
  {
   "cell_type": "markdown",
   "metadata": {},
   "source": [
    "# Add a Year Colunm "
   ]
  },
  {
   "cell_type": "code",
   "execution_count": 129,
   "metadata": {},
   "outputs": [],
   "source": [
    "df2018['Year']='2018'\n",
    "df2019['Year']='2019'\n",
    "data2020['Year']='2020'\n",
    "data2021['Year']='2021'"
   ]
  },
  {
   "cell_type": "code",
   "execution_count": 130,
   "metadata": {},
   "outputs": [
    {
     "data": {
      "text/html": [
       "<div>\n",
       "<style scoped>\n",
       "    .dataframe tbody tr th:only-of-type {\n",
       "        vertical-align: middle;\n",
       "    }\n",
       "\n",
       "    .dataframe tbody tr th {\n",
       "        vertical-align: top;\n",
       "    }\n",
       "\n",
       "    .dataframe thead th {\n",
       "        text-align: right;\n",
       "    }\n",
       "</style>\n",
       "<table border=\"1\" class=\"dataframe\">\n",
       "  <thead>\n",
       "    <tr style=\"text-align: right;\">\n",
       "      <th></th>\n",
       "      <th>Company/Brand</th>\n",
       "      <th>HeadQuarter</th>\n",
       "      <th>Sector</th>\n",
       "      <th>What it does</th>\n",
       "      <th>Amount($)</th>\n",
       "      <th>Stage</th>\n",
       "      <th>Year</th>\n",
       "    </tr>\n",
       "  </thead>\n",
       "  <tbody>\n",
       "    <tr>\n",
       "      <th>0</th>\n",
       "      <td>Bombay Shaving</td>\n",
       "      <td>NaN</td>\n",
       "      <td>Ecommerce</td>\n",
       "      <td>Provides a range of male grooming products</td>\n",
       "      <td>6,300,000</td>\n",
       "      <td>NaN</td>\n",
       "      <td>2019</td>\n",
       "    </tr>\n",
       "    <tr>\n",
       "      <th>1</th>\n",
       "      <td>Ruangguru</td>\n",
       "      <td>Mumbai</td>\n",
       "      <td>Edtech</td>\n",
       "      <td>A learning platform that provides topic-based ...</td>\n",
       "      <td>150,000,000</td>\n",
       "      <td>Series C</td>\n",
       "      <td>2019</td>\n",
       "    </tr>\n",
       "    <tr>\n",
       "      <th>2</th>\n",
       "      <td>Eduisfun</td>\n",
       "      <td>Mumbai</td>\n",
       "      <td>Edtech</td>\n",
       "      <td>It aims to make learning fun via games.</td>\n",
       "      <td>28,000,000</td>\n",
       "      <td>Fresh funding</td>\n",
       "      <td>2019</td>\n",
       "    </tr>\n",
       "    <tr>\n",
       "      <th>3</th>\n",
       "      <td>HomeLane</td>\n",
       "      <td>Chennai</td>\n",
       "      <td>Interior design</td>\n",
       "      <td>Provides interior designing solutions</td>\n",
       "      <td>30,000,000</td>\n",
       "      <td>Series D</td>\n",
       "      <td>2019</td>\n",
       "    </tr>\n",
       "    <tr>\n",
       "      <th>4</th>\n",
       "      <td>Nu Genes</td>\n",
       "      <td>Telangana</td>\n",
       "      <td>AgriTech</td>\n",
       "      <td>It is a seed company engaged in production, pr...</td>\n",
       "      <td>6,000,000</td>\n",
       "      <td>NaN</td>\n",
       "      <td>2019</td>\n",
       "    </tr>\n",
       "  </tbody>\n",
       "</table>\n",
       "</div>"
      ],
      "text/plain": [
       "    Company/Brand HeadQuarter           Sector  \\\n",
       "0  Bombay Shaving         NaN        Ecommerce   \n",
       "1       Ruangguru      Mumbai           Edtech   \n",
       "2        Eduisfun      Mumbai           Edtech   \n",
       "3        HomeLane     Chennai  Interior design   \n",
       "4        Nu Genes   Telangana         AgriTech   \n",
       "\n",
       "                                        What it does    Amount($)  \\\n",
       "0         Provides a range of male grooming products    6,300,000   \n",
       "1  A learning platform that provides topic-based ...  150,000,000   \n",
       "2            It aims to make learning fun via games.   28,000,000   \n",
       "3              Provides interior designing solutions   30,000,000   \n",
       "4  It is a seed company engaged in production, pr...    6,000,000   \n",
       "\n",
       "           Stage  Year  \n",
       "0            NaN  2019  \n",
       "1       Series C  2019  \n",
       "2  Fresh funding  2019  \n",
       "3       Series D  2019  \n",
       "4            NaN  2019  "
      ]
     },
     "execution_count": 130,
     "metadata": {},
     "output_type": "execute_result"
    }
   ],
   "source": [
    "df2019.head()"
   ]
  },
  {
   "cell_type": "code",
   "execution_count": 131,
   "metadata": {},
   "outputs": [],
   "source": [
    "df2018 = df2018[['Company Name', 'Industry', 'Round/Series', 'Amount', 'Location', 'About Company', 'Year']]\n",
    "df2019 = df2019[['Company/Brand', 'Sector',  'Stage', 'Amount($)', 'HeadQuarter', 'What it does', 'Year']]\n",
    "data2020 = data2020[['Company_Brand', 'Sector', 'Stage', 'Amount', 'HeadQuarter', 'What_it_does', 'Year']]\n",
    "data2021 = data2021[['Company_Brand', 'Sector', 'Stage', 'Amount', 'HeadQuarter', 'What_it_does', 'Year']]\n",
    "\n"
   ]
  },
  {
   "cell_type": "code",
   "execution_count": 132,
   "metadata": {},
   "outputs": [
    {
     "data": {
      "text/html": [
       "<div>\n",
       "<style scoped>\n",
       "    .dataframe tbody tr th:only-of-type {\n",
       "        vertical-align: middle;\n",
       "    }\n",
       "\n",
       "    .dataframe tbody tr th {\n",
       "        vertical-align: top;\n",
       "    }\n",
       "\n",
       "    .dataframe thead th {\n",
       "        text-align: right;\n",
       "    }\n",
       "</style>\n",
       "<table border=\"1\" class=\"dataframe\">\n",
       "  <thead>\n",
       "    <tr style=\"text-align: right;\">\n",
       "      <th></th>\n",
       "      <th>Company_Brand</th>\n",
       "      <th>Sector</th>\n",
       "      <th>Stage</th>\n",
       "      <th>Amount</th>\n",
       "      <th>HeadQuarter</th>\n",
       "      <th>What_it_does</th>\n",
       "      <th>Year</th>\n",
       "    </tr>\n",
       "  </thead>\n",
       "  <tbody>\n",
       "    <tr>\n",
       "      <th>0</th>\n",
       "      <td>Aqgromalin</td>\n",
       "      <td>AgriTech</td>\n",
       "      <td>None</td>\n",
       "      <td>200000.0</td>\n",
       "      <td>Chennai</td>\n",
       "      <td>Cultivating Ideas for Profit</td>\n",
       "      <td>2020</td>\n",
       "    </tr>\n",
       "    <tr>\n",
       "      <th>1</th>\n",
       "      <td>Krayonnz</td>\n",
       "      <td>EdTech</td>\n",
       "      <td>Pre-seed</td>\n",
       "      <td>100000.0</td>\n",
       "      <td>Bangalore</td>\n",
       "      <td>An academy-guardian-scholar centric ecosystem ...</td>\n",
       "      <td>2020</td>\n",
       "    </tr>\n",
       "    <tr>\n",
       "      <th>2</th>\n",
       "      <td>PadCare Labs</td>\n",
       "      <td>Hygiene management</td>\n",
       "      <td>Pre-seed</td>\n",
       "      <td>NaN</td>\n",
       "      <td>Pune</td>\n",
       "      <td>Converting bio-hazardous waste to harmless waste</td>\n",
       "      <td>2020</td>\n",
       "    </tr>\n",
       "    <tr>\n",
       "      <th>3</th>\n",
       "      <td>NCOME</td>\n",
       "      <td>Escrow</td>\n",
       "      <td>None</td>\n",
       "      <td>400000.0</td>\n",
       "      <td>New Delhi</td>\n",
       "      <td>Escrow-as-a-service platform</td>\n",
       "      <td>2020</td>\n",
       "    </tr>\n",
       "    <tr>\n",
       "      <th>4</th>\n",
       "      <td>Gramophone</td>\n",
       "      <td>AgriTech</td>\n",
       "      <td>None</td>\n",
       "      <td>340000.0</td>\n",
       "      <td>Indore</td>\n",
       "      <td>Gramophone is an AgTech platform enabling acce...</td>\n",
       "      <td>2020</td>\n",
       "    </tr>\n",
       "  </tbody>\n",
       "</table>\n",
       "</div>"
      ],
      "text/plain": [
       "  Company_Brand              Sector     Stage    Amount HeadQuarter  \\\n",
       "0    Aqgromalin            AgriTech      None  200000.0     Chennai   \n",
       "1      Krayonnz              EdTech  Pre-seed  100000.0   Bangalore   \n",
       "2  PadCare Labs  Hygiene management  Pre-seed       NaN        Pune   \n",
       "3         NCOME              Escrow      None  400000.0   New Delhi   \n",
       "4    Gramophone            AgriTech      None  340000.0      Indore   \n",
       "\n",
       "                                        What_it_does  Year  \n",
       "0                       Cultivating Ideas for Profit  2020  \n",
       "1  An academy-guardian-scholar centric ecosystem ...  2020  \n",
       "2   Converting bio-hazardous waste to harmless waste  2020  \n",
       "3                       Escrow-as-a-service platform  2020  \n",
       "4  Gramophone is an AgTech platform enabling acce...  2020  "
      ]
     },
     "execution_count": 132,
     "metadata": {},
     "output_type": "execute_result"
    }
   ],
   "source": [
    "data2020.head()"
   ]
  },
  {
   "cell_type": "code",
   "execution_count": 133,
   "metadata": {},
   "outputs": [],
   "source": [
    "df2018.columns=[['Company_Brand', 'Sector', 'Round/Series', 'Amount', 'HeadQuarter', 'BIO', 'Year']]\n",
    "df2019.columns=[['Company_Brand', 'Sector',  'Round/Series', 'Amount', 'HeadQuarter', 'BIO', 'Year']]\n",
    "data2020.columns=[['Company_Brand', 'Sector', 'Round/Series', 'Amount', 'HeadQuarter', 'BIO', 'Year']]\n",
    "data2021.columns=[['Company_Brand', 'Sector', 'Round/Series', 'Amount', 'HeadQuarter', 'BIO', 'Year']]"
   ]
  },
  {
   "cell_type": "code",
   "execution_count": 138,
   "metadata": {},
   "outputs": [
    {
     "data": {
      "text/plain": [
       "Company_Brand      0\n",
       "Sector            13\n",
       "Round/Series     464\n",
       "Amount           254\n",
       "HeadQuarter       94\n",
       "BIO                0\n",
       "Year               0\n",
       "dtype: int64"
      ]
     },
     "execution_count": 138,
     "metadata": {},
     "output_type": "execute_result"
    }
   ],
   "source": [
    "data2020.isna().sum()"
   ]
  },
  {
   "cell_type": "code",
   "execution_count": 139,
   "metadata": {},
   "outputs": [
    {
     "data": {
      "text/plain": [
       "Company_Brand      0\n",
       "Sector             0\n",
       "Round/Series     428\n",
       "Amount             3\n",
       "HeadQuarter        1\n",
       "BIO                0\n",
       "Year               0\n",
       "dtype: int64"
      ]
     },
     "execution_count": 139,
     "metadata": {},
     "output_type": "execute_result"
    }
   ],
   "source": [
    "data2021.isna().sum()"
   ]
  },
  {
   "cell_type": "code",
   "execution_count": 140,
   "metadata": {},
   "outputs": [
    {
     "data": {
      "text/plain": [
       "Company_Brand    0\n",
       "Sector           0\n",
       "Round/Series     0\n",
       "Amount           0\n",
       "HeadQuarter      0\n",
       "BIO              0\n",
       "Year             0\n",
       "dtype: int64"
      ]
     },
     "execution_count": 140,
     "metadata": {},
     "output_type": "execute_result"
    }
   ],
   "source": [
    "df2018.isna().sum()"
   ]
  },
  {
   "cell_type": "code",
   "execution_count": 141,
   "metadata": {},
   "outputs": [
    {
     "data": {
      "text/plain": [
       "Company_Brand     0\n",
       "Sector            5\n",
       "Round/Series     46\n",
       "Amount            0\n",
       "HeadQuarter      19\n",
       "BIO               0\n",
       "Year              0\n",
       "dtype: int64"
      ]
     },
     "execution_count": 141,
     "metadata": {},
     "output_type": "execute_result"
    }
   ],
   "source": [
    "df2019.isna().sum()"
   ]
  },
  {
   "cell_type": "markdown",
   "metadata": {},
   "source": [
    "# 1st Hypothesis"
   ]
  },
  {
   "cell_type": "markdown",
   "metadata": {},
   "source": [
    "Hypothesis: The headquarters location of a startup in India (e.g., Chennai, Bangalore, Pune, New Delhi, Indore) has a significant impact on the funding amount it receives.\n",
    "\n",
    "Explanation: You can hypothesize that the location of a startup's headquarters may influence its access to funding. For example, you might expect that startups in major startup hubs like Bangalore receive larger amounts of funding compared to those in smaller cities. You can investigate this hypothesis by performing statistical analysis, such as:\n",
    "\n",
    "ANOVA or Kruskal-Wallis Test: To determine if there are significant differences in funding amounts between startups in different cities.\n",
    "Regression Analysis: To model the relationship between the headquarters location and funding amounts while controlling for other factors like sector and stage."
   ]
  },
  {
   "cell_type": "markdown",
   "metadata": {},
   "source": [
    "# 2nd Hypothesis"
   ]
  },
  {
   "cell_type": "markdown",
   "metadata": {},
   "source": [
    "Hypothesis: Startups in the AgriTech sector in India receive higher average funding amounts compared to startups in other sectors.\n",
    "\n",
    "Explanation: You can hypothesize that the AgriTech sector, given its potential for innovation and growth in India, attracts more significant funding. To test this hypothesis, you can:\n",
    "\n",
    "Calculate the average funding amounts for startups in different sectors.\n",
    "Perform a statistical test, such as a t-test or ANOVA, to determine if there is a significant difference in funding amounts between the AgriTech sector and other sectors."
   ]
  },
  {
   "cell_type": "markdown",
   "metadata": {},
   "source": [
    "# 3rd Hypothesis"
   ]
  },
  {
   "cell_type": "markdown",
   "metadata": {},
   "source": [
    "Hypothesis: The total funding received by Indian startups has been increasing over the years (from 2018 to 2021).\n",
    "\n",
    "Explanation: This hypothesis focuses on the trend in total funding over time. To test this hypothesis, you can:\n",
    "\n",
    "Calculate the total funding received by all startups for each year (2018, 2019, 2020, 2021).\n",
    "Create a time series plot or line chart to visualize the funding trend over the four years."
   ]
  }
 ],
 "metadata": {
  "kernelspec": {
   "display_name": "Python 3",
   "language": "python",
   "name": "python3"
  },
  "language_info": {
   "codemirror_mode": {
    "name": "ipython",
    "version": 3
   },
   "file_extension": ".py",
   "mimetype": "text/x-python",
   "name": "python",
   "nbconvert_exporter": "python",
   "pygments_lexer": "ipython3",
   "version": "3.11.4"
  }
 },
 "nbformat": 4,
 "nbformat_minor": 2
}
